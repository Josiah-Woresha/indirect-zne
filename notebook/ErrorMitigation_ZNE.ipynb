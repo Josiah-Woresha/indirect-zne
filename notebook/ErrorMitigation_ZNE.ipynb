{
 "cells": [
  {
   "cell_type": "markdown",
   "metadata": {},
   "source": [
    "# Error Mitigation: Zero Noise Extrapolation (ZNE) for indirect-control system\n",
    "---"
   ]
  },
  {
   "cell_type": "markdown",
   "metadata": {},
   "source": [
    "_This notebook contains experimental results for Zero Noise Extrapolation (ZNE) in an indirect-control system._"
   ]
  },
  {
   "cell_type": "markdown",
   "metadata": {},
   "source": [
    "Zero-Noise Extrapolation (ZNE) is one of the most widely used techniques in quantum error mitigation to estimate the expectation value of an observable under noise-free conditions. In ZNE, noise is intentionally introduced into the quantum circuit, and the expectation value of the target observable is measured at different noise levels. Once sufficient data is collected, we extrapolate this data to the zero-noise limit.\n",
    "\n",
    "There are several strategies for zero-noise extrapolation, with the Richardson extrapolation technique being perhaps the most common. Here, we adapted the multivariate framework of Richardson extrapolation as discussed in the paper [_\"Quantum error mitigation by layerwise Richardson extrapolation\" by Vincent Russo and Andrea Mari (arXiv:2402.04000, 2024)_](https://arxiv.org/abs/2402.04000)."
   ]
  },
  {
   "cell_type": "markdown",
   "metadata": {},
   "source": [
    "### A. The code for multivariate Richardson extrapolation"
   ]
  },
  {
   "cell_type": "markdown",
   "metadata": {},
   "source": [
    "#### Imports and set up for plot"
   ]
  },
  {
   "cell_type": "code",
   "execution_count": 1,
   "metadata": {},
   "outputs": [],
   "source": [
    "# Importing modules\n",
    "import numpy as np\n",
    "import matplotlib.pyplot as plt\n",
    "from matplotlib.ticker import MaxNLocator\n",
    "from collections import Counter\n",
    "import itertools"
   ]
  },
  {
   "cell_type": "code",
   "execution_count": 56,
   "metadata": {},
   "outputs": [],
   "source": [
    "\"\"\"\n",
    "We have used the multivariate framework for Richardson extrapolation as discussed in the paper \"Quantum error mitigation by layerwise Richardson extrapolation\" by Vincent Russo and Andrea Mari (arXiv:2402.04000, 2024).\n",
    "\n",
    "Parts of the following code are adapted from their notebook, which can be found at the following GitHub repository: https://github.com/unitaryfund/research/blob/main/lre/layerwise_richardson_extrapolation.ipynb.\n",
    "\"\"\"\n",
    "\n",
    "class ZeroNoiseExtrapolation:\n",
    "    def __init__(self, dataPoints: list[tuple[float]], degree: int):\n",
    "        \"\"\"\n",
    "        Initialize with a list of data points, each represented as a tuple of floats.\n",
    "        \"\"\"\n",
    "        self.dataPoints = dataPoints\n",
    "        self.degree = degree\n",
    "\n",
    "        unknown_var = len(dataPoints[0]) - 1\n",
    "        self.NoiseData = [tuple(point[:unknown_var]) for point in self.dataPoints]\n",
    "        self.ExpectationVals = [point[-1] for point in dataPoints]\n",
    "\n",
    "\n",
    "    def getRichardsonZNE(self):\n",
    "\n",
    "        RichardsonZNEval = 0\n",
    "\n",
    "        sampleMatrix = self.sample_matrix(sample_points = self.NoiseData, degree = self.degree) # type: ignore\n",
    "        detA = np.linalg.det(sampleMatrix)\n",
    "\n",
    "        matrices = self.generate_modified_matrices(sampleMatrix) # type: ignore\n",
    "\n",
    "        for E, matrix in zip(self.ExpectationVals, matrices):\n",
    "            RichardsonZNEval += E * (np.linalg.det(matrix)/detA)\n",
    "        \n",
    "        return RichardsonZNEval\n",
    "     \n",
    "    @staticmethod\n",
    "    def get_monomials(n: int, d: int) -> list[str]:\n",
    "        \"\"\"\n",
    "        Compute monomials of degree `d` in graded lexicographical order.\n",
    "        \"\"\"\n",
    "        variables = [f\"λ_{i}\" for i in range(1, n + 1)]\n",
    "        \n",
    "        monomials = []\n",
    "        for degree in range(d, -1, -1):\n",
    "            # Generate combinations for the current degree\n",
    "            combos = list(itertools.combinations_with_replacement(variables, degree))\n",
    "            \n",
    "            # Sort combinations lexicographically\n",
    "            combos.sort()\n",
    "            \n",
    "            # Construct monomials from sorted combinations\n",
    "            for combo in combos:\n",
    "                monomial_parts = []\n",
    "                counts = Counter(combo)\n",
    "                # Ensure variables are processed in lexicographical order\n",
    "                for var in sorted(counts.keys()):\n",
    "                    count = counts[var]\n",
    "                    if count > 1:\n",
    "                        monomial_parts.append(f\"{var}**{count}\")\n",
    "                    else:\n",
    "                        monomial_parts.append(var)\n",
    "                monomial = \"*\".join(monomial_parts)\n",
    "                # Handle the case where degree is 0\n",
    "                if not monomial:\n",
    "                    monomial = \"1\"\n",
    "                monomials.append(monomial)\n",
    "        # \"1\" should be the first monomial. Note that order d > c > b > a means vector of monomials = [a, b, c, d].            \n",
    "        return monomials[::-1]\n",
    "\n",
    "    @staticmethod\n",
    "    def sample_matrix(sample_points: list[int], degree: int) -> np.ndarray:\n",
    "        \"\"\"Construct a matrix from monomials evaluated at sample points.\"\"\"\n",
    "        n = len(sample_points[0])  # type: ignore # Number of variables based on the first sample point\n",
    "        monomials = ZeroNoiseExtrapolation.get_monomials(n, degree) # type: ignore\n",
    "        matrix = np.zeros((len(sample_points), len(monomials)))\n",
    "\n",
    "        for i, point in enumerate(sample_points):\n",
    "            for j, monomial in enumerate(monomials):\n",
    "                var_mapping = {f\"λ_{k+1}\": point[k] for k in range(n)} # type: ignore\n",
    "                matrix[i, j] = eval(monomial, {}, var_mapping)\n",
    "        return matrix\n",
    "\n",
    "    @staticmethod\n",
    "    def generate_modified_matrices(matrix):\n",
    "        \"\"\"\n",
    "        It generates the Mi(0) matreces for i = 1 to length of sample matrix.\n",
    "        See this papaer for the detail mathematical formalism: \n",
    "        \"Quantum error mitigation by layerwise Richardson extrapolation\" by Vincent Russo, Andrea Mari, https://arxiv.org/abs/2402.04000\n",
    "        \"\"\"\n",
    "        n = len(matrix)  # Size of the square matrix\n",
    "        identity_row = [1] + [0] * (n - 1)  # Row to replace with\n",
    "\n",
    "        modified_matrices = []\n",
    "        determinants = []\n",
    "        for i in range(n):\n",
    "            # Create a copy of the original matrix\n",
    "            modified_matrix = np.copy(matrix)\n",
    "            # Replace the i-th row with the identity_row\n",
    "            modified_matrix[i] = identity_row\n",
    "            modified_matrices.append(modified_matrix)\n",
    "            # Calculate the determinant of the modified matrix\n",
    "            determinant = np.linalg.det(modified_matrix)\n",
    "            determinants.append(determinant)\n",
    "        \n",
    "        return modified_matrices    \n",
    "    "
   ]
  },
  {
   "cell_type": "code",
   "execution_count": 57,
   "metadata": {},
   "outputs": [],
   "source": [
    "# Set the default font to be LaTeX compliant.\n",
    "plt.rcParams[\"font.family\"] = \"serif\"\n",
    "plt.rcParams[\"font.serif\"] = \"Computer Modern Roman\"\n",
    "plt.rcParams[\"text.usetex\"] = True\n",
    "\n",
    "# Set a global font size.\n",
    "font_size = 15\n",
    "plt.rcParams[\"font.size\"] = font_size\n",
    "plt.rcParams[\"axes.labelsize\"] = font_size\n",
    "plt.rcParams[\"xtick.labelsize\"] = font_size\n",
    "plt.rcParams[\"ytick.labelsize\"] = font_size\n",
    "plt.rcParams[\"legend.fontsize\"] = 12"
   ]
  },
  {
   "cell_type": "markdown",
   "metadata": {},
   "source": [
    "### B. How to use the code"
   ]
  },
  {
   "cell_type": "markdown",
   "metadata": {},
   "source": [
    "### C. Experimental result\n",
    "\n",
    "In our noisy indirect circuit, the noise level is determined by a vector parameter of length 3, which we refer to as _the noise factor_ (specified in the config file as `circuit.noise.factor`). This parameter dictates the number of redundant identities to be used in the circuit.\n",
    "\n",
    "Based on the values of this vector parameter, we have defined the corresponding noise levels as $n_R, n_T$, and $n_Y$, which correspond to the noise levels due to rotational gates, the time evolution gate, and the Y gate, respectively. Therefore, we have three independent variables and one dependent variable (i.e., the expectation value)."
   ]
  },
  {
   "cell_type": "markdown",
   "metadata": {},
   "source": [
    "### 4-qubit system\n",
    "\n",
    "For a 4-qubit system we choose the depth of the circuit to be of 10 layers."
   ]
  },
  {
   "cell_type": "code",
   "execution_count": 58,
   "metadata": {},
   "outputs": [],
   "source": [
    "\"\"\"\n",
    "4-qubit system with 10 layers.\n",
    "Exact sol: -3.0000000000000036\n",
    "Noise prpbabilities: [0.00001, 0.00001, 0.00001, 0.00001]\n",
    "Optimized parameters without time constraint: [1.3627178221278613, 2.664542631979086, 0.7778304314389796, 5.08976011939805, 4.355201704522217, 5.524025790877457, 6.661083563496561, 6.734487955043819, 7.718699292684051, 8.640776739328741, 0.24227928169149046, 0.03502519151548362, -0.21602565927981202, 0.5794594972694906, -0.10427357485122196, -0.3452881050356924, 0.40205820972086187, -0.2008950032780847, 0.7298684934699999, -0.22946644587574697, 0.2894289098069959, 0.8093573474213096, 0.09500397802339218, 0.04863119825308582, -0.08482947373670244, 0.7782157014552835, 0.10629352646824314, 0.3859329126657005, -0.2812081405174874, -0.4933425127332805, -0.2657235464595865, -0.5360891458005344, -0.350989707586727, 0.25781763824022025, 0.5896775390789757, -0.23264039936319045, -0.10828982150182836, -0.6034661732301055, 0.29383021498500045, 0.2370023744147322, 0.08273028234283035, -0.4885993714831949, 0.10242915265700583, 0.49870256638484156, 0.12927638871301825, -0.19999588301270663, 0.046577695705521685, 0.46763976717087646, 0.14163349612554071, 0.04072755599252544]\n",
    "\"\"\"\n",
    "\n",
    "data_4Q_noise1 = [\n",
    "    (4, 1, 0, -2.997479911971532),   # Noise factor [0, 0, 0]\n",
    "    (12, 1, 0, -2.995225968234045), # Noise factor [1, 0, 0]\n",
    "    (12, 3, 2, -2.991887065145745), # Noise factor [1, 1, 0]\n",
    "    (12, 3, 6, -2.989617751848285), # Noise factor [1, 1, 1]\n",
    "    (20, 1, 0, -2.9929737903621514), # Noise factor [2, 0, 0]\n",
    "    (20, 3, 2, -2.989637441869657), # Noise factor [2, 1, 0]\n",
    "    (20, 3, 6, -2.987369867285577), # Noise factor [2, 1, 1]\n",
    "    (20, 5, 2, -2.9863048662238905), # Noise factor [2, 2, 0]\n",
    "    (20, 5, 6, -2.981776597357825), # Noise factor [2, 2, 1]\n",
    "    (20, 5, 10, -2.977255317475906), # Noise factor [2, 2, 2]\n",
    "    (28, 1, 0, -2.9907233769261365), # Noise factor [3, 0, 0]\n",
    "    (28, 3, 2, -2.987389580999148), # Noise factor [3, 1, 0]\n",
    "    (28, 3, 6, -2.9851237437450724), # Noise factor [3, 1, 1]\n",
    "    (28, 5, 2, -2.984059554984343), # Noise factor [3, 2, 0]\n",
    "    (28, 5, 6, -2.9795347554177174), # Noise factor [3, 2, 1]\n",
    "    (28, 5, 10, -2.975016939384755), # Noise factor [3, 2, 2]\n",
    "    (28, 7, 2, -2.9807332945587603), # Noise factor [3, 3, 0]\n",
    "    (28, 7, 6, -2.9739563914042693), # Noise factor [3, 3, 1]\n",
    "    (28, 7, 10, -2.9671951717398657), # Noise factor [3, 3, 2]\n",
    "    (28, 7, 14, -2.960449598632909), # Noise factor [3, 3, 3]\n",
    "    (36, 1, 0, -2.9884747264974836), # Noise factor [4, 0, 0]\n",
    "    (36, 3, 2, -2.9851434811073565), # Noise factor [4, 1, 0]\n",
    "    (36, 3, 6, -2.9828793798010422), # Noise factor [4, 1, 1]\n",
    "    (36, 5, 2, -2.9818160026972422), # Noise factor [4, 2, 0]\n",
    "    (36, 5, 6, -2.9772946696698916), # Noise factor [4, 2, 1]\n",
    "    (36, 5, 10, -2.9727803147301315), # Noise factor [4, 2, 2]\n",
    "    (36, 7, 2, -2.9784922869475805), # Noise factor [4, 3, 0]\n",
    "    (36, 7, 6, -2.9717205755804725), # Noise factor [4, 3, 1]\n",
    "    (36, 7, 10, -2.964964535473117), # Noise factor [4, 3, 2]\n",
    "    (36, 7, 14, -2.958224129722131), # Noise factor [4, 3, 3]\n",
    "    (36, 9, 2, -2.97517232954384), # Noise factor [4, 4, 0]\n",
    "    (36, 9, 6, -2.966157077049392), # Noise factor [4, 4, 1]\n",
    "    (36, 9, 10, -2.9571696315356415), # Noise factor [4, 4, 2]\n",
    "    (36, 9, 14, -2.948209905727264), # Noise factor [4, 4, 3]\n",
    "    (36, 9, 18, -2.9392778126273704), # Noise factor [4, 4, 4]\n",
    "    (44, 1, 0, -2.986227837648864), # Noise factor [5, 0, 0]\n",
    "    (44, 3, 2, -2.9828991407686187), # Noise factor [5, 1, 0]\n",
    "    (44, 3, 6, -2.9806367740289605), # Noise factor [5, 1, 1]\n",
    "    (44, 5, 2, -2.9795742079385734), # Noise factor [5, 2, 0]\n",
    "    (44, 5, 6, -2.9750563386926103), # Noise factor [5, 2, 1]\n",
    "    (44, 5, 10, -2.970545442092549), # Noise factor [5, 2, 2]\n",
    "    (44, 7, 2, -2.9762530348425793), # Noise factor [5, 3, 0]\n",
    "    (44, 7, 6, -2.9694865111324895), # Noise factor [5, 3, 1]\n",
    "    (44, 7, 10, -2.9627356464616725), # Noise factor [5, 3, 2]\n",
    "    (44, 7, 14, -2.9560004039560117), # Noise factor [5, 3, 3]\n",
    "    (44, 9, 2, -2.972935617169511), # Noise factor [5, 4, 0]\n",
    "    (44, 9, 6, -2.963927270881401), # Noise factor [5, 4, 1]\n",
    "    (44, 9, 10, -2.954946709890718), # Noise factor [5, 4, 2]\n",
    "    (44, 9, 14, -2.945993846991313), # Noise factor [5, 4, 3]\n",
    "    (44, 9, 18, -2.9370685952552416), # Noise factor [5, 4, 4]\n",
    "    (44, 11, 2, -2.9696219506132424), # Noise factor [5, 5, 0]\n",
    "    (44, 11, 6, -2.9583785975122114), # Noise factor [5, 5, 1]\n",
    "    (44, 11, 10, -2.9471785757963316), # Noise factor [5, 5, 2]\n",
    "    (44, 11, 14, -2.936021715534731), # Noise factor [5, 5, 3]\n",
    "    (44, 11, 18, -2.924907847473882), # Noise factor [5, 5, 4]\n",
    "    (44, 11, 22, -2.913836803034901), # Noise factor [5, 5, 5]\n",
    "]\n",
    "\n",
    "zne_4Q_1D_noise1 = ZeroNoiseExtrapolation(dataPoints = data_4Q_noise1[:4], degree = 1)\n",
    "zne_4Q_2D_noise1 = ZeroNoiseExtrapolation(dataPoints = data_4Q_noise1[:10], degree = 2)\n",
    "zne_4Q_3D_noise1 = ZeroNoiseExtrapolation(dataPoints = data_4Q_noise1[:20], degree = 3)\n",
    "zne_4Q_4D_noise1 = ZeroNoiseExtrapolation(dataPoints = data_4Q_noise1[:35], degree = 4)\n",
    "zne_4Q_5D_noise1 = ZeroNoiseExtrapolation(dataPoints = data_4Q_noise1, degree = 5)\n",
    "\n",
    "exact_val_4Q = -3.0000000000000036\n",
    "zne_4Q_1D_noise1_val = zne_4Q_1D_noise1.getRichardsonZNE()\n",
    "zne_4Q_2D_noise1_val = zne_4Q_2D_noise1.getRichardsonZNE()\n",
    "zne_4Q_3D_noise1_val = zne_4Q_3D_noise1.getRichardsonZNE()\n",
    "zne_4Q_4D_noise1_val = zne_4Q_4D_noise1.getRichardsonZNE()\n",
    "zne_4Q_5D_noise1_val = zne_4Q_5D_noise1.getRichardsonZNE()"
   ]
  },
  {
   "cell_type": "code",
   "execution_count": 59,
   "metadata": {},
   "outputs": [
    {
     "data": {
      "image/png": "[encoded data removed]",
      "text/plain": [
       "<Figure size 1000x700 with 1 Axes>"
      ]
     },
     "metadata": {},
     "output_type": "display_data"
    }
   ],
   "source": [
    "# List of zne values for 8-qubit with noise probabilities [0.00001, 0.00001, 0.00001, 0.00001]\n",
    "\n",
    "zne_vals_4Q_noise1 = [\n",
    "    zne_4Q_1D_noise1_val,\n",
    "    zne_4Q_2D_noise1_val,\n",
    "    zne_4Q_3D_noise1_val,\n",
    "    zne_4Q_4D_noise1_val,\n",
    "    zne_4Q_5D_noise1_val\n",
    "]\n",
    "\n",
    "# Corresponding labels which represents degrees of the polynomial\n",
    "labels = [\"1\", \"2\", \"3\", \"4\", \"5\"]\n",
    "\n",
    "# Plotting the graph\n",
    "plt.figure(figsize=(10, 7))\n",
    "plt.plot(labels, zne_vals_4Q_noise1, marker='o', linestyle='--', color='green', label='Noise 0.00001')\n",
    "plt.axhline(y=exact_val_4Q, color='r', linestyle='--', label='Exact Value')\n",
    "plt.xlabel('Degrees of polynomial')\n",
    "plt.ylabel('Zero Noise Extrapolated Values')\n",
    "plt.title('ZNE Values vs Exact \\n Value without time constraint')\n",
    "plt.legend()\n",
    "plt.grid(True)\n",
    "\n",
    "# Show the plot\n",
    "plt.show()"
   ]
  },
  {
   "cell_type": "markdown",
   "metadata": {},
   "source": [
    "### 8-qubit system\n",
    "\n",
    "For a 8-qubit system we have our ansatz circuit with a depth of 25 layers."
   ]
  },
  {
   "cell_type": "code",
   "execution_count": null,
   "metadata": {},
   "outputs": [],
   "source": [
    "\"\"\"\n",
    "8-qubit system with 25 layers.\n",
    "Exact sol: -7.000000000000004\n",
    "Noise prpbabilities: [0.00001, 0.00001, 0.00001, 0.00001]\n",
    "Optimized parameters without time constraint: [-1.598203452365122, -0.454626586570091, 1.4282421082448056, 0.015436042551439008, 0.9813223106420303, 0.6576478959055984, 3.8230724490399366, 1.6328198621735435, 3.930043867325021, 3.5749358773940294, 3.2741094538598423, 5.333661256371386, 5.228967410579761, 7.321512661931863, 7.28055210459519, 6.334421916248657, 6.291879649145826, 7.150978914105916, 7.179514788039292, 8.534289474738179, 8.978577286533756, 8.947180414801355, 10.823973087307959, 10.16734842539582, 10.241454235388934, -0.2098329604123184, -0.26055284411679486, 1.650927348803279, -2.352520908823862, -0.9250042151449581, 1.5036091726680993, 0.25525520683369235, -0.9930540188455652, 0.031299902058708334, -1.0690167417055687, -1.7183129459331394, 1.113306863722933, -0.31605496299853103, 1.4397004861923266, 0.34894963094763454, 1.51788110493564, -0.5227637946323876, 0.2176539602296948, -0.19773170079139468, 0.39922430899452205, 0.8721745477980981, -1.5445496607510734, -0.2427323307170025, -0.5465517938175843, -0.1971134226120807, 0.19283670511751194, 0.19085594130592307, 0.07697113231166389, 0.13257047530733815, 0.0071739577209740234, -0.38093094229796204, -0.3893121785092931, -1.7480001592761787, 0.26708448356490133, -0.2576947588923166, 0.09440798644437022, 1.285437556438038, 0.15058849991488407, -1.644790332627707, 0.3503329228225124, 0.7041004204937477, -0.0023955588893000007, 0.9076018225771513, -0.0715702121559551, 1.6868118774071919, 0.9216421038092796, 0.23318623363969845, -1.6946695515104755, -0.9662862558200821, 1.5668719975301024, 1.0735907673952012, 0.9333728199696584, -0.14498210992785804, 0.062124469949639466, 1.689908791267535, 0.39620580287656715, 1.7672380920245716, -0.013835905833801135, 1.0747063198116775, -0.0022877414464895626, 0.11942678144898249, -0.03436068030873114, 1.178277560292742, 2.2447135254332724, -0.6870279749304691, 1.6545494342336884, -0.3391957621360738, 0.10654407649226932, 0.0637381630811688, 0.014800671847975944, -0.07613542069227808, -0.11005787453742943, -1.898780864339826, -0.8483915811148912, -0.1441333431816059, 0.02530410691250804, -0.03664192113832491, -1.5811721011236184, -0.6280876641321144, -1.5981430039842626, -1.0604516965416935, -0.010566267564002299, -1.0910598693045526, -0.8146465543409181, 2.4249464186284735, -0.16203265445210321, -1.9327411011965903, 0.02005741064116468, 0.015489593446117115, -1.565862299569351, 1.5194446990160921, 1.4986478102931016, 0.6411139978837676, 0.03277197641916364, -0.37822107395511445, 0.3627171619734526, -0.28646017075972996, 2.4635153733716684, -0.8998933591618272, 0.0034769376819778295]\n",
    "\"\"\""
   ]
  },
  {
   "cell_type": "markdown",
   "metadata": {},
   "source": [
    "---\n"
   ]
  },
  {
   "cell_type": "markdown",
   "metadata": {},
   "source": [
    "## Single variable extrapolation"
   ]
  },
  {
   "cell_type": "markdown",
   "metadata": {},
   "source": [
    "#### Utility functions"
   ]
  },
  {
   "cell_type": "code",
   "execution_count": 60,
   "metadata": {},
   "outputs": [],
   "source": [
    "from typing import List, Tuple\n",
    "\n",
    "def get_single_noise_val(nqubits: int, noise_param: List[Tuple[int, int, int, float]]) -> List[Tuple[int, int, int, float]]:\n",
    "    \"\"\"\n",
    "    Generate a single noise value for extrapolation.\n",
    "    \"\"\"\n",
    "    result = []\n",
    "    for nR, nT, nY, E in noise_param:\n",
    "        computed_value = nR + (nqubits*nT) + nY + 2\n",
    "        result.append((computed_value, E))\n",
    "    return result\n",
    "\n",
    "def sample_matrix(sample_points: list[int], degree: int) -> np.ndarray:\n",
    "    \"\"\"Construct a matrix from monomials evaluated at sample points.\"\"\"\n",
    "    n = len(sample_points[0])  # type: ignore # Number of variables based on the first sample point\n",
    "    monomials = ZeroNoiseExtrapolation.get_monomials(n, degree) # type: ignore\n",
    "    matrix = np.zeros((len(sample_points), len(monomials)))\n",
    "\n",
    "    for i, point in enumerate(sample_points):\n",
    "        for j, monomial in enumerate(monomials):\n",
    "            var_mapping = {f\"λ_{k+1}\": point[k] for k in range(n)} # type: ignore\n",
    "            matrix[i, j] = eval(monomial, {}, var_mapping)\n",
    "    return matrix"
   ]
  },
  {
   "cell_type": "markdown",
   "metadata": {},
   "source": [
    "### 8-qubit"
   ]
  },
  {
   "cell_type": "code",
   "execution_count": null,
   "metadata": {},
   "outputs": [],
   "source": [
    "\"\"\"\n",
    "\n",
    "\"\"\"\n",
    "data_8Q_noise1 = [\n",
    "\n",
    "]"
   ]
  },
  {
   "cell_type": "markdown",
   "metadata": {},
   "source": [
    "### 4-qubit"
   ]
  },
  {
   "cell_type": "code",
   "execution_count": 65,
   "metadata": {},
   "outputs": [
    {
     "data": {
      "text/plain": [
       "-3.000327020806807"
      ]
     },
     "execution_count": 65,
     "metadata": {},
     "output_type": "execute_result"
    }
   ],
   "source": [
    "data_4Q = [\n",
    "    (4, 1, 0, -2.9974291552071852), # Noise factor [0, 0, 0]\n",
    "    (12, 1, 0, -2.995110862727487), # Noise factor [1, 0, 0]\n",
    "    #(12, 3, 2, -2.9917241274581086), # Noise factor [1, 1, 0]\n",
    "    #(12, 3, 6, -2.9894343545281554), # Noise factor [1, 1, 1]\n",
    "]\n",
    "\n",
    "single_noise_data_4Q = get_single_noise_val(nqubits = 4, noise_param = data_4Q)\n",
    "zne = ZeroNoiseExtrapolation(single_noise_data_4Q, 1)\n",
    "#sample_matrix(single_noise_data_4Q, 1).shape\n",
    "zne.getRichardsonZNE()"
   ]
  },
  {
   "cell_type": "markdown",
   "metadata": {},
   "source": [
    "---"
   ]
  },
  {
   "cell_type": "markdown",
   "metadata": {},
   "source": [
    "#### 5-qubit system\n",
    "\n",
    "For a 5-qubit system, Indirect-VQE yields satisfactory results with a depth of 10 layers in a noise-free circuit. Consequently, for the noisy circuit, we have selected the same circuit depth.\n",
    "\n",
    "The noise probabilities for all single-qubit and multi-qubit gates are chosen to be 0.0001 in noisy circuit (`circuit.noise.value : [0.0001, 0.0001, 0.0001, 0.0001]`).\n",
    "\n",
    "First, we ran the Indirect-VQE with noisy circuit, but without any redundent identities (`circuit.noise.factor: [0, 0, 0`]) and obtain the optimized parameters (`optimization.status: True`)."
   ]
  },
  {
   "cell_type": "code",
   "execution_count": 8,
   "metadata": {},
   "outputs": [
    {
     "name": "stdout",
     "output_type": "stream",
     "text": [
      "Richardson extrapolated value: -3.943889509533736\n"
     ]
    }
   ],
   "source": [
    "# Data for 5-qubit, 10 layers system\n",
    "data_5Q = [\n",
    "    (4, 1, 0, -3.916268577812803),  # noise factor [ 0, 0, 0 ]\n",
    "    (12, 1, 3, -3.891039542364015), # noise factor [ 1, 0, 0 ]\n",
    "    (12, 3, 3, -3.8437860343347316), # noise factor [ 1, 1, 0 ]\n",
    "    (12, 3, 9, -3.8100008383254043), # noise factor [ 1, 1, 1 ]\n",
    "    (20, 1, 3, -3.86598644113986), # noise factor [ 2, 0, 0 ]\n",
    "    (20, 3, 3, -3.819049193145926), # noise factor [ 2, 1, 0 ]\n",
    "    (20, 3, 9, -3.7854901666397804), # noise factor [ 2, 1, 1 ]\n",
    "    (20, 5, 3, -3.772707487765387), # noise factor [ 2, 2, 0 ]\n",
    "    (20, 5, 9, -3.7067492774117636), # noise factor [ 2, 2, 1 ]\n",
    "    (20, 5, 15, -3.642004799002842) # noise facfor [ 2, 2, 2 ]\n",
    "]\n",
    "\n",
    "zne_5Q = ZeroNoiseExtrapolation(dataPoints = data_5Q, degree = 2)\n",
    "# Extrapolated value at (0, 0, 0)\n",
    "zne_5Q_val = zne_5Q.getRichardsonZNE()\n",
    "print(f\"Richardson extrapolated value: {zne_5Q_val}\")"
   ]
  },
  {
   "cell_type": "markdown",
   "metadata": {},
   "source": [
    "The exact expectation value is -3.999999999999999. There for the ZNE is working properly."
   ]
  },
  {
   "cell_type": "markdown",
   "metadata": {},
   "source": [
    "#### 8-qubit system\n",
    "\n",
    "Now 8-qubit system requires much deeper circuit compared to 5-qubit. \n",
    "We have chosen 25 layers for 8-qubit system."
   ]
  },
  {
   "cell_type": "code",
   "execution_count": 9,
   "metadata": {},
   "outputs": [],
   "source": [
    "\"\"\"\n",
    "Data for 8-qubit system with layer: 25, noise probabilities: [0.00001, 0.00001, 0.00001, 0.00001].\n",
    "\n",
    "Optimized initial parameters without time constraint: [-0.6421541471273413, 0.05920469657271428, 0.8062920914875159, -0.3869342744938354, 1.1719332042479866, 1.0584225847045, 1.8994680869585494, 0.9995530568080905, 2.066957847368197, 1.7192555376921328, 1.6938011795434758, 4.671999404569382, 4.690441767619825, 5.356423616779393, 5.983179804092117, 5.96314101122183, 5.295899649265837, 5.291945583067931, 8.560864799373068, 8.508422049685528, 10.23426094313737, 10.105391849674815, 10.693295933261485, 9.476633929624763, 9.66774155140174, 0.4774032116920424, 0.032854913315053705, 1.2711085776016167, -0.22258356417266537, 0.05575994186467821, -0.11188924056259952, 0.9549206983214574, -1.1325290516368285, 0.26803937115508825, 0.43710962374130047, 0.20338455651077061, -0.6313697814544926, 0.45120233391050946, 0.33908509058923814, 0.04464675787012615, 1.3791864965712834, -0.8489355096417217, 0.44702732513713994, -0.5728422048300061, -0.74793122217712, 1.8552037384794389, -0.2377141509495007, -0.36299085561068906, 0.7571700940423215, -1.3024033083063904, -0.18056739414254797, -0.7485890879407179, -1.7509416055210463, 0.7696128345177697, 1.6238933897086791, 1.39731158759975, 0.24114182645712678, -1.3963947108973211, 0.4670150898673692, -1.0205969154757666, -0.22227066351665375, 0.755315837678385, -0.8732422130223128, 0.6277196174974933, 1.578139475425654, -0.025133015975360648, 0.3698422471994897, 0.5256604389380788, -0.4072103112146609, 2.173786964764214, -0.005033008595242392, 1.9019162368865243, -0.5558005708226967, -0.637514549753674, 0.9567550406935504, -0.5027741468291733, -0.007690648042830744, -0.09100798283033357, -1.6389953235106516, 1.1526882138602363, 1.581613810194036, 0.4119352094420986, -0.03818174741609822, 1.203290002950579, 1.3975869806439174, -0.3137244645752343, -0.7259120749590202, 0.15970921691603532, -0.03446805802377001, -0.043606323930900526, -0.04286724060398758, -0.9866270754744089, -2.157881757877214, 0.32818575059681304, -0.287467515434158, 0.34884065868013375, 0.043545811891025854, -0.7441269437233947, -0.016997394350428317, 0.6915940397191128, -0.009735664036199736, 0.4460504401136076, -1.1141690812324083, 1.8015220892907893, -0.04472215506509166, 1.1531600218559306, -0.034747173077105, 0.4726495020018583, 0.8408049168216352, 1.1776543870242855, 0.14426906771879489, -0.4187752907311748, -0.11182511497810363, 0.1350494393884067, -2.5328910113743786, -0.41432921459243444, -0.627795370656195, 0.1489817320304173, -0.3007092352904207, -1.5315973222992518, 0.17753830768576456, -2.6114376000340744, 0.55668650209671, -0.3793695301220654, 0.0787085595881143]\n",
    "\n",
    "Exact sol: -7.000000000000004\n",
    "\"\"\"\n",
    "\n",
    "data_8Q_noise1 = [\n",
    "    (4, 1, 0, -6.819677912110889),  # Noise factor [0, 0, 0]\n",
    "    (12, 1, 4, -6.8124215087595985), # Noise factor [1, 0, 0]\n",
    "    (12, 3, 4, -6.789130782643404), # Noise factor [1, 1, 0]\n",
    "    (2, 3, 12, -6.7732912711562525), # Noise factor [1, 1, 1]\n",
    "    (20, 1, 4, -6.805173933581271), # Noise factor [2, 0, 0]\n",
    "    (20, 3, 4, -6.781908860487205), # Noise factor [2, 1, 0]\n",
    "    (20, 3, 12, -6.766086877271851), # Noise factor [2, 1, 1]\n",
    "    (20, 5, 4, -6.758728037812178), # Noise factor [2, 2, 0]\n",
    "    (20, 5, 12, -6.727237593948082), # Noise factor [2, 2, 1]\n",
    "    (20, 5, 20, -6.695902612414864), # Noise factor [2, 2, 2]\n",
    "    (28, 1, 4, -6.797935174295839),  # Noise factor [3, 0, 0]\n",
    "    (28, 3, 4, -6.774695721299732), # Noise factor [3, 1, 0]\n",
    "    (28, 3, 12, -6.758891243769231), # Noise factor [3, 1, 1]\n",
    "    (28, 5, 4, -6.75154042164453), # Noise factor [3, 2, 0]\n",
    "    (28, 5, 12, -6.7200848112001825), # Noise factor [3, 2, 1]\n",
    "    (28, 5, 20, -6.688784482283729), # Noise factor [3, 2, 2]\n",
    "    (28, 7, 4, -6.728468953521421), # Noise factor [3, 3, 0]\n",
    "    (28, 7, 12, -6.681514350460936), # Noise factor [3, 3, 1]\n",
    "    (28, 7, 20, -6.634906888183261), # Noise factor [3, 3, 2]\n",
    "    (8, 7, 28, -6.588643853005717), # Noise factor [3, 3, 3]\n",
    "    (36, 1, 4, -6.790705218642038), # Noise factor [4, 0, 0]\n",
    "    (36, 3, 4, -6.767491352867569), # Noise factor [4, 1, 0]\n",
    "    (36, 3, 12, -6.751704358467914), # Noise factor [4, 1, 1]\n",
    "    (36, 5, 4, -6.744361543486917), # Noise factor [4, 2, 0]\n",
    "    (36, 5, 12, -6.712940721595604), # Noise factor [4, 2, 1]\n",
    "    (36, 5, 20, -6.681675000675004), # Noise factor [4, 2, 2]\n",
    "    (36, 7, 4, -6.7213154690812855), # Noise factor [4, 3, 0]\n",
    "    (36, 7, 12, -6.6744127837574885), # Noise factor [4, 3, 1]\n",
    "    (36, 7, 20, -6.627856835711555), # Noise factor [4, 3, 2]\n",
    "    (36, 7, 28, -6.581644914593888), # Noise factor [4, 3, 3]\n",
    "    (36, 9, 4, -6.698352809524235), # Noise factor [4, 4, 0]\n",
    "    (36, 9, 12, -6.636119030991414), # Noise factor [4, 4, 1]\n",
    "    (36, 9, 20, -6.57449771818485), # Noise factor [4, 4, 2]\n",
    "    (36, 9, 28, -6.51348249872811), # Noise factor [4, 4, 3]\n",
    "    (36, 9, 36, -6.453067070098109), # Noise factor [4, 4, 4]\n",
    "    (44, 1, 4, -6.783484054377381), # Noise factor [5, 0, 0]\n",
    "    (44, 3, 4, -6.760295742996041), # Noise factor [5, 1, 0]\n",
    "    (44, 3, 12, -6.74452620920608), # Noise factor [5, 1, 1]\n",
    "    (44, 5, 4, -6.737191391192229), # Noise factor [5, 2, 0]\n",
    "    (44, 5, 12, -6.7058053130526325), # Noise factor [5, 2, 1]\n",
    "    (44, 5, 20, -6.674574155571988), # Noise factor [5, 2, 2]\n",
    "    (44, 7, 4, -6.714170677936674), # Noise factor [5, 3, 0]\n",
    "    (44, 7, 12, -6.667319843506857), # Noise factor [5, 3, 1]\n",
    "    (44, 7, 20, -6.620815343398318), # Noise factor [5, 3, 2]\n",
    "    (44, 7, 28, -6.5746544705897385), # Noise factor [5, 3, 3]\n",
    "    (44, 9, 4, -6.691233283490744), # Noise factor [5, 4, 0]\n",
    "    (44, 9, 12, -6.629068288450897), # Noise factor [5, 4, 1]\n",
    "    (44, 9, 20, -6.567515047615255), # Noise factor [5, 4, 2]\n",
    "    (44, 9, 28, -6.506567196429105), # Noise factor [5, 4, 3]\n",
    "    (44, 9, 36, -6.446218440100362), # Noise factor [5, 4, 4]\n",
    "    (44, 11, 4, -6.668378889401111), # Noise factor [5, 5, 0]\n",
    "    (44, 11, 12, -6.5910491459862595), # Noise factor [5, 5, 1]\n",
    "    (44, 11, 20, -6.514669136477074), # Noise factor [5, 5, 2]\n",
    "    (44, 11, 28, -6.439226530990193), # Noise factor [5, 5, 3]\n",
    "    (44, 11, 36, -6.364709168269495), # Noise factor [5, 5, 4]\n",
    "    (44, 11, 44, -6.291105053266957), # Noise factor [5, 5, 5]\n",
    "]\n",
    "\n",
    "zne_8Q_1D_noise1 = ZeroNoiseExtrapolation(dataPoints = data_8Q_noise1[:4], degree = 1)\n",
    "zne_8Q_2D_noise1 = ZeroNoiseExtrapolation(dataPoints = data_8Q_noise1[:10], degree = 2)\n",
    "zne_8Q_3D_noise1 = ZeroNoiseExtrapolation(dataPoints = data_8Q_noise1[:20], degree = 3)\n",
    "zne_8Q_4D_noise1 = ZeroNoiseExtrapolation(dataPoints = data_8Q_noise1[:35], degree = 4)\n",
    "zne_8Q_5D_noise1 = ZeroNoiseExtrapolation(dataPoints = data_8Q_noise1, degree = 5)\n",
    "\n",
    "exact_val_8Q = -7.000000000000004\n",
    "zne_8Q_1D_noise1_val = zne_8Q_1D_noise1.getRichardsonZNE()\n",
    "zne_8Q_2D_noise1_val = zne_8Q_2D_noise1.getRichardsonZNE()\n",
    "zne_8Q_3D_noise1_val = zne_8Q_3D_noise1.getRichardsonZNE()\n",
    "zne_8Q_4D_noise1_val = zne_8Q_4D_noise1.getRichardsonZNE()\n",
    "zne_8Q_5D_noise1_val = zne_8Q_5D_noise1.getRichardsonZNE()"
   ]
  },
  {
   "cell_type": "code",
   "execution_count": null,
   "metadata": {},
   "outputs": [],
   "source": [
    "\"\"\"\n",
    "Data for 8-qubit system with layer: 25, noise probabilities: [0.0001, 0.0001, 0.0001, 0.0001]\n",
    "\n",
    "Optimized initial parameters without time constraint: [-0.11553395753337717, 2.3054933609361696, 0.21983836650192412, 1.745437220072799, 1.5467873184031007, 1.2615723357298854, 2.694127272066758, 1.0233596511832426, 4.4644179407608, 1.4887720192377103, 3.910934633089088, 2.3802613549911658, 3.9230844056483987, 6.269669777551384, 4.368173630764966, 6.312189360620941, 6.308058338919829, 7.203014485389791, 7.101424706318157, 6.753606767192493, 7.668349807126067, 6.884487066912426, 7.521471601674154, 6.234017941140042, 10.456555353883942, 1.057404996117694, -0.708276260797996, -0.14835745056997107, 0.8836459938493252, -0.6013871776310099, -1.3834821876655812, 1.0945670717301068, -0.4022096259419148, 0.19168814521002245, -1.4255792408489019, 1.7433115117444837, 0.208926617733567, -0.49069349639356824, -1.13182158373692, -0.33461670847971503, 0.14237978495435752, -1.931252717856863, 0.2626924533078525, 0.6403912967644119, 0.8661672489006343, -1.6180165096938945, -0.8011940656169012, -0.5237546640205522, 0.7802950249895486, 0.7396870999760229, -1.9845298830739353, -1.1533916886845867, 0.8147410598380199, 0.6559239440929744, 0.7576899901758046, 1.9066850819941572, 1.9896118611422997, 0.2425847639977406, -0.2144496039493364, 0.09722285328739641, -0.28376072387664647, 0.08605963384302287, 0.4614092169146765, -2.029657781532478, 1.6021569697652953, 0.602739884707884, -1.1443796110747682, 1.0873517889618556, -0.5114695234366027, -0.6672882202996956, -0.7109460764729032, 1.2523925604225863, 0.9277980707754727, 1.3365174507509434, 1.1464256506668646, -0.7512581551680485, 0.6690899434448689, -1.4841561798309229, 1.3896624400228499, -0.8429774572659576, -1.213197923267857, 1.5565831289958947, 1.3509693616310174, -0.5354983360107699, -1.349982579620698, 0.13624888414875214, -1.7625279465597965, 2.6279629245115577, -1.1013656985195455, -1.9544800123998625, -0.8636412262983524, 0.04184133869418584, -1.4628283817370504, -0.1302730984307908, -0.7072556059582282, 1.6762647765452627, 1.3347297246109908, -1.005010214440398, 0.363439571058961, 1.5828790338501915, -0.23753257632054706, -1.0796891307639926, -1.282361629867487, -0.5688642249009175, 0.5765797344682871, 2.5660608769241957, -0.7841822390172543, -0.42624870685253397, -0.8422015299844275, 0.6077467254820256, 0.6744280525299602, 2.2173307304203407, 0.7868558510673709, 1.5343080953058503, -0.2072340371653835, -1.410993099480323, -0.30372908769363727, 1.105835255793062, -1.9716865718243681, -0.6216445257683436, 0.10176833315866661, -1.2870210096160786, 1.5327446469569714, 1.0575407726505384, -1.5960795653246673]\n",
    "\n",
    "Exact sol: -7.000000000000004\n",
    "\"\"\"\n",
    "\n",
    "data_8Q_noise2 = [\n",
    "    (4, 1, 0, -5.751247921769539), # Noise factor [0, 0, 0]\n",
    "    (12, 1, 4, )\n",
    "]"
   ]
  },
  {
   "cell_type": "markdown",
   "metadata": {},
   "source": [
    "Plotting the extrapolated value of different degrees of polynomial against the exact value."
   ]
  },
  {
   "cell_type": "code",
   "execution_count": 32,
   "metadata": {},
   "outputs": [
    {
     "data": {
      "image/png": "[encoded data removed]",
      "text/plain": [
       "<Figure size 1000x700 with 1 Axes>"
      ]
     },
     "metadata": {},
     "output_type": "display_data"
    }
   ],
   "source": [
    "# List of zne values for 8-qubit with noise probabilities [0.00001, 0.00001, 0.00001, 0.00001]\n",
    "\n",
    "zne_vals_8Q_0_0000P = [\n",
    "    zne_8Q_1D_noise1_val,\n",
    "    zne_8Q_2D_noise1_val,\n",
    "    zne_8Q_3D_noise1_val,\n",
    "    zne_8Q_4D_noise1_val,\n",
    "    zne_8Q_5D_noise1_val\n",
    "]\n",
    "\n",
    "# Corresponding labels which represents degrees of the polynomial\n",
    "labels = [\"1\", \"2\", \"3\", \"4\", \"5\"]\n",
    "\n",
    "# Plotting the graph\n",
    "plt.figure(figsize=(10, 7))\n",
    "plt.plot(labels, zne_vals_8Q_0_0000P, marker='o', linestyle='--', color='green', label='Noise 0.00001')\n",
    "plt.axhline(y=exact_val_8Q, color='r', linestyle='--', label='Exact Value')\n",
    "plt.xlabel('Degrees of polynomial')\n",
    "plt.ylabel('Zero Noise Extrapolated Values')\n",
    "plt.title('ZNE Values vs Exact \\n Value without time constraint')\n",
    "plt.legend()\n",
    "plt.grid(True)\n",
    "\n",
    "# Show the plot\n",
    "plt.show()"
   ]
  },
  {
   "cell_type": "markdown",
   "metadata": {},
   "source": [
    "The following is the configuration for our indirect circuit.\n",
    "\n",
    "```qubit = 8\n",
    "layer = 25\n",
    "noise probabilities = [0.0001, 0.0001, 0.0001, 0.0001]\n",
    "exact solution = -7.000000000000004\n",
    "```\n",
    "\n",
    "We ran our indirect eigen solver at various noise level by changing the `factor` value inside the `config.yml`"
   ]
  },
  {
   "cell_type": "code",
   "execution_count": 22,
   "metadata": {},
   "outputs": [
    {
     "data": {
      "text/plain": [
       "-6.821098781914534"
      ]
     },
     "execution_count": 22,
     "metadata": {},
     "output_type": "execute_result"
    }
   ],
   "source": [
    "data_sys1 = [\n",
    "    (4, 1, 0, -6.742247461826676),\n",
    "    (12, 3, 8, -6.405455124800368),\n",
    "    (12, 5, 24, -5.839787462274414),\n",
    "    (4, 7, 8, -5.991097523966149),\n",
    "    (4, 7, 24, -5.533783365921837),\n",
    "    (28, 9, 24, -5.005206166353052),\n",
    "    (4, 9, 56, -4.206331147604706),\n",
    "    (44, 1, 24, -6.357848309361182),\n",
    "    (44, 3, 24, -5.9516342852267075),\n",
    "    (4, 13, 8, -5.328222900577986)\n",
    "]\n",
    "\n",
    "zne_sys1 = ZeroNoiseExtrapolation(dataPoints= data_sys1, degree= 2)\n",
    "zne_sys1.getRichardsonZNE()\n",
    "\n"
   ]
  },
  {
   "cell_type": "markdown",
   "metadata": {},
   "source": [
    "System #2\n",
    "\n",
    "```qubit = 8\n",
    "layer = 25\n",
    "noise probabilities = [0.000001, 0.000001, 0.000001, 0.000001]\n",
    "exact solution = -7.000000000000004\n",
    "```\n"
   ]
  },
  {
   "cell_type": "code",
   "execution_count": 24,
   "metadata": {},
   "outputs": [
    {
     "data": {
      "text/plain": [
       "-6.256252868096004"
      ]
     },
     "execution_count": 24,
     "metadata": {},
     "output_type": "execute_result"
    }
   ],
   "source": [
    "data_set2 = [\n",
    "    (4, 1, 0, -6.254792723611204),\n",
    "    (12, 3, 8, -6.250858745027363),\n",
    "    (12, 5, 8, -6.2478883834002135),\n",
    "    (4, 5, 24, -6.244810370105138),\n",
    "    (20, 5, 24, -6.242889589082837),\n",
    "    (4, 7, 24, -6.239825585489937),\n",
    "    (12, 7, 40, -6.2328185853721925),\n",
    "    (12, 1, 40, -6.253830617363461),\n",
    "    (4, 11, 8, -6.23994604760344),\n",
    "    (12, 11, 8, -6.238986354642458)\n",
    "]\n",
    "\n",
    "zne_set2 = ZeroNoiseExtrapolation(dataPoints = data_set2, degree = 2)\n",
    "zne_set2.getRichardsonZNE()\n",
    "-6.256252868096004"
   ]
  },
  {
   "cell_type": "code",
   "execution_count": null,
   "metadata": {},
   "outputs": [],
   "source": []
  }
 ],
 "metadata": {
  "kernelspec": {
   "display_name": "QuantumEnv",
   "language": "python",
   "name": "python3"
  },
  "language_info": {
   "codemirror_mode": {
    "name": "ipython",
    "version": 3
   },
   "file_extension": ".py",
   "mimetype": "text/x-python",
   "name": "python",
   "nbconvert_exporter": "python",
   "pygments_lexer": "ipython3",
   "version": "3.10.12"
  }
 },
 "nbformat": 4,
 "nbformat_minor": 2
}
