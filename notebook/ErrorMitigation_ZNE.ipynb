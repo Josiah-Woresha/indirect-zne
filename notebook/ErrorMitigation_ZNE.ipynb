{
 "cells": [
  {
   "cell_type": "markdown",
   "metadata": {},
   "source": [
    "# Error Mitigation: Zero Noise Extrapolation"
   ]
  },
  {
   "cell_type": "markdown",
   "metadata": {},
   "source": [
    "This notebook contains experimental result for Zero Noise Extrapolation (ZNE)."
   ]
  },
  {
   "cell_type": "code",
   "execution_count": 13,
   "metadata": {},
   "outputs": [],
   "source": [
    "import numpy as np\n",
    "from collections import Counter\n",
    "import itertools\n",
    "\n",
    "\n",
    "class ZeroNoiseExtrapolation:\n",
    "    def __init__(self, dataPoints: list[tuple[float]], degree: int):\n",
    "        \"\"\"\n",
    "        Initialize with a list of data points, each represented as a tuple of floats.\n",
    "        \"\"\"\n",
    "        self.dataPoints = dataPoints\n",
    "        self.degree = degree\n",
    "\n",
    "        self.NoiseData = [tuple(point[:3]) for point in self.dataPoints]\n",
    "        self.ExpectationVals = [point[-1] for point in dataPoints]\n",
    "  \n",
    "    def getRichardsonZNE(self):\n",
    "\n",
    "        RichardsonZNEval = 0\n",
    "\n",
    "        sampleMatrix = sample_matrix(sample_points = self.NoiseData, degree = self.degree) # type: ignore\n",
    "        detA = np.linalg.det(sampleMatrix)\n",
    "\n",
    "        matrices = generate_modified_matrices(sampleMatrix) # type: ignore\n",
    "\n",
    "        for E, matrix in zip(self.ExpectationVals, matrices):\n",
    "            RichardsonZNEval += E * (np.linalg.det(matrix)/detA)\n",
    "        \n",
    "        return RichardsonZNEval\n",
    "    \n",
    "    @staticmethod\n",
    "    def get_monomials(n: int, d: int) -> list[str]:\n",
    "        \"\"\"\n",
    "        Compute monomials of degree `d` in graded lexicographical order.\n",
    "        \"\"\"\n",
    "        variables = [f\"λ_{i}\" for i in range(1, n + 1)]\n",
    "        \n",
    "        monomials = []\n",
    "        for degree in range(d, -1, -1):\n",
    "            # Generate combinations for the current degree\n",
    "            combos = list(itertools.combinations_with_replacement(variables, degree))\n",
    "            \n",
    "            # Sort combinations lexicographically\n",
    "            combos.sort()\n",
    "            \n",
    "            # Construct monomials from sorted combinations\n",
    "            for combo in combos:\n",
    "                monomial_parts = []\n",
    "                counts = Counter(combo)\n",
    "                # Ensure variables are processed in lexicographical order\n",
    "                for var in sorted(counts.keys()):\n",
    "                    count = counts[var]\n",
    "                    if count > 1:\n",
    "                        monomial_parts.append(f\"{var}**{count}\")\n",
    "                    else:\n",
    "                        monomial_parts.append(var)\n",
    "                monomial = \"*\".join(monomial_parts)\n",
    "                # Handle the case where degree is 0\n",
    "                if not monomial:\n",
    "                    monomial = \"1\"\n",
    "                monomials.append(monomial)\n",
    "        # \"1\" should be the first monomial. Note that order d > c > b > a means vector of monomials = [a, b, c, d].            \n",
    "        return monomials[::-1]\n",
    "\n",
    "    @staticmethod\n",
    "    def sample_matrix(sample_points: list[int], degree: int) -> np.ndarray:\n",
    "        \"\"\"Construct a matrix from monomials evaluated at sample points.\"\"\"\n",
    "        n = len(sample_points[0])  # type: ignore # Number of variables based on the first sample point\n",
    "        monomials = get_monomials(n, degree) # type: ignore\n",
    "        matrix = np.zeros((len(sample_points), len(monomials)))\n",
    "\n",
    "        for i, point in enumerate(sample_points):\n",
    "            for j, monomial in enumerate(monomials):\n",
    "                var_mapping = {f\"λ_{k+1}\": point[k] for k in range(n)} # type: ignore\n",
    "                matrix[i, j] = eval(monomial, {}, var_mapping)\n",
    "        return matrix\n",
    "\n",
    "    @staticmethod\n",
    "    def generate_modified_matrices(matrix):\n",
    "        n = len(matrix)  # Size of the square matrix\n",
    "        identity_row = [1] + [0] * (n - 1)  # Row to replace with\n",
    "\n",
    "        modified_matrices = []\n",
    "        determinants = []\n",
    "        for i in range(n):\n",
    "            # Create a copy of the original matrix\n",
    "            modified_matrix = np.copy(matrix)\n",
    "            # Replace the i-th row with the identity_row\n",
    "            modified_matrix[i] = identity_row\n",
    "            modified_matrices.append(modified_matrix)\n",
    "            # Calculate the determinant of the modified matrix\n",
    "            determinant = np.linalg.det(modified_matrix)\n",
    "            determinants.append(determinant)\n",
    "        \n",
    "        return modified_matrices "
   ]
  },
  {
   "cell_type": "code",
   "execution_count": 14,
   "metadata": {},
   "outputs": [
    {
     "data": {
      "text/plain": [
       "-3.951970611035856"
      ]
     },
     "execution_count": 14,
     "metadata": {},
     "output_type": "execute_result"
    }
   ],
   "source": [
    "data_points = [\n",
    "    (12, 5, 18, -3.717054761326808),\n",
    "    (20, 1, 30, -3.874319285474221),\n",
    "    (4, 5, 6, -3.8215866373279432),\n",
    "    (28, 7, 6, -3.687171847866942),\n",
    "    (4, 9, 18, -3.5663020157522007),\n",
    "    (4, 1, 0, -3.9308629429508755),\n",
    "    (12, 3, 6, -3.84785786134227),\n",
    "    (4, 11, 6, -3.6634401626134006),\n",
    "    (20, 11, 30, -3.2597725821448074),\n",
    "    (36, 11, 42, -3.053170929882078)\n",
    "]\n",
    "\n",
    "test = ZeroNoiseExtrapolation(data_points, 2)\n",
    "test.getRichardsonZNE()"
   ]
  }
 ],
 "metadata": {
  "kernelspec": {
   "display_name": "QuantumEnv",
   "language": "python",
   "name": "python3"
  },
  "language_info": {
   "codemirror_mode": {
    "name": "ipython",
    "version": 3
   },
   "file_extension": ".py",
   "mimetype": "text/x-python",
   "name": "python",
   "nbconvert_exporter": "python",
   "pygments_lexer": "ipython3",
   "version": "3.10.12"
  }
 },
 "nbformat": 4,
 "nbformat_minor": 2
}
