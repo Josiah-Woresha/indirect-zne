{
 "cells": [
  {
   "cell_type": "markdown",
   "metadata": {},
   "source": [
    "# Error Mitigation: Zero Noise Extrapolation (ZNE) for indirect-control system\n",
    "---"
   ]
  },
  {
   "cell_type": "markdown",
   "metadata": {},
   "source": [
    "_This notebook contains experimental results for Zero Noise Extrapolation (ZNE) in an indirect-control system._"
   ]
  },
  {
   "cell_type": "markdown",
   "metadata": {},
   "source": [
    "Zero-Noise Extrapolation (ZNE) is one of the most widely used techniques in quantum error mitigation to estimate the expectation value of an observable under noise-free conditions. In ZNE, noise is intentionally introduced into the quantum circuit, and the expectation value of the target observable is measured at different noise levels. Once sufficient data is collected, we extrapolate this data to the zero-noise limit.\n",
    "\n",
    "There are several strategies for zero-noise extrapolation, with the Richardson extrapolation technique being perhaps the most common. Here, we adapted the multivariate framework of Richardson extrapolation as discussed in the paper [_\"Quantum error mitigation by layerwise Richardson extrapolation\" by Vincent Russo and Andrea Mari (arXiv:2402.04000, 2024)_](https://arxiv.org/abs/2402.04000)."
   ]
  },
  {
   "cell_type": "markdown",
   "metadata": {},
   "source": [
    "### A. The code for multivariate Richardson extrapolation"
   ]
  },
  {
   "cell_type": "code",
   "execution_count": 23,
   "metadata": {},
   "outputs": [],
   "source": [
    "\"\"\"\n",
    "We have used the multivariate framework for Richardson extrapolation as discussed in the paper \"Quantum error mitigation by layerwise Richardson extrapolation\" by Vincent Russo and Andrea Mari (arXiv:2402.04000, 2024).\n",
    "\n",
    "Parts of the following code are adapted from their notebook, which can be found at the following GitHub repository: https://github.com/unitaryfund/research/blob/main/lre/layerwise_richardson_extrapolation.ipynb.\n",
    "\"\"\"\n",
    "\n",
    "import numpy as np\n",
    "from collections import Counter\n",
    "import itertools\n",
    " \n",
    "\n",
    "class ZeroNoiseExtrapolation:\n",
    "    def __init__(self, dataPoints: list[tuple[float]], degree: int):\n",
    "        \"\"\"\n",
    "        Initialize with a list of data points, each represented as a tuple of floats.\n",
    "        \"\"\"\n",
    "        self.dataPoints = dataPoints\n",
    "        self.degree = degree\n",
    "\n",
    "        self.NoiseData = [tuple(point[:3]) for point in self.dataPoints]\n",
    "        self.ExpectationVals = [point[-1] for point in dataPoints]\n",
    "\n",
    "    def getRichardsonZNE(self):\n",
    "\n",
    "        RichardsonZNEval = 0\n",
    "\n",
    "        sampleMatrix = self.sample_matrix(sample_points = self.NoiseData, degree = self.degree) # type: ignore\n",
    "        detA = np.linalg.det(sampleMatrix)\n",
    "\n",
    "        matrices = self.generate_modified_matrices(sampleMatrix) # type: ignore\n",
    "\n",
    "        for E, matrix in zip(self.ExpectationVals, matrices):\n",
    "            RichardsonZNEval += E * (np.linalg.det(matrix)/detA)\n",
    "        \n",
    "        return RichardsonZNEval\n",
    "     \n",
    "    @staticmethod\n",
    "    def get_monomials(n: int, d: int) -> list[str]:\n",
    "        \"\"\"\n",
    "        Compute monomials of degree `d` in graded lexicographical order.\n",
    "        \"\"\"\n",
    "        variables = [f\"λ_{i}\" for i in range(1, n + 1)]\n",
    "        \n",
    "        monomials = []\n",
    "        for degree in range(d, -1, -1):\n",
    "            # Generate combinations for the current degree\n",
    "            combos = list(itertools.combinations_with_replacement(variables, degree))\n",
    "            \n",
    "            # Sort combinations lexicographically\n",
    "            combos.sort()\n",
    "            \n",
    "            # Construct monomials from sorted combinations\n",
    "            for combo in combos:\n",
    "                monomial_parts = []\n",
    "                counts = Counter(combo)\n",
    "                # Ensure variables are processed in lexicographical order\n",
    "                for var in sorted(counts.keys()):\n",
    "                    count = counts[var]\n",
    "                    if count > 1:\n",
    "                        monomial_parts.append(f\"{var}**{count}\")\n",
    "                    else:\n",
    "                        monomial_parts.append(var)\n",
    "                monomial = \"*\".join(monomial_parts)\n",
    "                # Handle the case where degree is 0\n",
    "                if not monomial:\n",
    "                    monomial = \"1\"\n",
    "                monomials.append(monomial)\n",
    "        # \"1\" should be the first monomial. Note that order d > c > b > a means vector of monomials = [a, b, c, d].            \n",
    "        return monomials[::-1]\n",
    "\n",
    "    @staticmethod\n",
    "    def sample_matrix(sample_points: list[int], degree: int) -> np.ndarray:\n",
    "        \"\"\"Construct a matrix from monomials evaluated at sample points.\"\"\"\n",
    "        n = len(sample_points[0])  # type: ignore # Number of variables based on the first sample point\n",
    "        monomials = ZeroNoiseExtrapolation.get_monomials(n, degree) # type: ignore\n",
    "        matrix = np.zeros((len(sample_points), len(monomials)))\n",
    "\n",
    "        for i, point in enumerate(sample_points):\n",
    "            for j, monomial in enumerate(monomials):\n",
    "                var_mapping = {f\"λ_{k+1}\": point[k] for k in range(n)} # type: ignore\n",
    "                matrix[i, j] = eval(monomial, {}, var_mapping)\n",
    "        return matrix\n",
    "\n",
    "    @staticmethod\n",
    "    def generate_modified_matrices(matrix):\n",
    "        \"\"\"\n",
    "        It generates the Mi(0) matreces for i = 1 to length of sample matrix.\n",
    "        See this papaer for the detail mathematical formalism: \n",
    "        \"Quantum error mitigation by layerwise Richardson extrapolation\" by Vincent Russo, Andrea Mari, https://arxiv.org/abs/2402.04000\n",
    "        \"\"\"\n",
    "        n = len(matrix)  # Size of the square matrix\n",
    "        identity_row = [1] + [0] * (n - 1)  # Row to replace with\n",
    "\n",
    "        modified_matrices = []\n",
    "        determinants = []\n",
    "        for i in range(n):\n",
    "            # Create a copy of the original matrix\n",
    "            modified_matrix = np.copy(matrix)\n",
    "            # Replace the i-th row with the identity_row\n",
    "            modified_matrix[i] = identity_row\n",
    "            modified_matrices.append(modified_matrix)\n",
    "            # Calculate the determinant of the modified matrix\n",
    "            determinant = np.linalg.det(modified_matrix)\n",
    "            determinants.append(determinant)\n",
    "        \n",
    "        return modified_matrices    \n",
    "    "
   ]
  },
  {
   "cell_type": "markdown",
   "metadata": {},
   "source": [
    "### B. Experimental result"
   ]
  },
  {
   "cell_type": "markdown",
   "metadata": {},
   "source": [
    "In our noisy indirect circuit we can introduce different noise level by adjusting three noise factor. Therefore we have three independent variables and one dependent variable (i.e. the expectation value).\n"
   ]
  },
  {
   "cell_type": "markdown",
   "metadata": {},
   "source": [
    "#### 5-qubit system\n",
    "\n",
    "For a 5-qubit system, Indirect-VQE yields satisfactory results with a depth of 10 layers in a noise-free circuit. Consequently, for the noisy circuit, we have selected the same circuit depth.\n",
    "\n",
    "The noise probabilities for the noisy circuit are ( in the config file `circuit.noise.value : [0.0001, 0.0001, 0.0001, 0.0001]`\n",
    "\n",
    "First, we ran the Indirect-VQE with noisy circuit, but without any redundent identities (`circuit.noise.factor: [0, 0, 0`]) and obtain the optimized parameters (`optimization.status: True`)."
   ]
  },
  {
   "cell_type": "code",
   "execution_count": 27,
   "metadata": {},
   "outputs": [
    {
     "name": "stdout",
     "output_type": "stream",
     "text": [
      "Richardson extrapolated value: -3.943889509533736\n"
     ]
    }
   ],
   "source": [
    "# Data for 5-qubit, 10 layers system\n",
    "data_5Q = [\n",
    "    (4, 1, 0, -3.916268577812803),  # noise factor [ 0, 0, 0 ]\n",
    "    (12, 1, 3, -3.891039542364015), # noise factor [ 1, 0, 0 ]\n",
    "    (12, 3, 3, -3.8437860343347316), # noise factor [ 1, 1, 0 ]\n",
    "    (12, 3, 9, -3.8100008383254043), # noise factor [ 1, 1, 1 ]\n",
    "    (20, 1, 3, -3.86598644113986), # noise factor [ 2, 0, 0 ]\n",
    "    (20, 3, 3, -3.819049193145926), # noise factor [ 2, 1, 0 ]\n",
    "    (20, 3, 9, -3.7854901666397804), # noise factor [ 2, 1, 1 ]\n",
    "    (20, 5, 3, -3.772707487765387), # noise factor [ 2, 2, 0 ]\n",
    "    (20, 5, 9, -3.7067492774117636), # noise factor [ 2, 2, 1 ]\n",
    "    (20, 5, 15, -3.642004799002842) # noise facfor [ 2, 2, 2 ]\n",
    "]\n",
    "\n",
    "zne_5Q = ZeroNoiseExtrapolation(dataPoints = data_5Q, degree = 2)\n",
    "# Extrapolated value at (0, 0, 0)\n",
    "zne_5Q_val = zne_5Q.getRichardsonZNE()\n",
    "print(f\"Richardson extrapolated value: {zne_5Q_val}\")"
   ]
  },
  {
   "cell_type": "markdown",
   "metadata": {},
   "source": [
    "The exact expectation value is -3.999999999999999. There for the ZNE is working properly."
   ]
  },
  {
   "cell_type": "markdown",
   "metadata": {},
   "source": [
    "#### 8-qubit system\n",
    "\n",
    "Now 8-qubit system requires much deeper circuit compared to 5-qubit. \n",
    "Using the noise-less circuit, we have found that with 25 layers we get satisfactory result. Therefore we set the depeth of the noisy circuit to same.\n",
    "\n",
    "The noise probabilities for the noisy circuit are ( in the config file `circuit.noise.value : [0.0001, 0.0001, 0.0001, 0.0001]`\n",
    "\n",
    "First, we ran the Indirect-VQE with noisy circuit, but without any redundent identities (`circuit.noise.factor: [0, 0, 0`]) and obtain the optimized parameters (`optimization.status: True`)."
   ]
  },
  {
   "cell_type": "code",
   "execution_count": null,
   "metadata": {},
   "outputs": [],
   "source": [
    "# Data for 8-qubit system\n",
    "data_8Q = [\n",
    "    \n",
    "]"
   ]
  },
  {
   "cell_type": "markdown",
   "metadata": {},
   "source": [
    "The following is the configuration for our indirect circuit.\n",
    "\n",
    "```qubit = 8\n",
    "layer = 25\n",
    "noise probabilities = [0.0001, 0.0001, 0.0001, 0.0001]\n",
    "exact solution = -7.000000000000004\n",
    "```\n",
    "\n",
    "We ran our indirect eigen solver at various noise level by changing the `factor` value inside the `config.yml`"
   ]
  },
  {
   "cell_type": "code",
   "execution_count": 22,
   "metadata": {},
   "outputs": [
    {
     "data": {
      "text/plain": [
       "-6.821098781914534"
      ]
     },
     "execution_count": 22,
     "metadata": {},
     "output_type": "execute_result"
    }
   ],
   "source": [
    "data_sys1 = [\n",
    "    (4, 1, 0, -6.742247461826676),\n",
    "    (12, 3, 8, -6.405455124800368),\n",
    "    (12, 5, 24, -5.839787462274414),\n",
    "    (4, 7, 8, -5.991097523966149),\n",
    "    (4, 7, 24, -5.533783365921837),\n",
    "    (28, 9, 24, -5.005206166353052),\n",
    "    (4, 9, 56, -4.206331147604706),\n",
    "    (44, 1, 24, -6.357848309361182),\n",
    "    (44, 3, 24, -5.9516342852267075),\n",
    "    (4, 13, 8, -5.328222900577986)\n",
    "]\n",
    "\n",
    "zne_sys1 = ZeroNoiseExtrapolation(dataPoints= data_sys1, degree= 2)\n",
    "zne_sys1.getRichardsonZNE()"
   ]
  },
  {
   "cell_type": "markdown",
   "metadata": {},
   "source": [
    "System #2\n",
    "\n",
    "```qubit = 8\n",
    "layer = 25\n",
    "noise probabilities = [0.000001, 0.000001, 0.000001, 0.000001]\n",
    "exact solution = -7.000000000000004\n",
    "```\n"
   ]
  },
  {
   "cell_type": "code",
   "execution_count": 24,
   "metadata": {},
   "outputs": [
    {
     "data": {
      "text/plain": [
       "-6.256252868096004"
      ]
     },
     "execution_count": 24,
     "metadata": {},
     "output_type": "execute_result"
    }
   ],
   "source": [
    "data_set2 = [\n",
    "    (4, 1, 0, -6.254792723611204),\n",
    "    (12, 3, 8, -6.250858745027363),\n",
    "    (12, 5, 8, -6.2478883834002135),\n",
    "    (4, 5, 24, -6.244810370105138),\n",
    "    (20, 5, 24, -6.242889589082837),\n",
    "    (4, 7, 24, -6.239825585489937),\n",
    "    (12, 7, 40, -6.2328185853721925),\n",
    "    (12, 1, 40, -6.253830617363461),\n",
    "    (4, 11, 8, -6.23994604760344),\n",
    "    (12, 11, 8, -6.238986354642458)\n",
    "]\n",
    "\n",
    "zne_set2 = ZeroNoiseExtrapolation(dataPoints = data_set2, degree = 2)\n",
    "zne_set2.getRichardsonZNE()"
   ]
  },
  {
   "cell_type": "code",
   "execution_count": null,
   "metadata": {},
   "outputs": [],
   "source": []
  }
 ],
 "metadata": {
  "kernelspec": {
   "display_name": "QuantumEnv",
   "language": "python",
   "name": "python3"
  },
  "language_info": {
   "codemirror_mode": {
    "name": "ipython",
    "version": 3
   },
   "file_extension": ".py",
   "mimetype": "text/x-python",
   "name": "python",
   "nbconvert_exporter": "python",
   "pygments_lexer": "ipython3",
   "version": "3.10.12"
  }
 },
 "nbformat": 4,
 "nbformat_minor": 2
}
