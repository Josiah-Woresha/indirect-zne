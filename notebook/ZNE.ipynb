{
 "cells": [
  {
   "cell_type": "markdown",
   "metadata": {},
   "source": [
    "# Zero Noise Extrapolation (ZNE) for indirect-control system\n",
    "---"
   ]
  },
  {
   "cell_type": "code",
   "execution_count": 5,
   "metadata": {},
   "outputs": [],
   "source": [
    "# Importing modules\n",
    "import numpy as np\n",
    "import matplotlib.pyplot as plt\n",
    "from matplotlib.ticker import MaxNLocator\n",
    "from typing import List, Tuple\n",
    "from collections import Counter\n",
    "import itertools\n",
    "import scipy.linalg as la\n",
    "import random\n",
    "from sklearn.preprocessing import PolynomialFeatures\n",
    "from sklearn.linear_model import LinearRegression\n",
    "from sklearn.pipeline import make_pipeline\n"
   ]
  },
  {
   "cell_type": "code",
   "execution_count": null,
   "metadata": {},
   "outputs": [],
   "source": [
    "def sample_matrix(sample_points: list[int], degree: int) -> np.ndarray:\n",
    "    \"\"\"Construct a matrix from monomials evaluated at sample points.\"\"\"\n",
    "    n = len(sample_points[0])  # Number of variables based on the first sample point\n",
    "    monomials = get_monomials(n, degree)\n",
    "    matrix = np.zeros((len(sample_points), len(monomials)))\n",
    "\n",
    "    for i, point in enumerate(sample_points):\n",
    "        for j, monomial in enumerate(monomials):\n",
    "            var_mapping = {f\"λ_{k+1}\": point[k] for k in range(n)}\n",
    "            matrix[i, j] = eval(monomial, {}, var_mapping)\n",
    "    return matrix"
   ]
  }
 ],
 "metadata": {
  "kernelspec": {
   "display_name": "env",
   "language": "python",
   "name": "python3"
  },
  "language_info": {
   "codemirror_mode": {
    "name": "ipython",
    "version": 3
   },
   "file_extension": ".py",
   "mimetype": "text/x-python",
   "name": "python",
   "nbconvert_exporter": "python",
   "pygments_lexer": "ipython3",
   "version": "3.10.12"
  }
 },
 "nbformat": 4,
 "nbformat_minor": 2
}
