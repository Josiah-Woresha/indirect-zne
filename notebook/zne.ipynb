{
 "cells": [
  {
   "cell_type": "markdown",
   "metadata": {},
   "source": [
    "# Indirect Zero-Noise-Extrapolation\n",
    "---"
   ]
  },
  {
   "cell_type": "markdown",
   "metadata": {},
   "source": [
    "This notebook contains the experimental data and Zero-Noise-Extrapolation using various method."
   ]
  },
  {
   "cell_type": "markdown",
   "metadata": {},
   "source": [
    "## Zero-Noise-Extrapolation code"
   ]
  },
  {
   "cell_type": "code",
   "execution_count": 1,
   "metadata": {},
   "outputs": [],
   "source": [
    "\n",
    "import itertools\n",
    "from collections import Counter\n",
    "import numpy as np\n",
    "\n",
    "def get_monomials(n: int, d: int) -> list[str]:\n",
    "\n",
    "    \"\"\"\n",
    "    Compute monomials of degree `d` in graded lexicographical order.\n",
    "    \"\"\"\n",
    "\n",
    "    variables = [f\"λ_{i}\" for i in range(1, n + 1)]\n",
    "    \n",
    "    monomials = []\n",
    "    for degree in range(d, -1, -1):\n",
    "        # Generate combinations for the current degree\n",
    "        combos = list(itertools.combinations_with_replacement(variables, degree))\n",
    "        \n",
    "        # Sort combinations lexicographically\n",
    "        combos.sort()\n",
    "        \n",
    "        # Construct monomials from sorted combinations\n",
    "        for combo in combos:\n",
    "            monomial_parts = []\n",
    "            counts = Counter(combo)\n",
    "            # Ensure variables are processed in lexicographical order\n",
    "            for var in sorted(counts.keys()):\n",
    "                count = counts[var]\n",
    "                if count > 1:\n",
    "                    monomial_parts.append(f\"{var}**{count}\")\n",
    "                else:\n",
    "                    monomial_parts.append(var)\n",
    "            monomial = \"*\".join(monomial_parts)\n",
    "            # Handle the case where degree is 0\n",
    "            if not monomial:\n",
    "                monomial = \"1\"\n",
    "            monomials.append(monomial)\n",
    "    # \"1\" should be the first monomial. Note that order d > c > b > a means vector of monomials = [a, b, c, d].            \n",
    "    return monomials[::-1]\n",
    "\n",
    "def sample_matrix(sample_points: list[int], degree: int) -> np.ndarray:\n",
    "\n",
    "    \"\"\"\n",
    "    Construct a matrix from monomials evaluated at sample points.\n",
    "    \"\"\"\n",
    "    n = len(sample_points[0])  # type: ignore # Number of variables based on the first sample point\n",
    "    monomials = get_monomials(n, degree) # type: ignore\n",
    "    matrix = np.zeros((len(sample_points), len(monomials)))\n",
    "\n",
    "    for i, point in enumerate(sample_points):\n",
    "        for j, monomial in enumerate(monomials):\n",
    "            var_mapping = {f\"λ_{k+1}\": point[k] for k in range(n)} # type: ignore\n",
    "            matrix[i, j] = eval(monomial, {}, var_mapping)\n",
    "    return matrix\n",
    "\n",
    "def generate_modified_matrices(matrix):\n",
    "\n",
    "    n = len(matrix)  # Size of the square matrix\n",
    "    identity_row = [1] + [0] * (n - 1)  # Row to replace with\n",
    "\n",
    "    modified_matrices = []\n",
    "    determinants = []\n",
    "    for i in range(n):\n",
    "        # Create a copy of the original matrix\n",
    "        modified_matrix = np.copy(matrix)\n",
    "        # Replace the i-th row with the identity_row\n",
    "        modified_matrix[i] = identity_row\n",
    "        modified_matrices.append(modified_matrix)\n",
    "        # Calculate the determinant of the modified matrix\n",
    "        determinant = np.linalg.det(modified_matrix)\n",
    "        determinants.append(determinant)\n",
    "    \n",
    "    return modified_matrices \n",
    "\n",
    "class ZeroNoiseExtrapolation:\n",
    "    def __init__(self, dataPoints: list[tuple[float]], degree: int):\n",
    "        \"\"\"\n",
    "        Initialize with a list of data points, each represented as a tuple of floats.\n",
    "        \"\"\"\n",
    "        self.dataPoints = dataPoints\n",
    "        self.degree = degree\n",
    "\n",
    "        self.NoiseData = [tuple(point[:3]) for point in self.dataPoints]\n",
    "        self.ExpectationVals = [point[-1] for point in dataPoints]\n",
    "  \n",
    "    def getRichardsonZNE(self):\n",
    "\n",
    "        RichardsonZNEval = 0\n",
    "\n",
    "        sampleMatrix = sample_matrix(sample_points = self.NoiseData, degree = self.degree) # type: ignore\n",
    "        detA = np.linalg.det(sampleMatrix)\n",
    "\n",
    "        matrices = generate_modified_matrices(sampleMatrix) # type: ignore\n",
    "\n",
    "        for E, matrix in zip(self.ExpectationVals, matrices):\n",
    "            RichardsonZNEval += E * (np.linag.det(matrix)/detA)\n",
    "        \n",
    "        return RichardsonZNEval\n",
    "    \n",
    "    "
   ]
  },
  {
   "cell_type": "code",
   "execution_count": 2,
   "metadata": {},
   "outputs": [
    {
     "ename": "AttributeError",
     "evalue": "module 'numpy' has no attribute 'linag'",
     "output_type": "error",
     "traceback": [
      "\u001b[0;31m---------------------------------------------------------------------------\u001b[0m",
      "\u001b[0;31mAttributeError\u001b[0m                            Traceback (most recent call last)",
      "Cell \u001b[0;32mIn[2], line 14\u001b[0m\n\u001b[1;32m      1\u001b[0m data_points \u001b[38;5;241m=\u001b[39m [\n\u001b[1;32m      2\u001b[0m     (\u001b[38;5;241m12\u001b[39m, \u001b[38;5;241m5\u001b[39m, \u001b[38;5;241m18\u001b[39m, \u001b[38;5;241m-\u001b[39m\u001b[38;5;241m3.717054761326808\u001b[39m),\n\u001b[1;32m      3\u001b[0m     (\u001b[38;5;241m20\u001b[39m, \u001b[38;5;241m1\u001b[39m, \u001b[38;5;241m30\u001b[39m, \u001b[38;5;241m-\u001b[39m\u001b[38;5;241m3.874319285474221\u001b[39m),\n\u001b[0;32m   (...)\u001b[0m\n\u001b[1;32m     11\u001b[0m     (\u001b[38;5;241m36\u001b[39m, \u001b[38;5;241m11\u001b[39m, \u001b[38;5;241m42\u001b[39m, \u001b[38;5;241m-\u001b[39m\u001b[38;5;241m3.053170929882078\u001b[39m)\n\u001b[1;32m     12\u001b[0m ]\n\u001b[1;32m     13\u001b[0m ZNE \u001b[38;5;241m=\u001b[39m ZeroNoiseExtrapolation(dataPoints \u001b[38;5;241m=\u001b[39m data_points, degree \u001b[38;5;241m=\u001b[39m \u001b[38;5;241m2\u001b[39m)\n\u001b[0;32m---> 14\u001b[0m \u001b[43mZNE\u001b[49m\u001b[38;5;241;43m.\u001b[39;49m\u001b[43mgetRichardsonZNE\u001b[49m\u001b[43m(\u001b[49m\u001b[43m)\u001b[49m\n",
      "Cell \u001b[0;32mIn[1], line 95\u001b[0m, in \u001b[0;36mZeroNoiseExtrapolation.getRichardsonZNE\u001b[0;34m(self)\u001b[0m\n\u001b[1;32m     92\u001b[0m matrices \u001b[38;5;241m=\u001b[39m generate_modified_matrices(sampleMatrix) \u001b[38;5;66;03m# type: ignore\u001b[39;00m\n\u001b[1;32m     94\u001b[0m \u001b[38;5;28;01mfor\u001b[39;00m E, matrix \u001b[38;5;129;01min\u001b[39;00m \u001b[38;5;28mzip\u001b[39m(\u001b[38;5;28mself\u001b[39m\u001b[38;5;241m.\u001b[39mExpectationVals, matrices):\n\u001b[0;32m---> 95\u001b[0m     RichardsonZNEval \u001b[38;5;241m+\u001b[39m\u001b[38;5;241m=\u001b[39m E \u001b[38;5;241m*\u001b[39m (\u001b[43mnp\u001b[49m\u001b[38;5;241;43m.\u001b[39;49m\u001b[43mlinag\u001b[49m\u001b[38;5;241m.\u001b[39mdet(matrix)\u001b[38;5;241m/\u001b[39mdetA)\n\u001b[1;32m     97\u001b[0m \u001b[38;5;28;01mreturn\u001b[39;00m RichardsonZNEval\n",
      "File \u001b[0;32m~/Desktop/QuantumEnv/lib/python3.10/site-packages/numpy/__init__.py:333\u001b[0m, in \u001b[0;36m__getattr__\u001b[0;34m(attr)\u001b[0m\n\u001b[1;32m    330\u001b[0m     \u001b[38;5;124m\"\u001b[39m\u001b[38;5;124mRemoved in NumPy 1.25.0\u001b[39m\u001b[38;5;124m\"\u001b[39m\n\u001b[1;32m    331\u001b[0m     \u001b[38;5;28;01mraise\u001b[39;00m \u001b[38;5;167;01mRuntimeError\u001b[39;00m(\u001b[38;5;124m\"\u001b[39m\u001b[38;5;124mTester was removed in NumPy 1.25.\u001b[39m\u001b[38;5;124m\"\u001b[39m)\n\u001b[0;32m--> 333\u001b[0m \u001b[38;5;28;01mraise\u001b[39;00m \u001b[38;5;167;01mAttributeError\u001b[39;00m(\u001b[38;5;124m\"\u001b[39m\u001b[38;5;124mmodule \u001b[39m\u001b[38;5;132;01m{!r}\u001b[39;00m\u001b[38;5;124m has no attribute \u001b[39m\u001b[38;5;124m\"\u001b[39m\n\u001b[1;32m    334\u001b[0m                      \u001b[38;5;124m\"\u001b[39m\u001b[38;5;132;01m{!r}\u001b[39;00m\u001b[38;5;124m\"\u001b[39m\u001b[38;5;241m.\u001b[39mformat(\u001b[38;5;18m__name__\u001b[39m, attr))\n",
      "\u001b[0;31mAttributeError\u001b[0m: module 'numpy' has no attribute 'linag'"
     ]
    }
   ],
   "source": [
    "data_points = [\n",
    "    (12, 5, 18, -3.717054761326808),\n",
    "    (20, 1, 30, -3.874319285474221),\n",
    "    (4, 5, 6, -3.8215866373279432),\n",
    "    (28, 7, 6, -3.687171847866942),\n",
    "    (4, 9, 18, -3.5663020157522007),\n",
    "    (4, 1, 0, -3.9308629429508755),\n",
    "    (12, 3, 6, -3.84785786134227),\n",
    "    (4, 11, 6, -3.6634401626134006),\n",
    "    (20, 11, 30, -3.2597725821448074),\n",
    "    (36, 11, 42, -3.053170929882078)\n",
    "]\n",
    "ZNE = ZeroNoiseExtrapolation(dataPoints = data_points, degree = 2)\n",
    "ZNE.getRichardsonZNE()"
   ]
  },
  {
   "cell_type": "markdown",
   "metadata": {},
   "source": [
    "### Linear regression\n",
    "\n",
    "The general single variable linear regression: $E_{linear}(\\lambda)=c_0 + c_1\\lambda$\n",
    "\n",
    "Multivariate linear regression:\n",
    "\n",
    "$$E_{linear}(n_R, n_T, nY)=c_0 + c_1 n_R + c_2 n_T + c_3 n_Y$$\n",
    "\n",
    "Where independent variables are: $n_R, n_T, n_Y$"
   ]
  },
  {
   "cell_type": "code",
   "execution_count": 3,
   "metadata": {},
   "outputs": [],
   "source": [
    "import numpy as np\n",
    "from sklearn.linear_model import LinearRegression\n",
    "import matplotlib.pyplot as plt\n",
    "\n",
    "import itertools\n",
    "import os\n",
    "import pickle\n",
    "import random\n",
    "from collections import Counter, defaultdict\n",
    "from copy import deepcopy\n",
    "from typing import Any, Callable, Generator, Optional\n",
    "# Functional programming utilities.\n",
    "import functools\n",
    "\n",
    "from sympy import *\n",
    "init_printing(use_unicode=True)"
   ]
  },
  {
   "cell_type": "code",
   "execution_count": 2,
   "metadata": {},
   "outputs": [],
   "source": [
    "def get_monomials(n: int, d: int) -> list[str]:\n",
    "    \"\"\"Compute monomials of degree `d` in graded lexicographical order.\"\"\"\n",
    "    variables = [f\"λ_{i}\" for i in range(1, n + 1)]\n",
    "    \n",
    "    monomials = []\n",
    "    for degree in range(d, -1, -1):\n",
    "        # Generate combinations for the current degree\n",
    "        combos = list(itertools.combinations_with_replacement(variables, degree))\n",
    "        \n",
    "        # Sort combinations lexicographically\n",
    "        combos.sort()\n",
    "        \n",
    "        # Construct monomials from sorted combinations\n",
    "        for combo in combos:\n",
    "            monomial_parts = []\n",
    "            counts = Counter(combo)\n",
    "            # Ensure variables are processed in lexicographical order\n",
    "            for var in sorted(counts.keys()):\n",
    "                count = counts[var]\n",
    "                if count > 1:\n",
    "                    monomial_parts.append(f\"{var}**{count}\")\n",
    "                else:\n",
    "                    monomial_parts.append(var)\n",
    "            monomial = \"*\".join(monomial_parts)\n",
    "            # Handle the case where degree is 0\n",
    "            if not monomial:\n",
    "                monomial = \"1\"\n",
    "            monomials.append(monomial)\n",
    "    # \"1\" should be the first monomial. Note that order d > c > b > a means vector of monomials = [a, b, c, d].            \n",
    "    return monomials[::-1]\n",
    "\n",
    "def sample_matrix(sample_points: list[int], degree: int) -> np.ndarray:\n",
    "    \"\"\"Construct a matrix from monomials evaluated at sample points.\"\"\"\n",
    "    n = len(sample_points[0])  # Number of variables based on the first sample point\n",
    "    monomials = get_monomials(n, degree)\n",
    "    matrix = np.zeros((len(sample_points), len(monomials)))\n",
    "\n",
    "    for i, point in enumerate(sample_points):\n",
    "        for j, monomial in enumerate(monomials):\n",
    "            var_mapping = {f\"λ_{k+1}\": point[k] for k in range(n)}\n",
    "            matrix[i, j] = eval(monomial, {}, var_mapping)\n",
    "    return matrix\n",
    "\n",
    "def get_eta_coeffs_from_sample_matrix(mat: np.ndarray) -> list[float]:\n",
    "    \"\"\"Given a sample matrix compute the eta coefficients.\"\"\"\n",
    "    n_rows, n_cols = mat.shape\n",
    "    if n_rows != n_cols:\n",
    "        raise ValueError(\"The matrix must be square.\")\n",
    "\n",
    "    det_m = np.linalg.det(mat)    \n",
    "    if det_m == 0:\n",
    "        raise ValueError(\"The matrix is singular.\")\n",
    "    \n",
    "    terms = []\n",
    "    for i in range(n_rows):\n",
    "        new_mat = mat.copy()\n",
    "        new_mat[i] = np.array([[0] * (n_cols - 1) + [1]])        \n",
    "        terms.append(np.linalg.det(new_mat) / det_m)\n",
    "\n",
    "    return terms\n",
    "\n",
    "def get_eta_coeffs(lre_scale_factors: list[float], degree: int) -> list[float]:\n",
    "    \"\"\"Obtain eta coefficients from list of scale factors and degree.\"\"\"\n",
    "    mat = sample_matrix(sample_points=lre_scale_factors, degree=degree)\n",
    "    return get_eta_coeffs_from_sample_matrix(mat)\n",
    "\n",
    "def get_eta_coeffs_single_variable(scale_factors: list[float]) -> list[float]:\n",
    "    \"\"\"Returns the array of single-variable Richardson extrapolation coefficients associated\n",
    "    to the input array of scale factors.\"\"\"\n",
    "    # Lagrange interpolation formula.\n",
    "    richardson_coeffs = []\n",
    "    for l in scale_factors:\n",
    "        coeff = 1.0\n",
    "        for l_prime in scale_factors:\n",
    "            if l_prime == l:\n",
    "                continue\n",
    "            coeff *= l_prime / (l_prime - l)\n",
    "        richardson_coeffs.append(coeff)\n",
    "\n",
    "    return richardson_coeffs"
   ]
  },
  {
   "cell_type": "code",
   "execution_count": 5,
   "metadata": {},
   "outputs": [],
   "source": [
    "# sample_points = [ (4, 1, 0), (12, 3, 1), (20, 5, 2), (28, 7, 3), (36, 9, 4), (44, 11, 5), (52, 13, 6), (60, 15, 7), (68, 17, 8), (76, 19, 9), (84, 21, 10), (92, 23, 11), (100, 25, 12), (108, 27, 13), (116, 29, 14), (124, 31, 15), (132, 33, 16), (140, 35, 17), (148, 37, 18), (156, 39, 19)]\n",
    "# sample_points = [(4, 1, -5.907748909320789, 0),\n",
    "# (12, 1, -5.916920204491979, 0),\n",
    "# (12, 3, -5.800746641641066, 1),\n",
    "# (20, 3, -5.764809805003449, 1),\n",
    "# (20, 5, -5.679828979633399, 2)\n",
    "# ] "
   ]
  },
  {
   "cell_type": "code",
   "execution_count": 6,
   "metadata": {},
   "outputs": [
    {
     "name": "stdout",
     "output_type": "stream",
     "text": [
      "Monomials: ['1', 'λ_2', 'λ_1']\n",
      "Monomials: 3\n"
     ]
    }
   ],
   "source": [
    "n, d = 2, 1\n",
    "sample_points = [\n",
    "    (4, 1), (12, 5), (20, 5)\n",
    "]\n",
    "monomials = get_monomials(n=n, d=d)\n",
    "print(f\"Monomials: {monomials}\")\n",
    "print(f\"Monomials: {len(monomials)}\")"
   ]
  },
  {
   "cell_type": "code",
   "execution_count": 7,
   "metadata": {},
   "outputs": [
    {
     "data": {
      "text/latex": [
       "$\\displaystyle \\left[\\begin{matrix}1.0 & 1.0 & 4.0\\\\1.0 & 5.0 & 12.0\\\\1.0 & 5.0 & 20.0\\end{matrix}\\right]$"
      ],
      "text/plain": [
       "⎡1.0  1.0  4.0 ⎤\n",
       "⎢              ⎥\n",
       "⎢1.0  5.0  12.0⎥\n",
       "⎢              ⎥\n",
       "⎣1.0  5.0  20.0⎦"
      ]
     },
     "execution_count": 7,
     "metadata": {},
     "output_type": "execute_result"
    }
   ],
   "source": [
    "mat = sample_matrix(sample_points=sample_points, degree=d)\n",
    "Matrix(mat)"
   ]
  },
  {
   "cell_type": "code",
   "execution_count": 8,
   "metadata": {},
   "outputs": [],
   "source": [
    "m = np.linalg.det(mat)"
   ]
  },
  {
   "cell_type": "code",
   "execution_count": 9,
   "metadata": {},
   "outputs": [
    {
     "data": {
      "image/png": "[encoded data removed]",
      "text/latex": [
       "$\\displaystyle 32.0$"
      ],
      "text/plain": [
       "31.999999999999986"
      ]
     },
     "execution_count": 9,
     "metadata": {},
     "output_type": "execute_result"
    }
   ],
   "source": [
    "m"
   ]
  },
  {
   "cell_type": "code",
   "execution_count": 10,
   "metadata": {},
   "outputs": [
    {
     "name": "stdout",
     "output_type": "stream",
     "text": [
      "0.25*λ2 - 1.25\n"
     ]
    }
   ],
   "source": [
    "from sympy import Matrix\n",
    "\n",
    "# Define the matrix\n",
    "m1 = Matrix([\n",
    "    [1, Symbol('λ1'), Symbol('λ2')],\n",
    "    [1, 12, 5],\n",
    "    [1, 20, 5]\n",
    "])\n",
    "\n",
    "# Calculate determinant\n",
    "det1 = m1.det()\n",
    "\n",
    "print(det1/m)\n"
   ]
  },
  {
   "cell_type": "code",
   "execution_count": 11,
   "metadata": {},
   "outputs": [
    {
     "name": "stdout",
     "output_type": "stream",
     "text": [
      "0.125*λ1 - 0.5*λ2\n"
     ]
    }
   ],
   "source": [
    "# Define the matrix\n",
    "m2 = Matrix([\n",
    "    [1, 4, 1],\n",
    "    [1, Symbol('λ1'), Symbol('λ2')],\n",
    "    [1, 20, 5]\n",
    "])\n",
    "\n",
    "# Calculate determinant\n",
    "det2 = m2.det()\n",
    "\n",
    "print(det2/m)"
   ]
  },
  {
   "cell_type": "code",
   "execution_count": 12,
   "metadata": {},
   "outputs": [
    {
     "name": "stdout",
     "output_type": "stream",
     "text": [
      "-0.125*λ1 + 0.25*λ2 + 0.25\n"
     ]
    }
   ],
   "source": [
    "m3 = Matrix([\n",
    "    [1, 4, 1],\n",
    "    [1, 12, 5],\n",
    "    [1, Symbol('λ1'), Symbol('λ2')]\n",
    "])\n",
    "\n",
    "# Calculate determinant\n",
    "det3 = m3.det()\n",
    "\n",
    "print(det3/m)"
   ]
  },
  {
   "cell_type": "code",
   "execution_count": 13,
   "metadata": {},
   "outputs": [
    {
     "name": "stdout",
     "output_type": "stream",
     "text": [
      "-1\n"
     ]
    }
   ],
   "source": [
    "print((det1/32)+(det2/32)+(det3/32))"
   ]
  },
  {
   "cell_type": "code",
   "execution_count": 14,
   "metadata": {},
   "outputs": [
    {
     "name": "stdout",
     "output_type": "stream",
     "text": [
      "Monomials: ['1', 'λ_2', 'λ_1']\n",
      "Monomials: 3\n"
     ]
    },
    {
     "data": {
      "text/latex": [
       "$\\displaystyle \\left[\\begin{matrix}1.0 & 0 & 0\\\\1.0 & 1.0 & 0\\\\1.0 & 1.0 & 1.0\\end{matrix}\\right]$"
      ],
      "text/plain": [
       "⎡1.0   0    0 ⎤\n",
       "⎢             ⎥\n",
       "⎢1.0  1.0   0 ⎥\n",
       "⎢             ⎥\n",
       "⎣1.0  1.0  1.0⎦"
      ]
     },
     "execution_count": 14,
     "metadata": {},
     "output_type": "execute_result"
    }
   ],
   "source": [
    "n =2\n",
    "d= 1\n",
    "sample_points = [(0,0), (0,1), (1,1)]\n",
    "monomials = get_monomials(n=n, d=d)\n",
    "print(f\"Monomials: {monomials}\")\n",
    "print(f\"Monomials: {len(monomials)}\")\n",
    "mat = sample_matrix(sample_points=sample_points, degree=d)\n",
    "Matrix(mat)"
   ]
  },
  {
   "cell_type": "code",
   "execution_count": 15,
   "metadata": {},
   "outputs": [
    {
     "data": {
      "image/png": "[encoded data removed]",
      "text/latex": [
       "$\\displaystyle \\left[ 0.0, \\  -1.0, \\  1.0\\right]$"
      ],
      "text/plain": [
       "[0.0, -1.0, 1.0]"
      ]
     },
     "execution_count": 15,
     "metadata": {},
     "output_type": "execute_result"
    }
   ],
   "source": [
    "get_eta_coeffs_from_sample_matrix(mat)"
   ]
  },
  {
   "cell_type": "code",
   "execution_count": null,
   "metadata": {},
   "outputs": [],
   "source": []
  },
  {
   "cell_type": "code",
   "execution_count": 16,
   "metadata": {},
   "outputs": [
    {
     "name": "stdout",
     "output_type": "stream",
     "text": [
      "Monomials: ['1', 'λ_2', 'λ_1', 'λ_2**2', 'λ_1*λ_2', 'λ_1**2']\n",
      "Monomials: 6\n"
     ]
    }
   ],
   "source": [
    "n, d = 2, 2\n",
    "sample_points = [\n",
    "    (4, 1), (12, 7), (36, 5), (36, 13), (52, 5), (52, 13)\n",
    "]\n",
    "monomials = get_monomials(n=n, d=d)\n",
    "print(f\"Monomials: {monomials}\")\n",
    "print(f\"Monomials: {len(monomials)}\")\n",
    "\n"
   ]
  },
  {
   "cell_type": "code",
   "execution_count": 17,
   "metadata": {},
   "outputs": [
    {
     "data": {
      "text/latex": [
       "$\\displaystyle \\left[\\begin{matrix}1.0 & 1.0 & 4.0 & 1.0 & 4.0 & 16.0\\\\1.0 & 7.0 & 12.0 & 49.0 & 84.0 & 144.0\\\\1.0 & 5.0 & 36.0 & 25.0 & 180.0 & 1296.0\\\\1.0 & 13.0 & 36.0 & 169.0 & 468.0 & 1296.0\\\\1.0 & 5.0 & 52.0 & 25.0 & 260.0 & 2704.0\\\\1.0 & 13.0 & 52.0 & 169.0 & 676.0 & 2704.0\\end{matrix}\\right]$"
      ],
      "text/plain": [
       "⎡1.0  1.0   4.0    1.0    4.0    16.0 ⎤\n",
       "⎢                                     ⎥\n",
       "⎢1.0  7.0   12.0  49.0   84.0   144.0 ⎥\n",
       "⎢                                     ⎥\n",
       "⎢1.0  5.0   36.0  25.0   180.0  1296.0⎥\n",
       "⎢                                     ⎥\n",
       "⎢1.0  13.0  36.0  169.0  468.0  1296.0⎥\n",
       "⎢                                     ⎥\n",
       "⎢1.0  5.0   52.0  25.0   260.0  2704.0⎥\n",
       "⎢                                     ⎥\n",
       "⎣1.0  13.0  52.0  169.0  676.0  2704.0⎦"
      ]
     },
     "execution_count": 17,
     "metadata": {},
     "output_type": "execute_result"
    }
   ],
   "source": [
    "mat = sample_matrix(sample_points=sample_points, degree=d)\n",
    "Matrix(mat)"
   ]
  },
  {
   "cell_type": "code",
   "execution_count": 18,
   "metadata": {},
   "outputs": [],
   "source": [
    "A = np.linalg.det(mat)"
   ]
  },
  {
   "cell_type": "code",
   "execution_count": 19,
   "metadata": {},
   "outputs": [
    {
     "data": {
      "image/png": "[encoded data removed]",
      "text/latex": [
       "$\\displaystyle \\left[ 0.000186011904761905, \\  0.000744047619047619, \\  -0.00223214285714286, \\  -0.000186011904761905, \\  0.00139508928571429, \\  9.30059523809515 \\cdot 10^{-5}\\right]$"
      ],
      "text/plain": [
       "[0.00018601190476190505, 0.000744047619047619, -0.0022321428571428596, -0.0001\n",
       "8601190476190537, 0.0013950892857142881, 9.300595238095152e-05]"
      ]
     },
     "execution_count": 19,
     "metadata": {},
     "output_type": "execute_result"
    }
   ],
   "source": [
    "get_eta_coeffs_from_sample_matrix(mat)"
   ]
  },
  {
   "cell_type": "markdown",
   "metadata": {},
   "source": [
    "$ E = c_1 + c_2 n_T + c_3 n_R + c_4 n^{2}_{T} + c_5 n_R n_T + c_6 n^{2}_T$"
   ]
  },
  {
   "cell_type": "code",
   "execution_count": 20,
   "metadata": {},
   "outputs": [
    {
     "data": {
      "image/png": "[encoded data removed]",
      "text/latex": [
       "$\\displaystyle \\left( \\left( 4, \\  1, \\  -5.94281775459738\\right), \\  \\left( 12, \\  7, \\  5.61063068880568\\right), \\  \\left( 36, \\  5, \\  -5.61959508599682\\right), \\  \\left( 36, \\  13, \\  -5.26767437357714\\right), \\  \\left( 52, \\  5, \\  -5.54052134678994\\right), \\  \\left( 52, \\  13, \\  -5.1352646241482\\right)\\right)$"
      ],
      "text/plain": [
       "((4, 1, -5.942817754597376), (12, 7, 5.610630688805676), (36, 5, -5.6195950859\n",
       "9682), (36, 13, -5.267674373577144), (52, 5, -5.540521346789942), (52, 13, -5.\n",
       "135264624148199))"
      ]
     },
     "execution_count": 20,
     "metadata": {},
     "output_type": "execute_result"
    }
   ],
   "source": [
    "(4, 1, -5.942817754597376), (12, 7, 5.610630688805676), (36, 5, -5.61959508599682), (36, 13, -5.267674373577144), (52, 5, -5.540521346789942), (52, 13, -5.135264624148199)"
   ]
  },
  {
   "cell_type": "code",
   "execution_count": 21,
   "metadata": {},
   "outputs": [
    {
     "data": {
      "image/png": "[encoded data removed]",
      "text/latex": [
       "$\\displaystyle -1056964608.0$"
      ],
      "text/plain": [
       "-1056964607.9999993"
      ]
     },
     "execution_count": 21,
     "metadata": {},
     "output_type": "execute_result"
    }
   ],
   "source": [
    "A"
   ]
  },
  {
   "cell_type": "code",
   "execution_count": 22,
   "metadata": {},
   "outputs": [
    {
     "data": {
      "text/plain": [
       "array([[1.000e+00, 1.000e+00, 4.000e+00, 1.000e+00, 4.000e+00, 1.600e+01],\n",
       "       [1.000e+00, 7.000e+00, 1.200e+01, 4.900e+01, 8.400e+01, 1.440e+02],\n",
       "       [1.000e+00, 5.000e+00, 3.600e+01, 2.500e+01, 1.800e+02, 1.296e+03],\n",
       "       [1.000e+00, 1.300e+01, 3.600e+01, 1.690e+02, 4.680e+02, 1.296e+03],\n",
       "       [1.000e+00, 5.000e+00, 5.200e+01, 2.500e+01, 2.600e+02, 2.704e+03],\n",
       "       [1.000e+00, 1.300e+01, 5.200e+01, 1.690e+02, 6.760e+02, 2.704e+03]])"
      ]
     },
     "execution_count": 22,
     "metadata": {},
     "output_type": "execute_result"
    }
   ],
   "source": [
    "mat"
   ]
  },
  {
   "cell_type": "code",
   "execution_count": 23,
   "metadata": {},
   "outputs": [],
   "source": [
    "A = np.array([[1.000e+00, 1.000e+00, 4.000e+00, 1.000e+00, 4.000e+00, 1.600e+01],\n",
    "       [1.000e+00, 7.000e+00, 1.200e+01, 4.900e+01, 8.400e+01, 1.440e+02],\n",
    "       [1.000e+00, 5.000e+00, 3.600e+01, 2.500e+01, 1.800e+02, 1.296e+03],\n",
    "       [1.000e+00, 1.300e+01, 3.600e+01, 1.690e+02, 4.680e+02, 1.296e+03],\n",
    "       [1.000e+00, 5.000e+00, 5.200e+01, 2.500e+01, 2.600e+02, 2.704e+03],\n",
    "       [1.000e+00, 1.300e+01, 5.200e+01, 1.690e+02, 6.760e+02, 2.704e+03]])\n",
    "\n",
    "M1 = np.array([[1, 0, 0, 0, 0, 0],\n",
    "       [1.000e+00, 7.000e+00, 1.200e+01, 4.900e+01, 8.400e+01, 1.440e+02],\n",
    "       [1.000e+00, 5.000e+00, 3.600e+01, 2.500e+01, 1.800e+02, 1.296e+03],\n",
    "       [1.000e+00, 1.300e+01, 3.600e+01, 1.690e+02, 4.680e+02, 1.296e+03],\n",
    "       [1.000e+00, 5.000e+00, 5.200e+01, 2.500e+01, 2.600e+02, 2.704e+03],\n",
    "       [1.000e+00, 1.300e+01, 5.200e+01, 1.690e+02, 6.760e+02, 2.704e+03]])\n",
    "\n",
    "\n",
    "\n",
    "M2 = np.array([[1.000e+00, 1.000e+00, 4.000e+00, 1.000e+00, 4.000e+00, 1.600e+01],\n",
    "       [1, 0, 0, 0, 0, 0],\n",
    "       [1.000e+00, 5.000e+00, 3.600e+01, 2.500e+01, 1.800e+02, 1.296e+03],\n",
    "       [1.000e+00, 1.300e+01, 3.600e+01, 1.690e+02, 4.680e+02, 1.296e+03],\n",
    "       [1.000e+00, 5.000e+00, 5.200e+01, 2.500e+01, 2.600e+02, 2.704e+03],\n",
    "       [1.000e+00, 1.300e+01, 5.200e+01, 1.690e+02, 6.760e+02, 2.704e+03]])\n",
    "\n",
    "M3 = np.array([[1.000e+00, 1.000e+00, 4.000e+00, 1.000e+00, 4.000e+00, 1.600e+01],\n",
    "       [1.000e+00, 7.000e+00, 1.200e+01, 4.900e+01, 8.400e+01, 1.440e+02],\n",
    "       [1, 0, 0, 0, 0, 0],\n",
    "       [1.000e+00, 1.300e+01, 3.600e+01, 1.690e+02, 4.680e+02, 1.296e+03],\n",
    "       [1.000e+00, 5.000e+00, 5.200e+01, 2.500e+01, 2.600e+02, 2.704e+03],\n",
    "       [1.000e+00, 1.300e+01, 5.200e+01, 1.690e+02, 6.760e+02, 2.704e+03]])\n",
    "\n",
    "M4 = np.array([[1.000e+00, 1.000e+00, 4.000e+00, 1.000e+00, 4.000e+00, 1.600e+01],\n",
    "       [1.000e+00, 7.000e+00, 1.200e+01, 4.900e+01, 8.400e+01, 1.440e+02],\n",
    "       [1.000e+00, 5.000e+00, 3.600e+01, 2.500e+01, 1.800e+02, 1.296e+03],\n",
    "       [1, 0, 0, 0, 0, 0],\n",
    "       [1.000e+00, 5.000e+00, 5.200e+01, 2.500e+01, 2.600e+02, 2.704e+03],\n",
    "       [1.000e+00, 1.300e+01, 5.200e+01, 1.690e+02, 6.760e+02, 2.704e+03]])\n",
    "\n",
    "M5 = np.array([[1.000e+00, 1.000e+00, 4.000e+00, 1.000e+00, 4.000e+00, 1.600e+01],\n",
    "       [1.000e+00, 7.000e+00, 1.200e+01, 4.900e+01, 8.400e+01, 1.440e+02],\n",
    "       [1.000e+00, 5.000e+00, 3.600e+01, 2.500e+01, 1.800e+02, 1.296e+03],\n",
    "       [1.000e+00, 1.300e+01, 3.600e+01, 1.690e+02, 4.680e+02, 1.296e+03],\n",
    "       [1, 0, 0, 0, 0, 0],\n",
    "       [1.000e+00, 1.300e+01, 5.200e+01, 1.690e+02, 6.760e+02, 2.704e+03]])\n",
    "\n",
    "M6 = np.array([[1.000e+00, 1.000e+00, 4.000e+00, 1.000e+00, 4.000e+00, 1.600e+01],\n",
    "       [1.000e+00, 7.000e+00, 1.200e+01, 4.900e+01, 8.400e+01, 1.440e+02],\n",
    "       [1.000e+00, 5.000e+00, 3.600e+01, 2.500e+01, 1.800e+02, 1.296e+03],\n",
    "       [1.000e+00, 1.300e+01, 3.600e+01, 1.690e+02, 4.680e+02, 1.296e+03],\n",
    "       [1.000e+00, 5.000e+00, 5.200e+01, 2.500e+01, 2.600e+02, 2.704e+03],\n",
    "       [1, 0, 0, 0, 0, 0]])"
   ]
  },
  {
   "cell_type": "code",
   "execution_count": 24,
   "metadata": {},
   "outputs": [
    {
     "data": {
      "text/latex": [
       "$\\displaystyle \\left[\\begin{matrix}1.0 & 1.0 & 4.0 & 1.0 & 4.0 & 16.0\\\\1.0 & 7.0 & 12.0 & 49.0 & 84.0 & 144.0\\\\1.0 & 5.0 & 36.0 & 25.0 & 180.0 & 1296.0\\\\1.0 & 13.0 & 36.0 & 169.0 & 468.0 & 1296.0\\\\1.0 & 5.0 & 52.0 & 25.0 & 260.0 & 2704.0\\\\1.0 & 0 & 0 & 0 & 0 & 0\\end{matrix}\\right]$"
      ],
      "text/plain": [
       "⎡1.0  1.0   4.0    1.0    4.0    16.0 ⎤\n",
       "⎢                                     ⎥\n",
       "⎢1.0  7.0   12.0  49.0   84.0   144.0 ⎥\n",
       "⎢                                     ⎥\n",
       "⎢1.0  5.0   36.0  25.0   180.0  1296.0⎥\n",
       "⎢                                     ⎥\n",
       "⎢1.0  13.0  36.0  169.0  468.0  1296.0⎥\n",
       "⎢                                     ⎥\n",
       "⎢1.0  5.0   52.0  25.0   260.0  2704.0⎥\n",
       "⎢                                     ⎥\n",
       "⎣1.0   0     0      0      0      0   ⎦"
      ]
     },
     "execution_count": 24,
     "metadata": {},
     "output_type": "execute_result"
    }
   ],
   "source": [
    "Matrix(M6)"
   ]
  },
  {
   "cell_type": "code",
   "execution_count": 25,
   "metadata": {},
   "outputs": [],
   "source": [
    "detA = np.linalg.det(mat)"
   ]
  },
  {
   "cell_type": "code",
   "execution_count": 26,
   "metadata": {},
   "outputs": [
    {
     "data": {
      "image/png": "[encoded data removed]",
      "text/latex": [
       "$\\displaystyle -1056964608.0$"
      ],
      "text/plain": [
       "-1056964607.9999993"
      ]
     },
     "execution_count": 26,
     "metadata": {},
     "output_type": "execute_result"
    }
   ],
   "source": [
    "detA"
   ]
  },
  {
   "cell_type": "code",
   "execution_count": 27,
   "metadata": {},
   "outputs": [],
   "source": [
    "RE = (-5.942817754597376 * np.linalg.det(M1)/detA) + (-5.610630688805676*np.linalg.det(M2)/detA) + (-5.61959508599682 * np.linalg.det(M3)/detA) + (-5.267674373577144  * np.linalg.det(M4)/detA) + (-5.540521346789942 * np.linalg.det(M5)/detA) + (-5.135264624148199 * np.linalg.det(M6)/detA)"
   ]
  },
  {
   "cell_type": "code",
   "execution_count": 28,
   "metadata": {},
   "outputs": [
    {
     "data": {
      "image/png": "[encoded data removed]",
      "text/latex": [
       "$\\displaystyle -6.00752391934362$"
      ],
      "text/plain": [
       "-6.007523919343623"
      ]
     },
     "execution_count": 28,
     "metadata": {},
     "output_type": "execute_result"
    }
   ],
   "source": [
    "RE"
   ]
  },
  {
   "cell_type": "code",
   "execution_count": 29,
   "metadata": {},
   "outputs": [],
   "source": [
    "a = -6.00752391934362\n",
    "b = -6.026674183332272"
   ]
  },
  {
   "cell_type": "code",
   "execution_count": 30,
   "metadata": {},
   "outputs": [
    {
     "data": {
      "text/plain": [
       "True"
      ]
     },
     "execution_count": 30,
     "metadata": {},
     "output_type": "execute_result"
    }
   ],
   "source": [
    "b<a"
   ]
  },
  {
   "cell_type": "code",
   "execution_count": 31,
   "metadata": {},
   "outputs": [
    {
     "name": "stdout",
     "output_type": "stream",
     "text": [
      "Result: -6.007523919343623\n"
     ]
    }
   ],
   "source": [
    "import numpy as np\n",
    "\n",
    "# Coefficients and matrices\n",
    "coefficients = [-5.942817754597376, -5.610630688805676, -5.61959508599682, -5.267674373577144, -5.540521346789942, -5.135264624148199]\n",
    "matrices = [M1, M2, M3, M4, M5, M6]  # Assuming M1, M2, ..., M6 are defined\n",
    "\n",
    "# Calculate detA\n",
    "detA = np.linalg.det(A)  # Assuming A is defined\n",
    "\n",
    "# Initialize result\n",
    "RE = 0\n",
    "\n",
    "# Loop over coefficients and matrices\n",
    "for coeff, matrix in zip(coefficients, matrices):\n",
    "    RE += coeff * np.linalg.det(matrix) / detA\n",
    "\n",
    "print(\"Result:\", RE)\n"
   ]
  },
  {
   "cell_type": "code",
   "execution_count": 32,
   "metadata": {},
   "outputs": [],
   "source": [
    "import numpy as np\n",
    "\n",
    "param = np.array([1.40837213e+00, 6.28293547e+00, 8.62288600e-04, 3.14127596e+00,\n",
    "                  9.42500283e+00])\n",
    "\n",
    "# Open a file in write mode\n",
    "with open('output.txt', 'w') as file:\n",
    "    # Join the array elements into a single string with commas\n",
    "    formatted_param = ', '.join(map(str, param))\n",
    "    file.write(f\"[{formatted_param}]\\n\")\n"
   ]
  },
  {
   "cell_type": "code",
   "execution_count": 33,
   "metadata": {},
   "outputs": [
    {
     "data": {
      "text/plain": [
       "numpy.ndarray"
      ]
     },
     "execution_count": 33,
     "metadata": {},
     "output_type": "execute_result"
    }
   ],
   "source": [
    "type(param)"
   ]
  },
  {
   "cell_type": "code",
   "execution_count": 34,
   "metadata": {},
   "outputs": [
    {
     "name": "stdout",
     "output_type": "stream",
     "text": [
      "1.40837213, 6.28293547, 0.0008622886, 3.14127596, 9.42500283\n"
     ]
    }
   ],
   "source": [
    "param = [1.40837213e+00, 6.28293547e+00, 8.62288600e-04, 3.14127596e+00, 9.42500283e+00]\n",
    "\n",
    "# Join the list elements into a single string with commas\n",
    "formatted_param = ', '.join(map(str, param))\n",
    "\n",
    "# Print the formatted string\n",
    "print(formatted_param)\n"
   ]
  },
  {
   "cell_type": "code",
   "execution_count": 35,
   "metadata": {},
   "outputs": [
    {
     "name": "stdout",
     "output_type": "stream",
     "text": [
      "Monomials: ['1', 'λ_3', 'λ_2', 'λ_1']\n",
      "Monomials: 4\n"
     ]
    }
   ],
   "source": [
    "n, d = 3, 1\n",
    "sample_points = [\n",
    "    (4, 1), (12, 7), (36, 5), (36, 13), (52, 5), (52, 13)\n",
    "]\n",
    "monomials = get_monomials(n=n, d=d)\n",
    "print(f\"Monomials: {monomials}\")\n",
    "print(f\"Monomials: {len(monomials)}\")"
   ]
  },
  {
   "cell_type": "code",
   "execution_count": 36,
   "metadata": {},
   "outputs": [],
   "source": [
    "n, d = 3, 2\n",
    "\n",
    "data_points = [\n",
    "    [4, 1, [-5.937502025309547]],\n",
    "    # [12, 3, 3, [-5.735146258695903]],\n",
    "    [28, 5,  [-5.5437873408259275]],\n",
    "    [20, 7,  [-5.274649724774608]],\n",
    "    [20, 7, [-5.581262029732842]],\n",
    "    [36, 3, [-5.668152907726871]],\n",
    "    [36, 5, [-5.597490245829486]]\n",
    "\n",
    "]"
   ]
  },
  {
   "cell_type": "code",
   "execution_count": 37,
   "metadata": {},
   "outputs": [
    {
     "name": "stdout",
     "output_type": "stream",
     "text": [
      "[(4, 1), (28, 5), (20, 7), (20, 7), (36, 3), (36, 5)]\n",
      "[-5.937502025309547, -5.5437873408259275, -5.274649724774608, -5.581262029732842, -5.668152907726871, -5.597490245829486]\n"
     ]
    }
   ],
   "source": [
    "# Extract the first three values from each sublist and store them in an array of tuples\n",
    "noise_data = [tuple(point[:2]) for point in data_points]\n",
    "\n",
    "# Extract the last value from each sublist and store them in a list\n",
    "expectation_values = [point[-1][0] for point in data_points]\n",
    "\n",
    "# Print the resulting array of tuples\n",
    "print(noise_data)\n",
    "print(expectation_values)\n",
    "\n"
   ]
  },
  {
   "cell_type": "code",
   "execution_count": 38,
   "metadata": {},
   "outputs": [
    {
     "ename": "NameError",
     "evalue": "name 'noise_data2' is not defined",
     "output_type": "error",
     "traceback": [
      "\u001b[0;31m---------------------------------------------------------------------------\u001b[0m",
      "\u001b[0;31mNameError\u001b[0m                                 Traceback (most recent call last)",
      "Cell \u001b[0;32mIn[38], line 1\u001b[0m\n\u001b[0;32m----> 1\u001b[0m A \u001b[38;5;241m=\u001b[39m sample_matrix(sample_points\u001b[38;5;241m=\u001b[39m\u001b[43mnoise_data2\u001b[49m, degree\u001b[38;5;241m=\u001b[39md)\n",
      "\u001b[0;31mNameError\u001b[0m: name 'noise_data2' is not defined"
     ]
    }
   ],
   "source": [
    "A = sample_matrix(sample_points=noise_data2, degree=d)"
   ]
  },
  {
   "cell_type": "code",
   "execution_count": 39,
   "metadata": {},
   "outputs": [
    {
     "data": {
      "text/plain": [
       "array([[1.000e+00, 1.000e+00, 4.000e+00, 1.000e+00, 4.000e+00, 1.600e+01],\n",
       "       [1.000e+00, 7.000e+00, 1.200e+01, 4.900e+01, 8.400e+01, 1.440e+02],\n",
       "       [1.000e+00, 5.000e+00, 3.600e+01, 2.500e+01, 1.800e+02, 1.296e+03],\n",
       "       [1.000e+00, 1.300e+01, 3.600e+01, 1.690e+02, 4.680e+02, 1.296e+03],\n",
       "       [1.000e+00, 5.000e+00, 5.200e+01, 2.500e+01, 2.600e+02, 2.704e+03],\n",
       "       [1.000e+00, 1.300e+01, 5.200e+01, 1.690e+02, 6.760e+02, 2.704e+03]])"
      ]
     },
     "execution_count": 39,
     "metadata": {},
     "output_type": "execute_result"
    }
   ],
   "source": [
    "A"
   ]
  },
  {
   "cell_type": "code",
   "execution_count": 40,
   "metadata": {},
   "outputs": [],
   "source": [
    "detA = np.linalg.det(A)"
   ]
  },
  {
   "cell_type": "code",
   "execution_count": 41,
   "metadata": {},
   "outputs": [
    {
     "data": {
      "image/png": "[encoded data removed]",
      "text/latex": [
       "$\\displaystyle -1056964608.0$"
      ],
      "text/plain": [
       "-1056964607.9999993"
      ]
     },
     "execution_count": 41,
     "metadata": {},
     "output_type": "execute_result"
    }
   ],
   "source": [
    "detA"
   ]
  },
  {
   "cell_type": "code",
   "execution_count": 42,
   "metadata": {},
   "outputs": [],
   "source": [
    "import numpy as np\n",
    "\n",
    "def generate_modified_matrices(matrix):\n",
    "    n = len(matrix)  # Size of the square matrix\n",
    "    identity_row = [1] + [0] * (n - 1)  # Row to replace with\n",
    "\n",
    "    modified_matrices = []\n",
    "    determinants = []\n",
    "    for i in range(n):\n",
    "        # Create a copy of the original matrix\n",
    "        modified_matrix = np.copy(matrix)\n",
    "        # Replace the i-th row with the identity_row\n",
    "        modified_matrix[i] = identity_row\n",
    "        modified_matrices.append(modified_matrix)\n",
    "        # Calculate the determinant of the modified matrix\n",
    "        determinant = np.linalg.det(modified_matrix)\n",
    "        determinants.append(determinant)\n",
    "    \n",
    "    return modified_matrices \n",
    "\n",
    "#matrices = generate_modified_matrices(A)\n"
   ]
  },
  {
   "cell_type": "code",
   "execution_count": 43,
   "metadata": {},
   "outputs": [],
   "source": [
    "# Loop over coefficients and matrices\n",
    "for coeff, matrix in zip(coefficients, matrices):\n",
    "    RE += coeff * np.linalg.det(matrix) / detA"
   ]
  },
  {
   "cell_type": "code",
   "execution_count": 44,
   "metadata": {},
   "outputs": [
    {
     "data": {
      "image/png": "[encoded data removed]",
      "text/latex": [
       "$\\displaystyle -12.0150478386872$"
      ],
      "text/plain": [
       "-12.015047838687247"
      ]
     },
     "execution_count": 44,
     "metadata": {},
     "output_type": "execute_result"
    }
   ],
   "source": [
    "RE"
   ]
  },
  {
   "cell_type": "code",
   "execution_count": 45,
   "metadata": {},
   "outputs": [
    {
     "data": {
      "text/plain": [
       "array([[1.000e+00, 1.000e+00, 4.000e+00, 1.000e+00, 4.000e+00, 1.600e+01],\n",
       "       [1.000e+00, 7.000e+00, 1.200e+01, 4.900e+01, 8.400e+01, 1.440e+02],\n",
       "       [1.000e+00, 5.000e+00, 3.600e+01, 2.500e+01, 1.800e+02, 1.296e+03],\n",
       "       [1.000e+00, 1.300e+01, 3.600e+01, 1.690e+02, 4.680e+02, 1.296e+03],\n",
       "       [1.000e+00, 5.000e+00, 5.200e+01, 2.500e+01, 2.600e+02, 2.704e+03],\n",
       "       [1.000e+00, 1.300e+01, 5.200e+01, 1.690e+02, 6.760e+02, 2.704e+03]])"
      ]
     },
     "execution_count": 45,
     "metadata": {},
     "output_type": "execute_result"
    }
   ],
   "source": [
    "A"
   ]
  },
  {
   "cell_type": "code",
   "execution_count": 46,
   "metadata": {},
   "outputs": [
    {
     "data": {
      "text/plain": [
       "[array([[1.000e+00, 0.000e+00, 0.000e+00, 0.000e+00, 0.000e+00, 0.000e+00],\n",
       "        [1.000e+00, 7.000e+00, 1.200e+01, 4.900e+01, 8.400e+01, 1.440e+02],\n",
       "        [1.000e+00, 5.000e+00, 3.600e+01, 2.500e+01, 1.800e+02, 1.296e+03],\n",
       "        [1.000e+00, 1.300e+01, 3.600e+01, 1.690e+02, 4.680e+02, 1.296e+03],\n",
       "        [1.000e+00, 5.000e+00, 5.200e+01, 2.500e+01, 2.600e+02, 2.704e+03],\n",
       "        [1.000e+00, 1.300e+01, 5.200e+01, 1.690e+02, 6.760e+02, 2.704e+03]]),\n",
       " array([[1.000e+00, 1.000e+00, 4.000e+00, 1.000e+00, 4.000e+00, 1.600e+01],\n",
       "        [1.000e+00, 0.000e+00, 0.000e+00, 0.000e+00, 0.000e+00, 0.000e+00],\n",
       "        [1.000e+00, 5.000e+00, 3.600e+01, 2.500e+01, 1.800e+02, 1.296e+03],\n",
       "        [1.000e+00, 1.300e+01, 3.600e+01, 1.690e+02, 4.680e+02, 1.296e+03],\n",
       "        [1.000e+00, 5.000e+00, 5.200e+01, 2.500e+01, 2.600e+02, 2.704e+03],\n",
       "        [1.000e+00, 1.300e+01, 5.200e+01, 1.690e+02, 6.760e+02, 2.704e+03]]),\n",
       " array([[1.000e+00, 1.000e+00, 4.000e+00, 1.000e+00, 4.000e+00, 1.600e+01],\n",
       "        [1.000e+00, 7.000e+00, 1.200e+01, 4.900e+01, 8.400e+01, 1.440e+02],\n",
       "        [1.000e+00, 0.000e+00, 0.000e+00, 0.000e+00, 0.000e+00, 0.000e+00],\n",
       "        [1.000e+00, 1.300e+01, 3.600e+01, 1.690e+02, 4.680e+02, 1.296e+03],\n",
       "        [1.000e+00, 5.000e+00, 5.200e+01, 2.500e+01, 2.600e+02, 2.704e+03],\n",
       "        [1.000e+00, 1.300e+01, 5.200e+01, 1.690e+02, 6.760e+02, 2.704e+03]]),\n",
       " array([[1.000e+00, 1.000e+00, 4.000e+00, 1.000e+00, 4.000e+00, 1.600e+01],\n",
       "        [1.000e+00, 7.000e+00, 1.200e+01, 4.900e+01, 8.400e+01, 1.440e+02],\n",
       "        [1.000e+00, 5.000e+00, 3.600e+01, 2.500e+01, 1.800e+02, 1.296e+03],\n",
       "        [1.000e+00, 0.000e+00, 0.000e+00, 0.000e+00, 0.000e+00, 0.000e+00],\n",
       "        [1.000e+00, 5.000e+00, 5.200e+01, 2.500e+01, 2.600e+02, 2.704e+03],\n",
       "        [1.000e+00, 1.300e+01, 5.200e+01, 1.690e+02, 6.760e+02, 2.704e+03]]),\n",
       " array([[1.000e+00, 1.000e+00, 4.000e+00, 1.000e+00, 4.000e+00, 1.600e+01],\n",
       "        [1.000e+00, 7.000e+00, 1.200e+01, 4.900e+01, 8.400e+01, 1.440e+02],\n",
       "        [1.000e+00, 5.000e+00, 3.600e+01, 2.500e+01, 1.800e+02, 1.296e+03],\n",
       "        [1.000e+00, 1.300e+01, 3.600e+01, 1.690e+02, 4.680e+02, 1.296e+03],\n",
       "        [1.000e+00, 0.000e+00, 0.000e+00, 0.000e+00, 0.000e+00, 0.000e+00],\n",
       "        [1.000e+00, 1.300e+01, 5.200e+01, 1.690e+02, 6.760e+02, 2.704e+03]]),\n",
       " array([[1.000e+00, 1.000e+00, 4.000e+00, 1.000e+00, 4.000e+00, 1.600e+01],\n",
       "        [1.000e+00, 7.000e+00, 1.200e+01, 4.900e+01, 8.400e+01, 1.440e+02],\n",
       "        [1.000e+00, 5.000e+00, 3.600e+01, 2.500e+01, 1.800e+02, 1.296e+03],\n",
       "        [1.000e+00, 1.300e+01, 3.600e+01, 1.690e+02, 4.680e+02, 1.296e+03],\n",
       "        [1.000e+00, 5.000e+00, 5.200e+01, 2.500e+01, 2.600e+02, 2.704e+03],\n",
       "        [1.000e+00, 0.000e+00, 0.000e+00, 0.000e+00, 0.000e+00, 0.000e+00]])]"
      ]
     },
     "execution_count": 46,
     "metadata": {},
     "output_type": "execute_result"
    }
   ],
   "source": [
    "matrices"
   ]
  },
  {
   "cell_type": "markdown",
   "metadata": {},
   "source": [
    "---"
   ]
  },
  {
   "cell_type": "markdown",
   "metadata": {},
   "source": [
    "```yml\n",
    "nqubits: 6\n",
    "state: \"DMatrix\"\n",
    "layer: 10\n",
    "iteration: 1\n",
    "Exact:  -7.29622981055876\n",
    "```"
   ]
  },
  {
   "cell_type": "code",
   "execution_count": 47,
   "metadata": {},
   "outputs": [],
   "source": [
    "noise_data = [(4, 1), (12, 5), (28, 5), (44, 7), (20, 7), (44, 9) ]\n",
    "e_val = [-6.653015381479125, -5.944264589467563, -5.953575981631173, -5.872561179170413, -6.1660998573827825, -5.435931276419277]\n",
    "n, d = 2, 2\n",
    "monomials = get_monomials(n=n, d=d)\n",
    "# print(f\"Monomials: {monomials}\")\n",
    "# print(f\"Monomials: {len(monomials)}\")"
   ]
  },
  {
   "cell_type": "code",
   "execution_count": 48,
   "metadata": {},
   "outputs": [],
   "source": [
    "# This is the sample matrix\n",
    "A = sample_matrix(sample_points= noise_data, degree= d)"
   ]
  },
  {
   "cell_type": "code",
   "execution_count": 49,
   "metadata": {},
   "outputs": [],
   "source": [
    "detA = np.linalg.det(A)"
   ]
  },
  {
   "cell_type": "code",
   "execution_count": 50,
   "metadata": {},
   "outputs": [],
   "source": [
    "matrices = generate_modified_matrices(A)\n",
    "RE = 0"
   ]
  },
  {
   "cell_type": "code",
   "execution_count": 51,
   "metadata": {},
   "outputs": [],
   "source": [
    "# Loop over coefficients and matrices\n",
    "for E, matrix in zip(e_val, matrices):\n",
    "    RE += E * np.linalg.det(matrix) / detA"
   ]
  },
  {
   "cell_type": "code",
   "execution_count": 52,
   "metadata": {},
   "outputs": [
    {
     "data": {
      "image/png": "[encoded data removed]",
      "text/latex": [
       "$\\displaystyle -7.03377056773504$"
      ],
      "text/plain": [
       "-7.033770567735037"
      ]
     },
     "execution_count": 52,
     "metadata": {},
     "output_type": "execute_result"
    }
   ],
   "source": [
    "RE"
   ]
  },
  {
   "cell_type": "markdown",
   "metadata": {},
   "source": [
    "```yml\n",
    "nqubits: 5\n",
    "state: \"DMatrix\"\n",
    "layer: 10\n",
    "iteration: 1\n",
    "optimizer: \"SLSQP\"\n",
    "constraint: False\n",
    "etime: True\n",
    "Exact: -6.026674183332272\n",
    "```"
   ]
  },
  {
   "cell_type": "code",
   "execution_count": 53,
   "metadata": {},
   "outputs": [
    {
     "name": "stdout",
     "output_type": "stream",
     "text": [
      "0.03339843750000001\n",
      "0.0\n",
      "0.0\n",
      "0.28125000000000105\n",
      "-0.5677083333333373\n",
      "0.09027777777777846\n",
      "-0.075\n",
      "0.7500000000000061\n",
      "1.202741610010599e-15\n",
      "0.0\n"
     ]
    },
    {
     "data": {
      "image/png": "[encoded data removed]",
      "text/latex": [
       "$\\displaystyle -3.20350701507731$"
      ],
      "text/plain": [
       "-3.203507015077308"
      ]
     },
     "execution_count": 53,
     "metadata": {},
     "output_type": "execute_result"
    }
   ],
   "source": [
    "n, d = 3, 2\n",
    "detA = 0, 0\n",
    "\n",
    "data_points = [\n",
    "\n",
    "    [36, 9, 66, [-4.331378173828132]],\n",
    "    [12, 5, 66, [-5.137601571314731]],\n",
    "    [60, 15, 18, [-4.695641935081705]],\n",
    "    [4, 1, 0, [-5.847083978239625]],\n",
    "    [36, 9, 18, [-5.163901197964829]],\n",
    "    [36, 9, 42, [-4.750859450731831]],\n",
    "    [36, 9, 6, [-5.359889992461941]],\n",
    "    [12, 3, 6, [-5.7587171216700765]],\n",
    "    [12, 5, 42, [-5.381585427158724]],\n",
    "    [20, 7, 18, [-5.366706940188518]]\n",
    "]\n",
    "\n",
    "noise_data = [tuple(point[:3]) for point in data_points]\n",
    "e_vals = [point[-1][0] for point in data_points]\n",
    "\n",
    "\n",
    "# noise_data = [(4, 1), (12, 5), (28, 5), (44, 7), (20, 7), (44, 9) ]\n",
    "# e_val = [-6.653015381479125, -5.944264589467563, -5.953575981631173, -5.872561179170413, -6.1660998573827825, -5.435931276419277]\n",
    "\n",
    "monomials = get_monomials(n=n, d=d)\n",
    "# print(f\"Monomials: {monomials}\")\n",
    "# print(f\"Monomials: {len(monomials)}\")\n",
    "\n",
    "A = sample_matrix(sample_points=noise_data, degree= d)\n",
    "detA = np.linalg.det(A)\n",
    "\n",
    "matrices = generate_modified_matrices(A)\n",
    "\n",
    "RE = 0\n",
    "# Loop over coefficients and matrices\n",
    "for E, matrix in zip(e_vals, matrices):\n",
    "    print(np.linalg.det(matrix) / detA)\n",
    "    RE += E * (np.linalg.det(matrix) / detA )\n",
    "\n",
    "RE"
   ]
  },
  {
   "cell_type": "code",
   "execution_count": 54,
   "metadata": {},
   "outputs": [
    {
     "data": {
      "image/png": "[encoded data removed]",
      "text/latex": [
       "$\\displaystyle 6346678613.33486$"
      ],
      "text/plain": [
       "6346678613.334865"
      ]
     },
     "execution_count": 54,
     "metadata": {},
     "output_type": "execute_result"
    }
   ],
   "source": [
    "eta = 0\n",
    "eta = get_eta_coeffs_from_sample_matrix(A)\n",
    "rev_eval = e_vals[::-1]\n",
    "lre = 0\n",
    "for i in range(len(eta)):\n",
    "    lre += e_vals[i]*eta[i]\n",
    "lre"
   ]
  },
  {
   "cell_type": "code",
   "execution_count": 55,
   "metadata": {},
   "outputs": [
    {
     "ename": "NameError",
     "evalue": "name 'get_eta_coeffs_from_sample_matrix2' is not defined",
     "output_type": "error",
     "traceback": [
      "\u001b[0;31m---------------------------------------------------------------------------\u001b[0m",
      "\u001b[0;31mNameError\u001b[0m                                 Traceback (most recent call last)",
      "Cell \u001b[0;32mIn[55], line 1\u001b[0m\n\u001b[0;32m----> 1\u001b[0m \u001b[43mget_eta_coeffs_from_sample_matrix2\u001b[49m(A)\n",
      "\u001b[0;31mNameError\u001b[0m: name 'get_eta_coeffs_from_sample_matrix2' is not defined"
     ]
    }
   ],
   "source": [
    "get_eta_coeffs_from_sample_matrix2(A)"
   ]
  },
  {
   "cell_type": "markdown",
   "metadata": {},
   "source": [
    "### Linear regression"
   ]
  },
  {
   "cell_type": "code",
   "execution_count": 56,
   "metadata": {},
   "outputs": [
    {
     "name": "stdout",
     "output_type": "stream",
     "text": [
      "Extrapolated value: [-5.99302882]\n"
     ]
    }
   ],
   "source": [
    "noise_param = [point[:3] for point in data_points]\n",
    "energies = e_vals\n",
    "# Fit a linear regression model\n",
    "model = LinearRegression()\n",
    "model.fit(noise_param, energies)\n",
    "\n",
    "# Extrapolate to (0, 0, 0)\n",
    "extrapolated_value = model.predict([[0, 0, 0]]) # type: ignore\n",
    "\n",
    "print(\"Extrapolated value:\", extrapolated_value)"
   ]
  },
  {
   "cell_type": "code",
   "execution_count": 57,
   "metadata": {},
   "outputs": [
    {
     "name": "stdout",
     "output_type": "stream",
     "text": [
      "Monomials: ['1', 'λ_2', 'λ_1', 'λ_2**2', 'λ_1*λ_2', 'λ_1**2']\n"
     ]
    },
    {
     "data": {
      "image/png": "[encoded data removed]",
      "text/latex": [
       "$\\displaystyle 200.0$"
      ],
      "text/plain": [
       "199.99999999999991"
      ]
     },
     "execution_count": 57,
     "metadata": {},
     "output_type": "execute_result"
    }
   ],
   "source": [
    "n, d = 2, 2\n",
    "sample_points = [(-3, 2), (0, 1), (-2, -1),  (-1, 2),  (1, 3), (2, 1) ]\n",
    "monomials = get_monomials(n, d)\n",
    "\n",
    "print(f\"Monomials: {monomials}\")\n",
    "mat = sample_matrix(sample_points=sample_points, degree=d)\n",
    "np.linalg.det(mat)"
   ]
  },
  {
   "cell_type": "code",
   "execution_count": 58,
   "metadata": {},
   "outputs": [],
   "source": [
    "data_points = [\n",
    "\n",
    "    [36, 9, 66, [-4.331378173828132]],\n",
    "    [12, 5, 66, [-5.137601571314731]],\n",
    "    [60, 15, 18, [-4.695641935081705]],\n",
    "    [4, 1, 0, [-5.847083978239625]],\n",
    "    [36, 9, 18, [-5.163901197964829]],\n",
    "    [36, 9, 42, [-4.750859450731831]],\n",
    "    [36, 9, 6, [-5.359889992461941]],\n",
    "    [12, 3, 6, [-5.7587171216700765]],\n",
    "    [12, 5, 42, [-5.381585427158724]],\n",
    "    [20, 7, 18, [-5.366706940188518]]\n",
    "]\n",
    "\n",
    "noise_data = [tuple(point[:3]) for point in data_points]\n",
    "e_vals = [point[-1][0] for point in data_points]"
   ]
  },
  {
   "cell_type": "code",
   "execution_count": 59,
   "metadata": {},
   "outputs": [
    {
     "data": {
      "image/png": "[encoded data removed]",
      "text/latex": [
       "$\\displaystyle \\left[ \\left( 36, \\  9, \\  66\\right), \\  \\left( 12, \\  5, \\  66\\right), \\  \\left( 60, \\  15, \\  18\\right), \\  \\left( 4, \\  1, \\  0\\right), \\  \\left( 36, \\  9, \\  18\\right), \\  \\left( 36, \\  9, \\  42\\right), \\  \\left( 36, \\  9, \\  6\\right), \\  \\left( 12, \\  3, \\  6\\right), \\  \\left( 12, \\  5, \\  42\\right), \\  \\left( 20, \\  7, \\  18\\right)\\right]$"
      ],
      "text/plain": [
       "[(36, 9, 66), (12, 5, 66), (60, 15, 18), (4, 1, 0), (36, 9, 18), (36, 9, 42), \n",
       "(36, 9, 6), (12, 3, 6), (12, 5, 42), (20, 7, 18)]"
      ]
     },
     "execution_count": 59,
     "metadata": {},
     "output_type": "execute_result"
    }
   ],
   "source": [
    "noise_data"
   ]
  },
  {
   "cell_type": "code",
   "execution_count": 60,
   "metadata": {},
   "outputs": [
    {
     "name": "stdout",
     "output_type": "stream",
     "text": [
      "Monomials: ['1', 'λ_3', 'λ_2', 'λ_1', 'λ_3**2', 'λ_2*λ_3', 'λ_2**2', 'λ_1*λ_3', 'λ_1*λ_2', 'λ_1**2']\n"
     ]
    },
    {
     "data": {
      "text/latex": [
       "$\\displaystyle \\left[\\begin{matrix}1.0 & 66.0 & 5.0 & 12.0 & 4356.0 & 330.0 & 25.0 & 792.0 & 60.0 & 144.0\\\\1.0 & 18.0 & 7.0 & 20.0 & 324.0 & 126.0 & 49.0 & 360.0 & 140.0 & 400.0\\\\1.0 & 66.0 & 9.0 & 36.0 & 4356.0 & 594.0 & 81.0 & 2376.0 & 324.0 & 1296.0\\\\1.0 & 18.0 & 15.0 & 60.0 & 324.0 & 270.0 & 225.0 & 1080.0 & 900.0 & 3600.0\\\\1.0 & 0 & 1.0 & 4.0 & 0 & 0 & 1.0 & 0 & 4.0 & 16.0\\\\1.0 & 18.0 & 9.0 & 36.0 & 324.0 & 162.0 & 81.0 & 648.0 & 324.0 & 1296.0\\\\1.0 & 42.0 & 9.0 & 36.0 & 1764.0 & 378.0 & 81.0 & 1512.0 & 324.0 & 1296.0\\\\1.0 & 42.0 & 5.0 & 12.0 & 1764.0 & 210.0 & 25.0 & 504.0 & 60.0 & 144.0\\\\1.0 & 6.0 & 9.0 & 36.0 & 36.0 & 54.0 & 81.0 & 216.0 & 324.0 & 1296.0\\\\1.0 & 6.0 & 3.0 & 12.0 & 36.0 & 18.0 & 9.0 & 72.0 & 36.0 & 144.0\\end{matrix}\\right]$"
      ],
      "text/plain": [
       "⎡1.0  66.0  5.0   12.0  4356.0  330.0  25.0   792.0   60.0   144.0 ⎤\n",
       "⎢                                                                  ⎥\n",
       "⎢1.0  18.0  7.0   20.0  324.0   126.0  49.0   360.0   140.0  400.0 ⎥\n",
       "⎢                                                                  ⎥\n",
       "⎢1.0  66.0  9.0   36.0  4356.0  594.0  81.0   2376.0  324.0  1296.0⎥\n",
       "⎢                                                                  ⎥\n",
       "⎢1.0  18.0  15.0  60.0  324.0   270.0  225.0  1080.0  900.0  3600.0⎥\n",
       "⎢                                                                  ⎥\n",
       "⎢1.0   0    1.0   4.0     0       0     1.0     0      4.0    16.0 ⎥\n",
       "⎢                                                                  ⎥\n",
       "⎢1.0  18.0  9.0   36.0  324.0   162.0  81.0   648.0   324.0  1296.0⎥\n",
       "⎢                                                                  ⎥\n",
       "⎢1.0  42.0  9.0   36.0  1764.0  378.0  81.0   1512.0  324.0  1296.0⎥\n",
       "⎢                                                                  ⎥\n",
       "⎢1.0  42.0  5.0   12.0  1764.0  210.0  25.0   504.0   60.0   144.0 ⎥\n",
       "⎢                                                                  ⎥\n",
       "⎢1.0  6.0   9.0   36.0   36.0   54.0   81.0   216.0   324.0  1296.0⎥\n",
       "⎢                                                                  ⎥\n",
       "⎣1.0  6.0   3.0   12.0   36.0   18.0    9.0    72.0   36.0   144.0 ⎦"
      ]
     },
     "execution_count": 60,
     "metadata": {},
     "output_type": "execute_result"
    }
   ],
   "source": [
    "n, d = 3, 2\n",
    "sample_points = [ (12, 5, 66),(20, 7, 18), (36, 9, 66),(60, 15, 18), (4, 1, 0), (36, 9, 18), (36, 9, 42),  (12, 5, 42),  (36, 9, 6), (12, 3, 6),]\n",
    "monomials = get_monomials(n, d)\n",
    "\n",
    "print(f\"Monomials: {monomials}\")\n",
    "mat = sample_matrix(sample_points=sample_points, degree=d)\n",
    "Matrix(mat)"
   ]
  },
  {
   "cell_type": "markdown",
   "metadata": {},
   "source": [
    "---"
   ]
  },
  {
   "cell_type": "code",
   "execution_count": 61,
   "metadata": {},
   "outputs": [],
   "source": [
    "sample_points_new = [(4, 1), (12, 5), (28, 5), (44, 7), (20, 7), (44, 9)]\n",
    "o_values = [-6.653015381479125, -5.944264589467563, -5.953575981631173, -5.872561179170413, -6.1660998573827825, -5.435931276419277]\n",
    "n, d = 2, 2\n",
    "mat = sample_matrix(sample_points=sample_points_new, degree=d)\n",
    "eta_co = get_eta_coeffs_from_sample_matrix(mat)"
   ]
  },
  {
   "cell_type": "code",
   "execution_count": 62,
   "metadata": {},
   "outputs": [
    {
     "name": "stdout",
     "output_type": "stream",
     "text": [
      "1.4615384615384595\n",
      "-0.4423076923076924\n",
      "-0.4519230769230766\n",
      "0.15384615384615394\n",
      "0.2884615384615387\n",
      "-0.009615384615384089\n"
     ]
    },
    {
     "data": {
      "image/png": "[encoded data removed]",
      "text/latex": [
       "$\\displaystyle -7.03377056773504$"
      ],
      "text/plain": [
       "-7.033770567735039"
      ]
     },
     "execution_count": 62,
     "metadata": {},
     "output_type": "execute_result"
    }
   ],
   "source": [
    "matrices = generate_modified_matrices(mat)\n",
    "detA = np.linalg.det(mat)\n",
    "RE = 0\n",
    "# Loop over coefficients and matrices\n",
    "for E, matrix in zip(o_values, matrices):\n",
    "    print(np.linalg.det(matrix) / detA)\n",
    "    RE += E * (np.linalg.det(matrix) / detA )\n",
    "\n",
    "RE"
   ]
  },
  {
   "cell_type": "code",
   "execution_count": 63,
   "metadata": {},
   "outputs": [
    {
     "data": {
      "image/png": "[encoded data removed]",
      "text/latex": [
       "$\\displaystyle \\left[ 0.00120192307692308, \\  -0.00180288461538462, \\  -0.00540865384615385, \\  0.00560897435897436, \\  0.00400641025641026, \\  -0.00360576923076924\\right]$"
      ],
      "text/plain": [
       "[0.001201923076923079, -0.0018028846153846174, -0.005408653846153849, 0.005608\n",
       "974358974363, 0.004006410256410263, -0.0036057692307692353]"
      ]
     },
     "execution_count": 63,
     "metadata": {},
     "output_type": "execute_result"
    }
   ],
   "source": [
    "eta_co"
   ]
  },
  {
   "cell_type": "code",
   "execution_count": 64,
   "metadata": {},
   "outputs": [
    {
     "data": {
      "image/png": "[encoded data removed]",
      "text/latex": [
       "$\\displaystyle -0.00312101495763329$"
      ],
      "text/plain": [
       "-0.0031210149576332905"
      ]
     },
     "execution_count": 64,
     "metadata": {},
     "output_type": "execute_result"
    }
   ],
   "source": [
    "RE = 0\n",
    "for i in range (len(o_values)):\n",
    "    RE += (o_values[i])*eta_co[i]\n",
    "RE"
   ]
  },
  {
   "cell_type": "code",
   "execution_count": 65,
   "metadata": {},
   "outputs": [],
   "source": [
    "total = 0 \n",
    "for a, b in zip(o_values, eta_co):\n",
    "        total += a * b"
   ]
  },
  {
   "cell_type": "code",
   "execution_count": 66,
   "metadata": {},
   "outputs": [
    {
     "data": {
      "image/png": "[encoded data removed]",
      "text/latex": [
       "$\\displaystyle -0.00312101495763329$"
      ],
      "text/plain": [
       "-0.0031210149576332905"
      ]
     },
     "execution_count": 66,
     "metadata": {},
     "output_type": "execute_result"
    }
   ],
   "source": [
    "total"
   ]
  },
  {
   "cell_type": "raw",
   "metadata": {
    "vscode": {
     "languageId": "raw"
    }
   },
   "source": [
    "- 0.00312101495763329"
   ]
  },
  {
   "cell_type": "code",
   "execution_count": 67,
   "metadata": {},
   "outputs": [
    {
     "data": {
      "text/latex": [
       "$\\displaystyle \\left[\\begin{matrix}1.0 & 1.0 & 4.0 & 1.0 & 4.0 & 16.0\\\\1.0 & 5.0 & 12.0 & 25.0 & 60.0 & 144.0\\\\1.0 & 5.0 & 28.0 & 25.0 & 140.0 & 784.0\\\\1.0 & 7.0 & 44.0 & 49.0 & 308.0 & 1936.0\\\\1.0 & 7.0 & 20.0 & 49.0 & 140.0 & 400.0\\\\1.0 & 9.0 & 44.0 & 81.0 & 396.0 & 1936.0\\end{matrix}\\right]$"
      ],
      "text/plain": [
       "⎡1.0  1.0  4.0   1.0    4.0    16.0 ⎤\n",
       "⎢                                   ⎥\n",
       "⎢1.0  5.0  12.0  25.0  60.0   144.0 ⎥\n",
       "⎢                                   ⎥\n",
       "⎢1.0  5.0  28.0  25.0  140.0  784.0 ⎥\n",
       "⎢                                   ⎥\n",
       "⎢1.0  7.0  44.0  49.0  308.0  1936.0⎥\n",
       "⎢                                   ⎥\n",
       "⎢1.0  7.0  20.0  49.0  140.0  400.0 ⎥\n",
       "⎢                                   ⎥\n",
       "⎣1.0  9.0  44.0  81.0  396.0  1936.0⎦"
      ]
     },
     "execution_count": 67,
     "metadata": {},
     "output_type": "execute_result"
    }
   ],
   "source": [
    "Matrix(mat)"
   ]
  },
  {
   "cell_type": "code",
   "execution_count": 68,
   "metadata": {},
   "outputs": [],
   "source": [
    "n_rows, n_cols = mat.shape"
   ]
  },
  {
   "cell_type": "code",
   "execution_count": 69,
   "metadata": {},
   "outputs": [],
   "source": [
    "from hmac import new\n",
    "\n",
    "\n",
    "terms = []\n",
    "for i in range(n_rows):\n",
    "    new_mat = mat.copy()\n",
    "    new_mat[i] = np.array([[0] * (n_cols - 1) + [1]])  \n",
    "    terms.append(np.linalg.det(new_mat) / detA)"
   ]
  },
  {
   "cell_type": "code",
   "execution_count": 70,
   "metadata": {},
   "outputs": [
    {
     "data": {
      "text/latex": [
       "$\\displaystyle \\left[\\begin{matrix}1.0 & 1.0 & 4.0 & 1.0 & 4.0 & 16.0\\\\1.0 & 5.0 & 12.0 & 25.0 & 60.0 & 144.0\\\\1.0 & 5.0 & 28.0 & 25.0 & 140.0 & 784.0\\\\1.0 & 7.0 & 44.0 & 49.0 & 308.0 & 1936.0\\\\1.0 & 7.0 & 20.0 & 49.0 & 140.0 & 400.0\\\\0 & 0 & 0 & 0 & 0 & 1.0\\end{matrix}\\right]$"
      ],
      "text/plain": [
       "⎡1.0  1.0  4.0   1.0    4.0    16.0 ⎤\n",
       "⎢                                   ⎥\n",
       "⎢1.0  5.0  12.0  25.0  60.0   144.0 ⎥\n",
       "⎢                                   ⎥\n",
       "⎢1.0  5.0  28.0  25.0  140.0  784.0 ⎥\n",
       "⎢                                   ⎥\n",
       "⎢1.0  7.0  44.0  49.0  308.0  1936.0⎥\n",
       "⎢                                   ⎥\n",
       "⎢1.0  7.0  20.0  49.0  140.0  400.0 ⎥\n",
       "⎢                                   ⎥\n",
       "⎣ 0    0    0     0      0     1.0  ⎦"
      ]
     },
     "execution_count": 70,
     "metadata": {},
     "output_type": "execute_result"
    }
   ],
   "source": [
    "Matrix(new_mat)"
   ]
  },
  {
   "cell_type": "code",
   "execution_count": 71,
   "metadata": {},
   "outputs": [
    {
     "data": {
      "text/latex": [
       "$\\displaystyle \\left[\\begin{matrix}1.0 & 1.0 & 4.0 & 1.0 & 4.0 & 16.0\\\\1.0 & 5.0 & 12.0 & 25.0 & 60.0 & 144.0\\\\1.0 & 5.0 & 28.0 & 25.0 & 140.0 & 784.0\\\\1.0 & 7.0 & 44.0 & 49.0 & 308.0 & 1936.0\\\\1.0 & 7.0 & 20.0 & 49.0 & 140.0 & 400.0\\\\1.0 & 9.0 & 44.0 & 81.0 & 396.0 & 1936.0\\end{matrix}\\right]$"
      ],
      "text/plain": [
       "⎡1.0  1.0  4.0   1.0    4.0    16.0 ⎤\n",
       "⎢                                   ⎥\n",
       "⎢1.0  5.0  12.0  25.0  60.0   144.0 ⎥\n",
       "⎢                                   ⎥\n",
       "⎢1.0  5.0  28.0  25.0  140.0  784.0 ⎥\n",
       "⎢                                   ⎥\n",
       "⎢1.0  7.0  44.0  49.0  308.0  1936.0⎥\n",
       "⎢                                   ⎥\n",
       "⎢1.0  7.0  20.0  49.0  140.0  400.0 ⎥\n",
       "⎢                                   ⎥\n",
       "⎣1.0  9.0  44.0  81.0  396.0  1936.0⎦"
      ]
     },
     "execution_count": 71,
     "metadata": {},
     "output_type": "execute_result"
    }
   ],
   "source": [
    "Matrix(mat)"
   ]
  },
  {
   "cell_type": "markdown",
   "metadata": {},
   "source": [
    "---"
   ]
  },
  {
   "cell_type": "code",
   "execution_count": 72,
   "metadata": {},
   "outputs": [
    {
     "name": "stdout",
     "output_type": "stream",
     "text": [
      "-19040035839.929688\n",
      "My RE is: 17.367657780334966\n",
      "Linerar Extrapolated value:[-5.99302882]\n"
     ]
    }
   ],
   "source": [
    "n, d = 3, 2\n",
    "detA = 0, 0\n",
    "\n",
    "data_points = [\n",
    "    \n",
    "    [60, 15, 18, [-4.695641935081705]],\n",
    "    [4, 1, 0, [-5.847083978239625]],\n",
    "    [36, 9, 42, [-4.750859450731831]],\n",
    "    \n",
    "    [12, 5, 42, [-5.381585427158724]],\n",
    "    [20, 7, 18, [-5.366706940188518]],\n",
    "    [36, 9, 66, [-4.331378173828132]],\n",
    "    [36, 9, 6, [-5.359889992461941]],\n",
    "    [12, 3, 6, [-5.7587171216700765]],\n",
    "    [12, 5, 66, [-5.137601571314731]],\n",
    "    [36, 9, 18, [-5.163901197964829]]\n",
    "    \n",
    "]\n",
    "\n",
    "sample_noise = [tuple(point[:3]) for point in data_points]\n",
    "e_vals = [point[-1][0] for point in data_points]\n",
    "\n",
    "samplematrix = sample_matrix(sample_points= sample_noise, degree=d)\n",
    "eta_coeffi = get_eta_coeffs_from_sample_matrix(samplematrix)\n",
    "\n",
    "extrapolated_value = 0\n",
    "for a, b in zip(eta_coeffi, e_vals):\n",
    "    if len(eta_coeffi) != len(e_vals ):\n",
    "        raise ValueError(\"Lists must be of the same length.\")\n",
    "    extrapolated_value += a * b\n",
    "\n",
    "print(extrapolated_value)\n",
    "\n",
    "\n",
    "matrices = generate_modified_matrices(samplematrix)\n",
    "detA = np.linalg.det(samplematrix)\n",
    "RE = 0\n",
    "# Loop over coefficients and matrices\n",
    "for E, matrix in zip(e_vals, matrices):\n",
    "    #print(np.linalg.det(matrix) / detA)\n",
    "    RE += E * (np.linalg.det(matrix) / detA )\n",
    "print (f\"My RE is: {RE}\")\n",
    "\n",
    "\n",
    "noise_param = [point[:3] for point in data_points]\n",
    "energies = e_vals\n",
    "# Fit a linear regression model\n",
    "model = LinearRegression()\n",
    "model.fit(noise_param, energies)\n",
    "\n",
    "# Extrapolate to (0, 0, 0)\n",
    "linear_value = model.predict([[0, 0, 0]]) # type: ignore\n",
    "\n",
    "print(f\"Linerar Extrapolated value:{linear_value}\")"
   ]
  },
  {
   "cell_type": "markdown",
   "metadata": {},
   "source": [
    "---"
   ]
  },
  {
   "cell_type": "code",
   "execution_count": null,
   "metadata": {},
   "outputs": [],
   "source": []
  },
  {
   "cell_type": "code",
   "execution_count": 73,
   "metadata": {},
   "outputs": [
    {
     "name": "stdout",
     "output_type": "stream",
     "text": [
      "Monomials: ['1', 'λ_2', 'λ_1', 'λ_2**2', 'λ_1*λ_2', 'λ_1**2']\n",
      "Monomials: 6\n",
      "ZNE val1 = -2.992343480150844e-06\n",
      "ZNE val2 = -4.77238109293036\n",
      "Sklearn Poly exttrapolation: -4.772381092930383\n"
     ]
    }
   ],
   "source": [
    "from sklearn.preprocessing import PolynomialFeatures\n",
    "from sklearn.linear_model import LinearRegression\n",
    "\n",
    "# nqubit = 5\n",
    "# data_points = [\n",
    "\n",
    "#     [4, 1, 0, [-5.866066884530623]],\n",
    "#     [20, 3, 6, [-5.7875550813689856]],\n",
    "#     [12, 5, 6, [-5.774697386578676]],\n",
    "#     [36, 7, 6, [-5.586486292622952]],\n",
    "#     [12, 9, 6, [-5.679030576950535]],\n",
    "#     [20, 9, 6, [-5.602724878007255]]\n",
    "# ]\n",
    "\n",
    "# nqubit = 4\n",
    "# Exact = -4.758770483143634\n",
    "data_points = [\n",
    "\n",
    "    [4, 1, 0, [-4.729146163428284]],\n",
    "    [12, 3, 4, [-4.659161735860657]],\n",
    "    [28, 5, 4, [-4.586098614568544]],\n",
    "    [12, 7, 4, [-4.582238777333613]],\n",
    "    [20, 9, 4, [-4.524032648531302]],\n",
    "    [36, 5, 4, [-4.561422365560775]],\n",
    "    \n",
    "]\n",
    "\n",
    "sample_points = [tuple(point[:2]) for point in data_points]\n",
    "energies = [point[-1][0] for point in data_points]\n",
    "\n",
    "n, d = 2, 2\n",
    "monomials = get_monomials(n=n, d=d)\n",
    "print(f\"Monomials: {monomials}\")\n",
    "print(f\"Monomials: {len(monomials)}\")\n",
    "\n",
    "A = sample_matrix(sample_points= sample_points, degree= d)\n",
    "coeffs = get_eta_coeffs_from_sample_matrix(A)\n",
    "\n",
    "sum = 0\n",
    "for e, c in zip(energies, coeffs):\n",
    "    #print(e)\n",
    "    sum += e*c\n",
    "\n",
    "print(f\"ZNE val1 = {sum}\")\n",
    "\n",
    "sum2 = 0\n",
    "matrices = generate_modified_matrices(A)\n",
    "for e, m in zip(energies, matrices):\n",
    "    sum2 += e* ( (np.linalg.det(m)) / np.linalg.det(A) )\n",
    "print(f\"ZNE val2 = {sum2}\")\n",
    "\n",
    "# Generate polynomial features\n",
    "poly = PolynomialFeatures(degree=d)\n",
    "X_poly = poly.fit_transform([point[:2] for point in data_points])\n",
    "\n",
    "# Fit linear regression model on polynomial features\n",
    "model = LinearRegression()\n",
    "model.fit(X_poly, energies)\n",
    "\n",
    "# Define the point (0,0,0) for prediction\n",
    "point_to_predict = np.array([[0, 0]])\n",
    "\n",
    "# Transform the point into polynomial features\n",
    "point_to_predict_poly = poly.transform(point_to_predict)\n",
    "\n",
    "# Predict the energy at the point\n",
    "predicted_energy = model.predict(point_to_predict_poly)\n",
    "\n",
    "print(\"Sklearn Poly exttrapolation:\", predicted_energy[0])"
   ]
  },
  {
   "cell_type": "markdown",
   "metadata": {},
   "source": [
    "### 3-variable"
   ]
  },
  {
   "cell_type": "code",
   "execution_count": 3,
   "metadata": {},
   "outputs": [
    {
     "name": "stdout",
     "output_type": "stream",
     "text": [
      "Monomials: ['1', 'λ_3', 'λ_2', 'λ_1', 'λ_3**2', 'λ_2*λ_3', 'λ_2**2', 'λ_1*λ_3', 'λ_1*λ_2', 'λ_1**2']\n",
      "Monomials: 10\n",
      "ZNE val1 = 3.5038020569726734e-05\n",
      "ZNE val2 = -3.951970611035856\n",
      "Sklearn Poly exttrapolation: -3.951970611035858\n",
      "Qubit = 5; layer = 10, Exact val = -3.999999999999999\n"
     ]
    }
   ],
   "source": [
    "from sklearn.preprocessing import PolynomialFeatures\n",
    "from sklearn.linear_model import LinearRegression\n",
    "\n",
    "# nqubit = 5\n",
    "# Exact = -6.026674183332272\n",
    "data_points = [\n",
    "\n",
    "    \n",
    "    [12, 5, 18, [-3.717054761326808]],\n",
    "    [20, 1, 30, [-3.874319285474221]],\n",
    "    [4, 5, 6, [-3.8215866373279432]],\n",
    "    [28, 7, 6, [-3.687171847866942]],\n",
    "    [4, 9, 18, [-3.5663020157522007]],\n",
    "    [4, 1, 0, [-3.9308629429508755]],\n",
    "    [12, 3, 6, [-3.84785786134227]],\n",
    "    [4, 11, 6, [-3.6634401626134006]],\n",
    "    [20, 11, 30, [-3.2597725821448074]],\n",
    "    [36, 11, 42, [-3.053170929882078]]\n",
    " \n",
    "]\n",
    "\n",
    "# nqubit = 4\n",
    "# Exact = -4.758770483143634\n",
    "# data_points = [\n",
    "\n",
    "#     [4, 1, 0, [-4.727223587006228]],\n",
    "#     [12, 3, 12, [-4.607713830417823]],\n",
    "#     [12, 5, 28, [-4.407043007625323]],\n",
    "#     [4, 7, 4, [-4.576456763037398]],\n",
    "#     [4, 7, 12, [-4.469395375908336]],\n",
    "#     [12, 7, 36, [-4.1631178010204]],\n",
    "#     [12, 9, 20, [-4.37387921098692]],\n",
    "#     [20, 9, 4, [-4.454573543378764]],\n",
    "#     [20, 1, 20, [-4.6775229831603005]],\n",
    "#     [4, 13, 4, [-4.430628046997407]]\n",
    "\n",
    "#     # [4, 1, 0, [-4.728411487887455]],\n",
    "#     # [12, 3, 4, [-4.633252562558045]],\n",
    "#     # [20, 3, 4, [-4.602476577557038]],\n",
    "#     # [20, 5, 4, [-4.581231642506445]],\n",
    "#     # [12, 7, 4, [-4.543444180800407]],\n",
    "#     # [20, 7, 4, [-4.5123253066695685]],\n",
    "#     # # [4, 9, 4, [-4.551672450645599]],\n",
    "#     # [12, 11, 4, [-4.526468988653714]],\n",
    "#     # [12, 3, 20, [-4.565851633863804]],\n",
    "#     # [20, 11, 4, [-4.502139260733794]],\n",
    "#     # [12, 5, 20, [-4.494436896236834]]\n",
    "#     # # [28, 11, 4, [-4.477859709306907]],\n",
    "#     # # # [36, 11, 4, [-4.4552360261829405]],\n",
    "#     # # # [12, 13, 4, [-4.395126157842261]]\n",
    "    \n",
    "# ]\n",
    "\n",
    "sample_points = [tuple(point[:3]) for point in data_points]\n",
    "energies = [point[-1][0] for point in data_points]\n",
    "\n",
    "n, d = 3, 2\n",
    "monomials = get_monomials(n=n, d=d)\n",
    "print(f\"Monomials: {monomials}\")\n",
    "print(f\"Monomials: {len(monomials)}\")\n",
    "\n",
    "A = sample_matrix(sample_points= sample_points, degree= d)\n",
    "coeffs = get_eta_coeffs_from_sample_matrix(A)\n",
    "\n",
    "sum = 0\n",
    "for e, c in zip(energies, coeffs):\n",
    "    #print(e)\n",
    "    sum += e*c\n",
    "\n",
    "print(f\"ZNE val1 = {sum}\")\n",
    "\n",
    "sum2 = 0\n",
    "matrices = generate_modified_matrices(A)\n",
    "for e, m in zip(energies, matrices):\n",
    "    sum2 += e* ( (np.linalg.det(m)) / np.linalg.det(A) )\n",
    "print(f\"ZNE val2 = {sum2}\")\n",
    "\n",
    "# Generate polynomial features\n",
    "poly = PolynomialFeatures(degree=d)\n",
    "X_poly = poly.fit_transform([point[:3] for point in data_points])\n",
    "\n",
    "# Fit linear regression model on polynomial features\n",
    "model = LinearRegression()\n",
    "model.fit(X_poly, energies)\n",
    "\n",
    "# Define the point (0,0,0) for prediction\n",
    "point_to_predict = np.array([[0, 0, 0]])\n",
    "\n",
    "# Transform the point into polynomial features\n",
    "point_to_predict_poly = poly.transform(point_to_predict)\n",
    "\n",
    "# Predict the energy at the point\n",
    "predicted_energy = model.predict(point_to_predict_poly)\n",
    "\n",
    "print(\"Sklearn Poly exttrapolation:\", predicted_energy[0])\n",
    "print(\"Qubit = 5; layer = 10, Exact val = -3.999999999999999\")"
   ]
  },
  {
   "cell_type": "code",
   "execution_count": null,
   "metadata": {},
   "outputs": [],
   "source": []
  }
 ],
 "metadata": {
  "kernelspec": {
   "display_name": "QuantumEnv",
   "language": "python",
   "name": "python3"
  },
  "language_info": {
   "codemirror_mode": {
    "name": "ipython",
    "version": 3
   },
   "file_extension": ".py",
   "mimetype": "text/x-python",
   "name": "python",
   "nbconvert_exporter": "python",
   "pygments_lexer": "ipython3",
   "version": "3.10.12"
  }
 },
 "nbformat": 4,
 "nbformat_minor": 2
}
