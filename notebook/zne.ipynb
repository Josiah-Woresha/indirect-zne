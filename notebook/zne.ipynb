{
 "cells": [
  {
   "cell_type": "markdown",
   "metadata": {},
   "source": [
    "# Indirect Zero-Noise-Extrapolation\n",
    "---"
   ]
  },
  {
   "cell_type": "markdown",
   "metadata": {},
   "source": [
    "This is our configuration:\n",
    "\n",
    "```yml\n",
    "nqubit: 5\n",
    "layer: 10\n",
    "connstraint: Flase\n",
    "```"
   ]
  },
  {
   "cell_type": "markdown",
   "metadata": {},
   "source": [
    "### Linear regression\n",
    "\n",
    "The general single variable linear regression: $E_{linear}(\\lambda)=c_0 + c_1\\lambda$\n",
    "\n",
    "Multivariate linear regression:\n",
    "\n",
    "$$E_{linear}(n_R, n_T, nY)=c_0 + c_1 n_R + c_2 n_T + c_3 n_Y$$\n",
    "\n",
    "Where independent variables are: $n_R, n_T, n_Y$"
   ]
  },
  {
   "cell_type": "code",
   "execution_count": 13,
   "metadata": {},
   "outputs": [],
   "source": [
    "import numpy as np\n",
    "from sklearn.linear_model import LinearRegression\n",
    "import matplotlib.pyplot as plt\n",
    "\n",
    "import itertools\n",
    "import os\n",
    "import pickle\n",
    "import random\n",
    "from collections import Counter, defaultdict\n",
    "from copy import deepcopy\n",
    "from typing import Any, Callable, Generator, Optional\n",
    "# Functional programming utilities.\n",
    "import functools\n",
    "\n",
    "from sympy import *\n",
    "init_printing(use_unicode=True)"
   ]
  },
  {
   "cell_type": "code",
   "execution_count": 14,
   "metadata": {},
   "outputs": [],
   "source": [
    "def get_monomials(n: int, d: int) -> list[str]:\n",
    "    \"\"\"Compute monomials of degree `d` in graded lexicographical order.\"\"\"\n",
    "    variables = [f\"λ_{i}\" for i in range(1, n + 1)]\n",
    "    \n",
    "    monomials = []\n",
    "    for degree in range(d, -1, -1):\n",
    "        # Generate combinations for the current degree\n",
    "        combos = list(itertools.combinations_with_replacement(variables, degree))\n",
    "        \n",
    "        # Sort combinations lexicographically\n",
    "        combos.sort()\n",
    "        \n",
    "        # Construct monomials from sorted combinations\n",
    "        for combo in combos:\n",
    "            monomial_parts = []\n",
    "            counts = Counter(combo)\n",
    "            # Ensure variables are processed in lexicographical order\n",
    "            for var in sorted(counts.keys()):\n",
    "                count = counts[var]\n",
    "                if count > 1:\n",
    "                    monomial_parts.append(f\"{var}**{count}\")\n",
    "                else:\n",
    "                    monomial_parts.append(var)\n",
    "            monomial = \"*\".join(monomial_parts)\n",
    "            # Handle the case where degree is 0\n",
    "            if not monomial:\n",
    "                monomial = \"1\"\n",
    "            monomials.append(monomial)\n",
    "    # \"1\" should be the first monomial. Note that order d > c > b > a means vector of monomials = [a, b, c, d].            \n",
    "    return monomials[::-1]\n",
    "\n",
    "def sample_matrix(sample_points: list[int], degree: int) -> np.ndarray:\n",
    "    \"\"\"Construct a matrix from monomials evaluated at sample points.\"\"\"\n",
    "    n = len(sample_points[0])  # Number of variables based on the first sample point\n",
    "    monomials = get_monomials(n, degree)\n",
    "    matrix = np.zeros((len(sample_points), len(monomials)))\n",
    "\n",
    "    for i, point in enumerate(sample_points):\n",
    "        for j, monomial in enumerate(monomials):\n",
    "            var_mapping = {f\"λ_{k+1}\": point[k] for k in range(n)}\n",
    "            matrix[i, j] = eval(monomial, {}, var_mapping)\n",
    "    return matrix\n",
    "\n",
    "def get_eta_coeffs_from_sample_matrix(mat: np.ndarray) -> list[float]:\n",
    "    \"\"\"Given a sample matrix compute the eta coefficients.\"\"\"\n",
    "    n_rows, n_cols = mat.shape\n",
    "    if n_rows != n_cols:\n",
    "        raise ValueError(\"The matrix must be square.\")\n",
    "\n",
    "    det_m = np.linalg.det(mat)    \n",
    "    if det_m == 0:\n",
    "        raise ValueError(\"The matrix is singular.\")\n",
    "    \n",
    "    terms = []\n",
    "    for i in range(n_rows):\n",
    "        new_mat = mat.copy()\n",
    "        new_mat[i] = np.array([[0] * (n_cols - 1) + [1]])        \n",
    "        terms.append(np.linalg.det(new_mat) / det_m)\n",
    "\n",
    "    return terms\n",
    "\n",
    "def get_eta_coeffs(lre_scale_factors: list[float], degree: int) -> list[float]:\n",
    "    \"\"\"Obtain eta coefficients from list of scale factors and degree.\"\"\"\n",
    "    mat = sample_matrix(sample_points=lre_scale_factors, degree=degree)\n",
    "    return get_eta_coeffs_from_sample_matrix(mat)\n",
    "\n",
    "def get_eta_coeffs_single_variable(scale_factors: list[float]) -> list[float]:\n",
    "    \"\"\"Returns the array of single-variable Richardson extrapolation coefficients associated\n",
    "    to the input array of scale factors.\"\"\"\n",
    "    # Lagrange interpolation formula.\n",
    "    richardson_coeffs = []\n",
    "    for l in scale_factors:\n",
    "        coeff = 1.0\n",
    "        for l_prime in scale_factors:\n",
    "            if l_prime == l:\n",
    "                continue\n",
    "            coeff *= l_prime / (l_prime - l)\n",
    "        richardson_coeffs.append(coeff)\n",
    "\n",
    "    return richardson_coeffs"
   ]
  },
  {
   "cell_type": "code",
   "execution_count": 26,
   "metadata": {},
   "outputs": [],
   "source": [
    "# sample_points = [ (4, 1, 0), (12, 3, 1), (20, 5, 2), (28, 7, 3), (36, 9, 4), (44, 11, 5), (52, 13, 6), (60, 15, 7), (68, 17, 8), (76, 19, 9), (84, 21, 10), (92, 23, 11), (100, 25, 12), (108, 27, 13), (116, 29, 14), (124, 31, 15), (132, 33, 16), (140, 35, 17), (148, 37, 18), (156, 39, 19)]\n",
    "# sample_points = [(4, 1, -5.907748909320789, 0),\n",
    "# (12, 1, -5.916920204491979, 0),\n",
    "# (12, 3, -5.800746641641066, 1),\n",
    "# (20, 3, -5.764809805003449, 1),\n",
    "# (20, 5, -5.679828979633399, 2)\n",
    "# ] "
   ]
  },
  {
   "cell_type": "code",
   "execution_count": 59,
   "metadata": {},
   "outputs": [
    {
     "name": "stdout",
     "output_type": "stream",
     "text": [
      "Monomials: ['1', 'λ_2', 'λ_1']\n",
      "Monomials: 3\n"
     ]
    }
   ],
   "source": [
    "n, d = 2, 1\n",
    "sample_points = [\n",
    "    (4, 1), (12, 5), (20, 5)\n",
    "]\n",
    "monomials = get_monomials(n=n, d=d)\n",
    "print(f\"Monomials: {monomials}\")\n",
    "print(f\"Monomials: {len(monomials)}\")"
   ]
  },
  {
   "cell_type": "code",
   "execution_count": 60,
   "metadata": {},
   "outputs": [
    {
     "data": {
      "text/latex": [
       "$\\displaystyle \\left[\\begin{matrix}1.0 & 1.0 & 4.0\\\\1.0 & 5.0 & 12.0\\\\1.0 & 5.0 & 20.0\\end{matrix}\\right]$"
      ],
      "text/plain": [
       "⎡1.0  1.0  4.0 ⎤\n",
       "⎢              ⎥\n",
       "⎢1.0  5.0  12.0⎥\n",
       "⎢              ⎥\n",
       "⎣1.0  5.0  20.0⎦"
      ]
     },
     "execution_count": 60,
     "metadata": {},
     "output_type": "execute_result"
    }
   ],
   "source": [
    "mat = sample_matrix(sample_points=sample_points, degree=d)\n",
    "Matrix(mat)"
   ]
  },
  {
   "cell_type": "code",
   "execution_count": 73,
   "metadata": {},
   "outputs": [],
   "source": [
    "m = np.linalg.det(mat)"
   ]
  },
  {
   "cell_type": "code",
   "execution_count": 74,
   "metadata": {},
   "outputs": [
    {
     "data": {
      "image/png": "[encoded data removed]",
      "text/latex": [
       "$\\displaystyle 32.0$"
      ],
      "text/plain": [
       "31.999999999999986"
      ]
     },
     "execution_count": 74,
     "metadata": {},
     "output_type": "execute_result"
    }
   ],
   "source": [
    "m"
   ]
  },
  {
   "cell_type": "code",
   "execution_count": 75,
   "metadata": {},
   "outputs": [
    {
     "name": "stdout",
     "output_type": "stream",
     "text": [
      "0.25*λ2 - 1.25\n"
     ]
    }
   ],
   "source": [
    "from sympy import Matrix\n",
    "\n",
    "# Define the matrix\n",
    "m1 = Matrix([\n",
    "    [1, Symbol('λ1'), Symbol('λ2')],\n",
    "    [1, 12, 5],\n",
    "    [1, 20, 5]\n",
    "])\n",
    "\n",
    "# Calculate determinant\n",
    "det1 = m1.det()\n",
    "\n",
    "print(det1/m)\n"
   ]
  },
  {
   "cell_type": "code",
   "execution_count": 76,
   "metadata": {},
   "outputs": [
    {
     "name": "stdout",
     "output_type": "stream",
     "text": [
      "0.125*λ1 - 0.5*λ2\n"
     ]
    }
   ],
   "source": [
    "# Define the matrix\n",
    "m2 = Matrix([\n",
    "    [1, 4, 1],\n",
    "    [1, Symbol('λ1'), Symbol('λ2')],\n",
    "    [1, 20, 5]\n",
    "])\n",
    "\n",
    "# Calculate determinant\n",
    "det2 = m2.det()\n",
    "\n",
    "print(det2/m)"
   ]
  },
  {
   "cell_type": "code",
   "execution_count": 77,
   "metadata": {},
   "outputs": [
    {
     "name": "stdout",
     "output_type": "stream",
     "text": [
      "-0.125*λ1 + 0.25*λ2 + 0.25\n"
     ]
    }
   ],
   "source": [
    "m3 = Matrix([\n",
    "    [1, 4, 1],\n",
    "    [1, 12, 5],\n",
    "    [1, Symbol('λ1'), Symbol('λ2')]\n",
    "])\n",
    "\n",
    "# Calculate determinant\n",
    "det3 = m3.det()\n",
    "\n",
    "print(det3/m)"
   ]
  },
  {
   "cell_type": "code",
   "execution_count": 79,
   "metadata": {},
   "outputs": [
    {
     "name": "stdout",
     "output_type": "stream",
     "text": [
      "-1\n"
     ]
    }
   ],
   "source": [
    "print((det1/32)+(det2/32)+(det3/32))"
   ]
  },
  {
   "cell_type": "code",
   "execution_count": 84,
   "metadata": {},
   "outputs": [
    {
     "name": "stdout",
     "output_type": "stream",
     "text": [
      "Monomials: ['1', 'λ_2', 'λ_1', 'λ_2**2', 'λ_1*λ_2', 'λ_1**2']\n",
      "Monomials: 6\n"
     ]
    }
   ],
   "source": [
    "n, d = 2, 2\n",
    "sample_points = [\n",
    "    (4, 1), (12, 7), (36, 5), (36, 13), (52, 5)\n",
    "]\n",
    "monomials = get_monomials(n=n, d=d)\n",
    "print(f\"Monomials: {monomials}\")\n",
    "print(f\"Monomials: {len(monomials)}\")\n"
   ]
  },
  {
   "cell_type": "code",
   "execution_count": 85,
   "metadata": {},
   "outputs": [
    {
     "data": {
      "text/latex": [
       "$\\displaystyle \\left[\\begin{matrix}1.0 & 1.0 & 4.0 & 1.0 & 4.0 & 16.0\\\\1.0 & 5.0 & 12.0 & 25.0 & 60.0 & 144.0\\\\1.0 & 9.0 & 20.0 & 81.0 & 180.0 & 400.0\\\\1.0 & 7.0 & 28.0 & 49.0 & 196.0 & 784.0\\\\1.0 & 9.0 & 36.0 & 81.0 & 324.0 & 1296.0\\\\1.0 & 11.0 & 44.0 & 121.0 & 484.0 & 1936.0\\end{matrix}\\right]$"
      ],
      "text/plain": [
       "⎡1.0  1.0   4.0    1.0    4.0    16.0 ⎤\n",
       "⎢                                     ⎥\n",
       "⎢1.0  5.0   12.0  25.0   60.0   144.0 ⎥\n",
       "⎢                                     ⎥\n",
       "⎢1.0  9.0   20.0  81.0   180.0  400.0 ⎥\n",
       "⎢                                     ⎥\n",
       "⎢1.0  7.0   28.0  49.0   196.0  784.0 ⎥\n",
       "⎢                                     ⎥\n",
       "⎢1.0  9.0   36.0  81.0   324.0  1296.0⎥\n",
       "⎢                                     ⎥\n",
       "⎣1.0  11.0  44.0  121.0  484.0  1936.0⎦"
      ]
     },
     "execution_count": 85,
     "metadata": {},
     "output_type": "execute_result"
    }
   ],
   "source": [
    "mat = sample_matrix(sample_points=sample_points, degree=d)\n",
    "Matrix(mat)"
   ]
  },
  {
   "cell_type": "code",
   "execution_count": 86,
   "metadata": {},
   "outputs": [
    {
     "data": {
      "image/png": "[encoded data removed]",
      "text/latex": [
       "$\\displaystyle 2.79396772384643 \\cdot 10^{-8}$"
      ],
      "text/plain": [
       "2.7939677238464346e-08"
      ]
     },
     "execution_count": 86,
     "metadata": {},
     "output_type": "execute_result"
    }
   ],
   "source": [
    "np.linalg.det(mat)"
   ]
  }
 ],
 "metadata": {
  "kernelspec": {
   "display_name": "QuantumEnv",
   "language": "python",
   "name": "python3"
  },
  "language_info": {
   "codemirror_mode": {
    "name": "ipython",
    "version": 3
   },
   "file_extension": ".py",
   "mimetype": "text/x-python",
   "name": "python",
   "nbconvert_exporter": "python",
   "pygments_lexer": "ipython3",
   "version": "3.10.12"
  }
 },
 "nbformat": 4,
 "nbformat_minor": 2
}
