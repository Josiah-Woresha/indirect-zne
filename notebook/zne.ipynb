{
 "cells": [
  {
   "cell_type": "markdown",
   "metadata": {},
   "source": [
    "# Indirect Zero-Noise-Extrapolation\n",
    "---"
   ]
  },
  {
   "cell_type": "markdown",
   "metadata": {},
   "source": [
    "This is our configuration:\n",
    "\n",
    "```yml\n",
    "nqubit: 5\n",
    "layer: 10\n",
    "connstraint: Flase\n",
    "```"
   ]
  },
  {
   "cell_type": "markdown",
   "metadata": {},
   "source": [
    "### Linear regression\n",
    "\n",
    "The general single variable linear regression: $E_{linear}(\\lambda)=c_0 + c_1\\lambda$\n",
    "\n",
    "Multivariate linear regression:\n",
    "\n",
    "$$E_{linear}(n_R, n_T, nY)=c_0 + c_1 n_R + c_2 n_T + c_3 n_Y$$\n",
    "\n",
    "Where independent variables are: $n_R, n_T, n_Y$"
   ]
  },
  {
   "cell_type": "code",
   "execution_count": 2,
   "metadata": {},
   "outputs": [],
   "source": [
    "import numpy as np\n",
    "from sklearn.linear_model import LinearRegression\n",
    "import matplotlib.pyplot as plt\n",
    "\n",
    "import itertools\n",
    "import os\n",
    "import pickle\n",
    "import random\n",
    "from collections import Counter, defaultdict\n",
    "from copy import deepcopy\n",
    "from typing import Any, Callable, Generator, Optional\n",
    "# Functional programming utilities.\n",
    "import functools\n",
    "\n",
    "from sympy import *\n",
    "init_printing(use_unicode=True)"
   ]
  },
  {
   "cell_type": "code",
   "execution_count": 3,
   "metadata": {},
   "outputs": [],
   "source": [
    "def get_monomials(n: int, d: int) -> list[str]:\n",
    "    \"\"\"Compute monomials of degree `d` in graded lexicographical order.\"\"\"\n",
    "    variables = [f\"λ_{i}\" for i in range(1, n + 1)]\n",
    "    \n",
    "    monomials = []\n",
    "    for degree in range(d, -1, -1):\n",
    "        # Generate combinations for the current degree\n",
    "        combos = list(itertools.combinations_with_replacement(variables, degree))\n",
    "        \n",
    "        # Sort combinations lexicographically\n",
    "        combos.sort()\n",
    "        \n",
    "        # Construct monomials from sorted combinations\n",
    "        for combo in combos:\n",
    "            monomial_parts = []\n",
    "            counts = Counter(combo)\n",
    "            # Ensure variables are processed in lexicographical order\n",
    "            for var in sorted(counts.keys()):\n",
    "                count = counts[var]\n",
    "                if count > 1:\n",
    "                    monomial_parts.append(f\"{var}**{count}\")\n",
    "                else:\n",
    "                    monomial_parts.append(var)\n",
    "            monomial = \"*\".join(monomial_parts)\n",
    "            # Handle the case where degree is 0\n",
    "            if not monomial:\n",
    "                monomial = \"1\"\n",
    "            monomials.append(monomial)\n",
    "    # \"1\" should be the first monomial. Note that order d > c > b > a means vector of monomials = [a, b, c, d].            \n",
    "    return monomials[::-1]\n",
    "\n",
    "def sample_matrix(sample_points: list[int], degree: int) -> np.ndarray:\n",
    "    \"\"\"Construct a matrix from monomials evaluated at sample points.\"\"\"\n",
    "    n = len(sample_points[0])  # Number of variables based on the first sample point\n",
    "    monomials = get_monomials(n, degree)\n",
    "    matrix = np.zeros((len(sample_points), len(monomials)))\n",
    "\n",
    "    for i, point in enumerate(sample_points):\n",
    "        for j, monomial in enumerate(monomials):\n",
    "            var_mapping = {f\"λ_{k+1}\": point[k] for k in range(n)}\n",
    "            matrix[i, j] = eval(monomial, {}, var_mapping)\n",
    "    return matrix\n",
    "\n",
    "def get_eta_coeffs_from_sample_matrix(mat: np.ndarray) -> list[float]:\n",
    "    \"\"\"Given a sample matrix compute the eta coefficients.\"\"\"\n",
    "    n_rows, n_cols = mat.shape\n",
    "    if n_rows != n_cols:\n",
    "        raise ValueError(\"The matrix must be square.\")\n",
    "\n",
    "    det_m = np.linalg.det(mat)    \n",
    "    if det_m == 0:\n",
    "        raise ValueError(\"The matrix is singular.\")\n",
    "    \n",
    "    terms = []\n",
    "    for i in range(n_rows):\n",
    "        new_mat = mat.copy()\n",
    "        new_mat[i] = np.array([[0] * (n_cols - 1) + [1]])        \n",
    "        terms.append(np.linalg.det(new_mat) / det_m)\n",
    "\n",
    "    return terms\n",
    "\n",
    "def get_eta_coeffs(lre_scale_factors: list[float], degree: int) -> list[float]:\n",
    "    \"\"\"Obtain eta coefficients from list of scale factors and degree.\"\"\"\n",
    "    mat = sample_matrix(sample_points=lre_scale_factors, degree=degree)\n",
    "    return get_eta_coeffs_from_sample_matrix(mat)\n",
    "\n",
    "def get_eta_coeffs_single_variable(scale_factors: list[float]) -> list[float]:\n",
    "    \"\"\"Returns the array of single-variable Richardson extrapolation coefficients associated\n",
    "    to the input array of scale factors.\"\"\"\n",
    "    # Lagrange interpolation formula.\n",
    "    richardson_coeffs = []\n",
    "    for l in scale_factors:\n",
    "        coeff = 1.0\n",
    "        for l_prime in scale_factors:\n",
    "            if l_prime == l:\n",
    "                continue\n",
    "            coeff *= l_prime / (l_prime - l)\n",
    "        richardson_coeffs.append(coeff)\n",
    "\n",
    "    return richardson_coeffs"
   ]
  },
  {
   "cell_type": "code",
   "execution_count": 4,
   "metadata": {},
   "outputs": [],
   "source": [
    "# sample_points = [ (4, 1, 0), (12, 3, 1), (20, 5, 2), (28, 7, 3), (36, 9, 4), (44, 11, 5), (52, 13, 6), (60, 15, 7), (68, 17, 8), (76, 19, 9), (84, 21, 10), (92, 23, 11), (100, 25, 12), (108, 27, 13), (116, 29, 14), (124, 31, 15), (132, 33, 16), (140, 35, 17), (148, 37, 18), (156, 39, 19)]\n",
    "# sample_points = [(4, 1, -5.907748909320789, 0),\n",
    "# (12, 1, -5.916920204491979, 0),\n",
    "# (12, 3, -5.800746641641066, 1),\n",
    "# (20, 3, -5.764809805003449, 1),\n",
    "# (20, 5, -5.679828979633399, 2)\n",
    "# ] "
   ]
  },
  {
   "cell_type": "code",
   "execution_count": 5,
   "metadata": {},
   "outputs": [
    {
     "name": "stdout",
     "output_type": "stream",
     "text": [
      "Monomials: ['1', 'λ_2', 'λ_1']\n",
      "Monomials: 3\n"
     ]
    }
   ],
   "source": [
    "n, d = 2, 1\n",
    "sample_points = [\n",
    "    (4, 1), (12, 5), (20, 5)\n",
    "]\n",
    "monomials = get_monomials(n=n, d=d)\n",
    "print(f\"Monomials: {monomials}\")\n",
    "print(f\"Monomials: {len(monomials)}\")"
   ]
  },
  {
   "cell_type": "code",
   "execution_count": 6,
   "metadata": {},
   "outputs": [
    {
     "data": {
      "text/latex": [
       "$\\displaystyle \\left[\\begin{matrix}1.0 & 1.0 & 4.0\\\\1.0 & 5.0 & 12.0\\\\1.0 & 5.0 & 20.0\\end{matrix}\\right]$"
      ],
      "text/plain": [
       "⎡1.0  1.0  4.0 ⎤\n",
       "⎢              ⎥\n",
       "⎢1.0  5.0  12.0⎥\n",
       "⎢              ⎥\n",
       "⎣1.0  5.0  20.0⎦"
      ]
     },
     "execution_count": 6,
     "metadata": {},
     "output_type": "execute_result"
    }
   ],
   "source": [
    "mat = sample_matrix(sample_points=sample_points, degree=d)\n",
    "Matrix(mat)"
   ]
  },
  {
   "cell_type": "code",
   "execution_count": 7,
   "metadata": {},
   "outputs": [],
   "source": [
    "m = np.linalg.det(mat)"
   ]
  },
  {
   "cell_type": "code",
   "execution_count": 8,
   "metadata": {},
   "outputs": [
    {
     "data": {
      "image/png": "[encoded data removed]",
      "text/latex": [
       "$\\displaystyle 32.0$"
      ],
      "text/plain": [
       "31.999999999999986"
      ]
     },
     "execution_count": 8,
     "metadata": {},
     "output_type": "execute_result"
    }
   ],
   "source": [
    "m"
   ]
  },
  {
   "cell_type": "code",
   "execution_count": 9,
   "metadata": {},
   "outputs": [
    {
     "name": "stdout",
     "output_type": "stream",
     "text": [
      "0.25*λ2 - 1.25\n"
     ]
    }
   ],
   "source": [
    "from sympy import Matrix\n",
    "\n",
    "# Define the matrix\n",
    "m1 = Matrix([\n",
    "    [1, Symbol('λ1'), Symbol('λ2')],\n",
    "    [1, 12, 5],\n",
    "    [1, 20, 5]\n",
    "])\n",
    "\n",
    "# Calculate determinant\n",
    "det1 = m1.det()\n",
    "\n",
    "print(det1/m)\n"
   ]
  },
  {
   "cell_type": "code",
   "execution_count": 10,
   "metadata": {},
   "outputs": [
    {
     "name": "stdout",
     "output_type": "stream",
     "text": [
      "0.125*λ1 - 0.5*λ2\n"
     ]
    }
   ],
   "source": [
    "# Define the matrix\n",
    "m2 = Matrix([\n",
    "    [1, 4, 1],\n",
    "    [1, Symbol('λ1'), Symbol('λ2')],\n",
    "    [1, 20, 5]\n",
    "])\n",
    "\n",
    "# Calculate determinant\n",
    "det2 = m2.det()\n",
    "\n",
    "print(det2/m)"
   ]
  },
  {
   "cell_type": "code",
   "execution_count": 11,
   "metadata": {},
   "outputs": [
    {
     "name": "stdout",
     "output_type": "stream",
     "text": [
      "-0.125*λ1 + 0.25*λ2 + 0.25\n"
     ]
    }
   ],
   "source": [
    "m3 = Matrix([\n",
    "    [1, 4, 1],\n",
    "    [1, 12, 5],\n",
    "    [1, Symbol('λ1'), Symbol('λ2')]\n",
    "])\n",
    "\n",
    "# Calculate determinant\n",
    "det3 = m3.det()\n",
    "\n",
    "print(det3/m)"
   ]
  },
  {
   "cell_type": "code",
   "execution_count": 12,
   "metadata": {},
   "outputs": [
    {
     "name": "stdout",
     "output_type": "stream",
     "text": [
      "-1\n"
     ]
    }
   ],
   "source": [
    "print((det1/32)+(det2/32)+(det3/32))"
   ]
  },
  {
   "cell_type": "code",
   "execution_count": 13,
   "metadata": {},
   "outputs": [
    {
     "name": "stdout",
     "output_type": "stream",
     "text": [
      "Monomials: ['1', 'λ_2', 'λ_1']\n",
      "Monomials: 3\n"
     ]
    },
    {
     "data": {
      "text/latex": [
       "$\\displaystyle \\left[\\begin{matrix}1.0 & 0 & 0\\\\1.0 & 1.0 & 0\\\\1.0 & 1.0 & 1.0\\end{matrix}\\right]$"
      ],
      "text/plain": [
       "⎡1.0   0    0 ⎤\n",
       "⎢             ⎥\n",
       "⎢1.0  1.0   0 ⎥\n",
       "⎢             ⎥\n",
       "⎣1.0  1.0  1.0⎦"
      ]
     },
     "execution_count": 13,
     "metadata": {},
     "output_type": "execute_result"
    }
   ],
   "source": [
    "n =2\n",
    "d= 1\n",
    "sample_points = [(0,0), (0,1), (1,1)]\n",
    "monomials = get_monomials(n=n, d=d)\n",
    "print(f\"Monomials: {monomials}\")\n",
    "print(f\"Monomials: {len(monomials)}\")\n",
    "mat = sample_matrix(sample_points=sample_points, degree=d)\n",
    "Matrix(mat)"
   ]
  },
  {
   "cell_type": "code",
   "execution_count": 14,
   "metadata": {},
   "outputs": [
    {
     "data": {
      "image/png": "[encoded data removed]",
      "text/latex": [
       "$\\displaystyle \\left[ 0.0, \\  -1.0, \\  1.0\\right]$"
      ],
      "text/plain": [
       "[0.0, -1.0, 1.0]"
      ]
     },
     "execution_count": 14,
     "metadata": {},
     "output_type": "execute_result"
    }
   ],
   "source": [
    "get_eta_coeffs_from_sample_matrix(mat)"
   ]
  },
  {
   "cell_type": "code",
   "execution_count": null,
   "metadata": {},
   "outputs": [],
   "source": []
  },
  {
   "cell_type": "code",
   "execution_count": 17,
   "metadata": {},
   "outputs": [
    {
     "name": "stdout",
     "output_type": "stream",
     "text": [
      "Monomials: ['1', 'λ_2', 'λ_1', 'λ_2**2', 'λ_1*λ_2', 'λ_1**2']\n",
      "Monomials: 6\n"
     ]
    }
   ],
   "source": [
    "n, d = 2, 2\n",
    "sample_points = [\n",
    "    (4, 1), (12, 7), (36, 5), (36, 13), (52, 5), (52, 13)\n",
    "]\n",
    "monomials = get_monomials(n=n, d=d)\n",
    "print(f\"Monomials: {monomials}\")\n",
    "print(f\"Monomials: {len(monomials)}\")\n",
    "\n"
   ]
  },
  {
   "cell_type": "code",
   "execution_count": 18,
   "metadata": {},
   "outputs": [
    {
     "data": {
      "text/latex": [
       "$\\displaystyle \\left[\\begin{matrix}1.0 & 1.0 & 4.0 & 1.0 & 4.0 & 16.0\\\\1.0 & 7.0 & 12.0 & 49.0 & 84.0 & 144.0\\\\1.0 & 5.0 & 36.0 & 25.0 & 180.0 & 1296.0\\\\1.0 & 13.0 & 36.0 & 169.0 & 468.0 & 1296.0\\\\1.0 & 5.0 & 52.0 & 25.0 & 260.0 & 2704.0\\\\1.0 & 13.0 & 52.0 & 169.0 & 676.0 & 2704.0\\end{matrix}\\right]$"
      ],
      "text/plain": [
       "⎡1.0  1.0   4.0    1.0    4.0    16.0 ⎤\n",
       "⎢                                     ⎥\n",
       "⎢1.0  7.0   12.0  49.0   84.0   144.0 ⎥\n",
       "⎢                                     ⎥\n",
       "⎢1.0  5.0   36.0  25.0   180.0  1296.0⎥\n",
       "⎢                                     ⎥\n",
       "⎢1.0  13.0  36.0  169.0  468.0  1296.0⎥\n",
       "⎢                                     ⎥\n",
       "⎢1.0  5.0   52.0  25.0   260.0  2704.0⎥\n",
       "⎢                                     ⎥\n",
       "⎣1.0  13.0  52.0  169.0  676.0  2704.0⎦"
      ]
     },
     "execution_count": 18,
     "metadata": {},
     "output_type": "execute_result"
    }
   ],
   "source": [
    "mat = sample_matrix(sample_points=sample_points, degree=d)\n",
    "Matrix(mat)"
   ]
  },
  {
   "cell_type": "code",
   "execution_count": 34,
   "metadata": {},
   "outputs": [],
   "source": [
    "A = np.linalg.det(mat)"
   ]
  },
  {
   "cell_type": "code",
   "execution_count": 20,
   "metadata": {},
   "outputs": [
    {
     "data": {
      "image/png": "[encoded data removed]",
      "text/latex": [
       "$\\displaystyle \\left[ 0.000186011904761905, \\  0.000744047619047619, \\  -0.00223214285714286, \\  -0.000186011904761905, \\  0.00139508928571429, \\  9.30059523809515 \\cdot 10^{-5}\\right]$"
      ],
      "text/plain": [
       "[0.00018601190476190505, 0.000744047619047619, -0.0022321428571428596, -0.0001\n",
       "8601190476190537, 0.0013950892857142881, 9.300595238095152e-05]"
      ]
     },
     "execution_count": 20,
     "metadata": {},
     "output_type": "execute_result"
    }
   ],
   "source": [
    "get_eta_coeffs_from_sample_matrix(mat)"
   ]
  },
  {
   "cell_type": "markdown",
   "metadata": {},
   "source": [
    "$ E = c_1 + c_2 n_T + c_3 n_R + c_4 n^{2}_{T} + c_5 n_R n_T + c_6 n^{2}_T$"
   ]
  },
  {
   "cell_type": "code",
   "execution_count": null,
   "metadata": {},
   "outputs": [],
   "source": [
    "(4, 1, -5.942817754597376), (12, 7, 5.610630688805676), (36, 5, -5.61959508599682), (36, 13, -5.267674373577144), (52, 5, -5.540521346789942), (52, 13, -5.135264624148199)"
   ]
  },
  {
   "cell_type": "code",
   "execution_count": 35,
   "metadata": {},
   "outputs": [
    {
     "data": {
      "image/png": "[encoded data removed]",
      "text/latex": [
       "$\\displaystyle -1056964608.0$"
      ],
      "text/plain": [
       "-1056964607.9999993"
      ]
     },
     "execution_count": 35,
     "metadata": {},
     "output_type": "execute_result"
    }
   ],
   "source": [
    "A"
   ]
  },
  {
   "cell_type": "code",
   "execution_count": 43,
   "metadata": {},
   "outputs": [
    {
     "data": {
      "text/plain": [
       "array([[1.000e+00, 1.000e+00, 4.000e+00, 1.000e+00, 4.000e+00, 1.600e+01],\n",
       "       [1.000e+00, 7.000e+00, 1.200e+01, 4.900e+01, 8.400e+01, 1.440e+02],\n",
       "       [1.000e+00, 5.000e+00, 3.600e+01, 2.500e+01, 1.800e+02, 1.296e+03],\n",
       "       [1.000e+00, 1.300e+01, 3.600e+01, 1.690e+02, 4.680e+02, 1.296e+03],\n",
       "       [1.000e+00, 5.000e+00, 5.200e+01, 2.500e+01, 2.600e+02, 2.704e+03],\n",
       "       [1.000e+00, 1.300e+01, 5.200e+01, 1.690e+02, 6.760e+02, 2.704e+03]])"
      ]
     },
     "execution_count": 43,
     "metadata": {},
     "output_type": "execute_result"
    }
   ],
   "source": [
    "mat"
   ]
  },
  {
   "cell_type": "code",
   "execution_count": 52,
   "metadata": {},
   "outputs": [],
   "source": [
    "A = np.array([[1.000e+00, 1.000e+00, 4.000e+00, 1.000e+00, 4.000e+00, 1.600e+01],\n",
    "       [1.000e+00, 7.000e+00, 1.200e+01, 4.900e+01, 8.400e+01, 1.440e+02],\n",
    "       [1.000e+00, 5.000e+00, 3.600e+01, 2.500e+01, 1.800e+02, 1.296e+03],\n",
    "       [1.000e+00, 1.300e+01, 3.600e+01, 1.690e+02, 4.680e+02, 1.296e+03],\n",
    "       [1.000e+00, 5.000e+00, 5.200e+01, 2.500e+01, 2.600e+02, 2.704e+03],\n",
    "       [1.000e+00, 1.300e+01, 5.200e+01, 1.690e+02, 6.760e+02, 2.704e+03]])\n",
    "\n",
    "M1 = np.array([[1, 0, 0, 0, 0, 0],\n",
    "       [1.000e+00, 7.000e+00, 1.200e+01, 4.900e+01, 8.400e+01, 1.440e+02],\n",
    "       [1.000e+00, 5.000e+00, 3.600e+01, 2.500e+01, 1.800e+02, 1.296e+03],\n",
    "       [1.000e+00, 1.300e+01, 3.600e+01, 1.690e+02, 4.680e+02, 1.296e+03],\n",
    "       [1.000e+00, 5.000e+00, 5.200e+01, 2.500e+01, 2.600e+02, 2.704e+03],\n",
    "       [1.000e+00, 1.300e+01, 5.200e+01, 1.690e+02, 6.760e+02, 2.704e+03]])\n",
    "\n",
    "\n",
    "\n",
    "M2 = np.array([[1.000e+00, 1.000e+00, 4.000e+00, 1.000e+00, 4.000e+00, 1.600e+01],\n",
    "       [1, 0, 0, 0, 0, 0],\n",
    "       [1.000e+00, 5.000e+00, 3.600e+01, 2.500e+01, 1.800e+02, 1.296e+03],\n",
    "       [1.000e+00, 1.300e+01, 3.600e+01, 1.690e+02, 4.680e+02, 1.296e+03],\n",
    "       [1.000e+00, 5.000e+00, 5.200e+01, 2.500e+01, 2.600e+02, 2.704e+03],\n",
    "       [1.000e+00, 1.300e+01, 5.200e+01, 1.690e+02, 6.760e+02, 2.704e+03]])\n",
    "\n",
    "M3 = np.array([[1.000e+00, 1.000e+00, 4.000e+00, 1.000e+00, 4.000e+00, 1.600e+01],\n",
    "       [1.000e+00, 7.000e+00, 1.200e+01, 4.900e+01, 8.400e+01, 1.440e+02],\n",
    "       [1, 0, 0, 0, 0, 0],\n",
    "       [1.000e+00, 1.300e+01, 3.600e+01, 1.690e+02, 4.680e+02, 1.296e+03],\n",
    "       [1.000e+00, 5.000e+00, 5.200e+01, 2.500e+01, 2.600e+02, 2.704e+03],\n",
    "       [1.000e+00, 1.300e+01, 5.200e+01, 1.690e+02, 6.760e+02, 2.704e+03]])\n",
    "\n",
    "M4 = np.array([[1.000e+00, 1.000e+00, 4.000e+00, 1.000e+00, 4.000e+00, 1.600e+01],\n",
    "       [1.000e+00, 7.000e+00, 1.200e+01, 4.900e+01, 8.400e+01, 1.440e+02],\n",
    "       [1.000e+00, 5.000e+00, 3.600e+01, 2.500e+01, 1.800e+02, 1.296e+03],\n",
    "       [1, 0, 0, 0, 0, 0],\n",
    "       [1.000e+00, 5.000e+00, 5.200e+01, 2.500e+01, 2.600e+02, 2.704e+03],\n",
    "       [1.000e+00, 1.300e+01, 5.200e+01, 1.690e+02, 6.760e+02, 2.704e+03]])\n",
    "\n",
    "M5 = np.array([[1.000e+00, 1.000e+00, 4.000e+00, 1.000e+00, 4.000e+00, 1.600e+01],\n",
    "       [1.000e+00, 7.000e+00, 1.200e+01, 4.900e+01, 8.400e+01, 1.440e+02],\n",
    "       [1.000e+00, 5.000e+00, 3.600e+01, 2.500e+01, 1.800e+02, 1.296e+03],\n",
    "       [1.000e+00, 1.300e+01, 3.600e+01, 1.690e+02, 4.680e+02, 1.296e+03],\n",
    "       [1, 0, 0, 0, 0, 0],\n",
    "       [1.000e+00, 1.300e+01, 5.200e+01, 1.690e+02, 6.760e+02, 2.704e+03]])\n",
    "\n",
    "M6 = np.array([[1.000e+00, 1.000e+00, 4.000e+00, 1.000e+00, 4.000e+00, 1.600e+01],\n",
    "       [1.000e+00, 7.000e+00, 1.200e+01, 4.900e+01, 8.400e+01, 1.440e+02],\n",
    "       [1.000e+00, 5.000e+00, 3.600e+01, 2.500e+01, 1.800e+02, 1.296e+03],\n",
    "       [1.000e+00, 1.300e+01, 3.600e+01, 1.690e+02, 4.680e+02, 1.296e+03],\n",
    "       [1.000e+00, 5.000e+00, 5.200e+01, 2.500e+01, 2.600e+02, 2.704e+03],\n",
    "       [1, 0, 0, 0, 0, 0]])"
   ]
  },
  {
   "cell_type": "code",
   "execution_count": 55,
   "metadata": {},
   "outputs": [
    {
     "data": {
      "text/latex": [
       "$\\displaystyle \\left[\\begin{matrix}1.0 & 1.0 & 4.0 & 1.0 & 4.0 & 16.0\\\\1.0 & 7.0 & 12.0 & 49.0 & 84.0 & 144.0\\\\1.0 & 5.0 & 36.0 & 25.0 & 180.0 & 1296.0\\\\1.0 & 13.0 & 36.0 & 169.0 & 468.0 & 1296.0\\\\1.0 & 5.0 & 52.0 & 25.0 & 260.0 & 2704.0\\\\1.0 & 0 & 0 & 0 & 0 & 0\\end{matrix}\\right]$"
      ],
      "text/plain": [
       "⎡1.0  1.0   4.0    1.0    4.0    16.0 ⎤\n",
       "⎢                                     ⎥\n",
       "⎢1.0  7.0   12.0  49.0   84.0   144.0 ⎥\n",
       "⎢                                     ⎥\n",
       "⎢1.0  5.0   36.0  25.0   180.0  1296.0⎥\n",
       "⎢                                     ⎥\n",
       "⎢1.0  13.0  36.0  169.0  468.0  1296.0⎥\n",
       "⎢                                     ⎥\n",
       "⎢1.0  5.0   52.0  25.0   260.0  2704.0⎥\n",
       "⎢                                     ⎥\n",
       "⎣1.0   0     0      0      0      0   ⎦"
      ]
     },
     "execution_count": 55,
     "metadata": {},
     "output_type": "execute_result"
    }
   ],
   "source": [
    "Matrix(M6)"
   ]
  },
  {
   "cell_type": "code",
   "execution_count": 61,
   "metadata": {},
   "outputs": [],
   "source": [
    "detA = np.linalg.det(mat)"
   ]
  },
  {
   "cell_type": "code",
   "execution_count": 62,
   "metadata": {},
   "outputs": [
    {
     "data": {
      "image/png": "[encoded data removed]",
      "text/latex": [
       "$\\displaystyle -1056964608.0$"
      ],
      "text/plain": [
       "-1056964607.9999993"
      ]
     },
     "execution_count": 62,
     "metadata": {},
     "output_type": "execute_result"
    }
   ],
   "source": [
    "detA"
   ]
  },
  {
   "cell_type": "code",
   "execution_count": 67,
   "metadata": {},
   "outputs": [],
   "source": [
    "RE = (-5.942817754597376 * np.linalg.det(M1)/detA) + (-5.610630688805676*np.linalg.det(M2)/detA) + (-5.61959508599682 * np.linalg.det(M3)/detA) + (-5.267674373577144  * np.linalg.det(M4)/detA) + (-5.540521346789942 * np.linalg.det(M5)/detA) + (-5.135264624148199 * np.linalg.det(M6)/detA)"
   ]
  },
  {
   "cell_type": "code",
   "execution_count": 68,
   "metadata": {},
   "outputs": [
    {
     "data": {
      "image/png": "[encoded data removed]",
      "text/latex": [
       "$\\displaystyle -6.00752391934362$"
      ],
      "text/plain": [
       "-6.007523919343623"
      ]
     },
     "execution_count": 68,
     "metadata": {},
     "output_type": "execute_result"
    }
   ],
   "source": [
    "RE"
   ]
  },
  {
   "cell_type": "code",
   "execution_count": 70,
   "metadata": {},
   "outputs": [],
   "source": [
    "a = -6.00752391934362\n",
    "b = -6.026674183332272"
   ]
  },
  {
   "cell_type": "code",
   "execution_count": 72,
   "metadata": {},
   "outputs": [
    {
     "data": {
      "text/plain": [
       "True"
      ]
     },
     "execution_count": 72,
     "metadata": {},
     "output_type": "execute_result"
    }
   ],
   "source": [
    "b<a"
   ]
  },
  {
   "cell_type": "code",
   "execution_count": 73,
   "metadata": {},
   "outputs": [
    {
     "name": "stdout",
     "output_type": "stream",
     "text": [
      "Result: -6.007523919343623\n"
     ]
    }
   ],
   "source": [
    "import numpy as np\n",
    "\n",
    "# Coefficients and matrices\n",
    "coefficients = [-5.942817754597376, -5.610630688805676, -5.61959508599682, -5.267674373577144, -5.540521346789942, -5.135264624148199]\n",
    "matrices = [M1, M2, M3, M4, M5, M6]  # Assuming M1, M2, ..., M6 are defined\n",
    "\n",
    "# Calculate detA\n",
    "detA = np.linalg.det(A)  # Assuming A is defined\n",
    "\n",
    "# Initialize result\n",
    "RE = 0\n",
    "\n",
    "# Loop over coefficients and matrices\n",
    "for coeff, matrix in zip(coefficients, matrices):\n",
    "    RE += coeff * np.linalg.det(matrix) / detA\n",
    "\n",
    "print(\"Result:\", RE)\n"
   ]
  },
  {
   "cell_type": "code",
   "execution_count": null,
   "metadata": {},
   "outputs": [],
   "source": []
  }
 ],
 "metadata": {
  "kernelspec": {
   "display_name": "QuantumEnv",
   "language": "python",
   "name": "python3"
  },
  "language_info": {
   "codemirror_mode": {
    "name": "ipython",
    "version": 3
   },
   "file_extension": ".py",
   "mimetype": "text/x-python",
   "name": "python",
   "nbconvert_exporter": "python",
   "pygments_lexer": "ipython3",
   "version": "3.10.12"
  }
 },
 "nbformat": 4,
 "nbformat_minor": 2
}
